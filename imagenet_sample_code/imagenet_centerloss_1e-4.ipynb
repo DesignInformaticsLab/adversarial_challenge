{
 "cells": [
  {
   "cell_type": "markdown",
   "metadata": {},
   "source": [
    "## Parameters"
   ]
  },
  {
   "cell_type": "code",
   "execution_count": 1,
   "metadata": {
    "ExecuteTime": {
     "end_time": "2017-04-23T12:58:05.100181",
     "start_time": "2017-04-23T12:58:05.098147"
    }
   },
   "outputs": [],
   "source": [
    "LAMBDA = 1e-4\n",
    "CENTER_LOSS_ALPHA = 0.5\n",
    "NUM_CLASSES = 2\n",
    "batch_size = 128\n"
   ]
  },
  {
   "cell_type": "markdown",
   "metadata": {},
   "source": [
    "## Import modules"
   ]
  },
  {
   "cell_type": "code",
   "execution_count": 2,
   "metadata": {
    "ExecuteTime": {
     "end_time": "2017-04-23T12:58:06.723861",
     "start_time": "2017-04-23T12:58:05.101724"
    }
   },
   "outputs": [
    {
     "name": "stderr",
     "output_type": "stream",
     "text": [
      "/home/doi6/anaconda2/lib/python2.7/site-packages/h5py/__init__.py:36: FutureWarning: Conversion of the second argument of issubdtype from `float` to `np.floating` is deprecated. In future, it will be treated as `np.float64 == np.dtype(float).type`.\n",
      "  from ._conv import register_converters as _register_converters\n"
     ]
    }
   ],
   "source": [
    "import os\n",
    "import numpy as np\n",
    "import tensorflow as tf\n",
    "import tflearn\n",
    "# from tensorflow.examples.tutorials.mnist import input_data\n",
    "\n",
    "slim = tf.contrib.slim\n",
    "os.environ['CUDA_VISIBLE_DEVICES'] = '0'"
   ]
  },
  {
   "cell_type": "markdown",
   "metadata": {},
   "source": [
    "## Construct network"
   ]
  },
  {
   "cell_type": "code",
   "execution_count": 3,
   "metadata": {
    "ExecuteTime": {
     "end_time": "2017-04-23T12:58:06.729925",
     "start_time": "2017-04-23T12:58:06.724981"
    }
   },
   "outputs": [],
   "source": [
    "with tf.name_scope('input'):\n",
    "    input_images = tf.placeholder(tf.float32, shape=(batch_size,64,64,3), name='input_images')\n",
    "    labels = tf.placeholder(tf.int64, shape=(batch_size), name='labels')\n",
    "    \n",
    "global_step = tf.Variable(0, trainable=False, name='global_step')"
   ]
  },
  {
   "cell_type": "code",
   "execution_count": 4,
   "metadata": {
    "ExecuteTime": {
     "end_time": "2017-04-23T12:58:06.803814",
     "start_time": "2017-04-23T12:58:06.730853"
    },
    "code_folding": []
   },
   "outputs": [],
   "source": [
    "def get_center_loss(features, labels, alpha, num_classes):\n",
    "    \"\"\"获取center loss及center的更新op\n",
    "    \n",
    "    Arguments:\n",
    "        features: Tensor,表征样本特征,一般使用某个fc层的输出,shape应该为[batch_size, feature_length].\n",
    "        labels: Tensor,表征样本label,非one-hot编码,shape应为[batch_size].\n",
    "        alpha: 0-1之间的数字,控制样本类别中心的学习率,细节参考原文.\n",
    "        num_classes: 整数,表明总共有多少个类别,网络分类输出有多少个神经元这里就取多少.\n",
    "    \n",
    "    Return：\n",
    "        loss: Tensor,可与softmax loss相加作为总的loss进行优化.\n",
    "        centers: Tensor,存储样本中心值的Tensor，仅查看样本中心存储的具体数值时有用.\n",
    "        centers_update_op: op,用于更新样本中心的op，在训练时需要同时运行该op，否则样本中心不会更新\n",
    "    \"\"\"\n",
    "    # 获取特征的维数，例如256维\n",
    "    len_features = features.get_shape()[1]\n",
    "    # 建立一个Variable,shape为[num_classes, len_features]，用于存储整个网络的样本中心，\n",
    "    # 设置trainable=False是因为样本中心不是由梯度进行更新的\n",
    "    centers = tf.get_variable('centers', [num_classes, len_features], dtype=tf.float32,\n",
    "        initializer=tf.constant_initializer(0), trainable=False)\n",
    "    # 将label展开为一维的，输入如果已经是一维的，则该动作其实无必要\n",
    "    labels = tf.reshape(labels, [-1])\n",
    "    \n",
    "    # 根据样本label,获取mini-batch中每一个样本对应的中心值\n",
    "    centers_batch = tf.gather(centers, labels)\n",
    "    # 计算loss\n",
    "    loss = tf.nn.l2_loss(features - centers_batch)\n",
    "    \n",
    "    # 当前mini-batch的特征值与它们对应的中心值之间的差\n",
    "    diff = centers_batch - features\n",
    "    \n",
    "    # 获取mini-batch中同一类别样本出现的次数,了解原理请参考原文公式(4)\n",
    "    unique_label, unique_idx, unique_count = tf.unique_with_counts(labels)\n",
    "    appear_times = tf.gather(unique_count, unique_idx)\n",
    "    appear_times = tf.reshape(appear_times, [-1, 1])\n",
    "    \n",
    "    diff = diff / tf.cast((1 + appear_times), tf.float32)\n",
    "    diff = alpha * diff\n",
    "    \n",
    "    centers_update_op = tf.scatter_sub(centers, labels, diff)\n",
    "    \n",
    "    return loss, centers, centers_update_op"
   ]
  },
  {
   "cell_type": "code",
   "execution_count": 5,
   "metadata": {
    "ExecuteTime": {
     "end_time": "2017-04-23T12:58:06.909774",
     "start_time": "2017-04-23T12:58:06.804749"
    },
    "code_folding": []
   },
   "outputs": [],
   "source": [
    "\n",
    "def inference(input_images, num_class=10, reuse=False):\n",
    "    with slim.arg_scope([slim.conv2d], kernel_size=3, padding='SAME'):\n",
    "        with slim.arg_scope([slim.max_pool2d], kernel_size=2):\n",
    "\n",
    "            x = slim.conv2d(input_images, num_outputs=64, scope='conv1_1')\n",
    "            x = slim.conv2d(x, num_outputs=64, scope='conv1_2')\n",
    "            x = slim.max_pool2d(x, scope='pool1')\n",
    "\n",
    "            x = slim.conv2d(x, num_outputs=128, scope='conv2_1')\n",
    "            x = slim.conv2d(x, num_outputs=128, scope='conv2_2')\n",
    "            x = slim.max_pool2d(x, scope='pool2')\n",
    "\n",
    "            x = slim.conv2d(x, num_outputs=256, scope='conv3_1')\n",
    "            x = slim.conv2d(x, num_outputs=256, scope='conv3_2')\n",
    "            x = slim.max_pool2d(x, scope='pool3')\n",
    "\n",
    "            x = slim.conv2d(x, num_outputs=512, scope='conv4_1')\n",
    "            x = slim.conv2d(x, num_outputs=512, scope='conv4_2')\n",
    "            x = slim.max_pool2d(x, scope='pool3')\n",
    "\n",
    "            x = slim.flatten(x, scope='flatten')\n",
    "\n",
    "            x = slim.fully_connected(x, num_outputs=512, activation_fn=None, scope='fc0')\n",
    "\n",
    "            feature2 = x = slim.fully_connected(x, num_outputs=32, activation_fn=None, scope='fc1')\n",
    "\n",
    "            feature1 = x =slim.fully_connected(x, num_outputs=2, activation_fn=None, scope='fc2')\n",
    "\n",
    "            x = tflearn.prelu(x)\n",
    "\n",
    "            x = slim.fully_connected(x, num_outputs=num_class, activation_fn=None, scope='fc3')\n",
    "\n",
    "    feature_list = [feature1, feature2]\n",
    "    return x, feature_list"
   ]
  },
  {
   "cell_type": "code",
   "execution_count": 6,
   "metadata": {
    "ExecuteTime": {
     "end_time": "2017-04-23T12:58:07.002232",
     "start_time": "2017-04-23T12:58:06.911010"
    },
    "code_folding": []
   },
   "outputs": [],
   "source": [
    "def build_network(input_images, labels, ratio=0.5, reuse=False):\n",
    "    logits, feature_list = inference(input_images, num_class=2)\n",
    "    \n",
    "    with tf.name_scope('loss'):\n",
    "        with tf.variable_scope('center_loss1'):\n",
    "            center_loss1, centers1, centers_update_op1 = get_center_loss(feature_list[0], labels, CENTER_LOSS_ALPHA, NUM_CLASSES)\n",
    "        with tf.variable_scope('center_loss2'):\n",
    "            center_loss2, centers2, centers_update_op2 = get_center_loss(feature_list[1], labels, CENTER_LOSS_ALPHA, NUM_CLASSES)\n",
    "        with tf.name_scope('softmax_loss'):\n",
    "            softmax_loss = tf.reduce_mean(tf.nn.sparse_softmax_cross_entropy_with_logits(labels=labels, logits=logits))\n",
    "        with tf.name_scope('total_loss'):\n",
    "            total_loss = softmax_loss + ratio * center_loss1#(center_loss1*0.8 + center_loss2*0.2) * 4\n",
    "    \n",
    "    with tf.name_scope('acc'):\n",
    "        accuracy = tf.reduce_mean(tf.cast(tf.equal(tf.arg_max(logits, 1), labels), tf.float32))\n",
    "    \n",
    "    with tf.name_scope('loss/'):\n",
    "        tf.summary.scalar('CenterLoss1', center_loss1)\n",
    "        tf.summary.scalar('CenterLoss2', center_loss2)\n",
    "        tf.summary.scalar('SoftmaxLoss', softmax_loss)\n",
    "        tf.summary.scalar('TotalLoss', total_loss)\n",
    "        \n",
    "    centers_update_op_list = [centers_update_op1, centers_update_op2]\n",
    "    return logits, feature_list, total_loss, accuracy, centers_update_op_list"
   ]
  },
  {
   "cell_type": "code",
   "execution_count": 7,
   "metadata": {
    "ExecuteTime": {
     "end_time": "2017-04-23T12:58:07.300662",
     "start_time": "2017-04-23T12:58:07.004232"
    },
    "scrolled": true
   },
   "outputs": [],
   "source": [
    "with tf.variable_scope(\"build_network\", reuse=False):\n",
    "    logits, feature_list, total_loss, accuracy, centers_update_op_list = build_network(input_images, labels, ratio=LAMBDA)\n",
    "features = feature_list[0]\n",
    "centers_update_op1 = centers_update_op_list[0]\n",
    "centers_update_op2 = centers_update_op_list[1]\n"
   ]
  },
  {
   "cell_type": "markdown",
   "metadata": {},
   "source": [
    "## Prepare data"
   ]
  },
  {
   "cell_type": "code",
   "execution_count": 8,
   "metadata": {},
   "outputs": [],
   "source": [
    "train_images = np.load('train_data.npy').item()['image'] / 255.\n",
    "train_labels = np.load('train_data.npy').item()['label'] \n",
    "\n",
    "train_image_5 = train_images[train_labels==5]\n",
    "train_image_7 = train_images[train_labels==7]\n",
    "train_images = np.concatenate([train_image_5, train_image_7],0)\n",
    "train_labels = np.asarray( [0]*len(train_image_5) + [1]*len(train_image_7) )\n",
    "from random import shuffle\n",
    "idx = range(len(train_images))\n",
    "shuffle(idx)\n",
    "train_images = train_images[idx] \n",
    "train_labels = train_labels[idx]\n",
    "\n",
    "test_images = train_images[:200]\n",
    "test_labels = train_labels[:200]"
   ]
  },
  {
   "cell_type": "code",
   "execution_count": 9,
   "metadata": {
    "scrolled": false
   },
   "outputs": [
    {
     "name": "stdout",
     "output_type": "stream",
     "text": [
      "(1.0, 0.0)\n",
      "label: 1\n"
     ]
    },
    {
     "data": {
      "image/png": "[encoded data removed]",
      "text/plain": [
       "<Figure size 432x288 with 1 Axes>"
      ]
     },
     "metadata": {},
     "output_type": "display_data"
    }
   ],
   "source": [
    "% matplotlib inline\n",
    "import matplotlib.pyplot as plt\n",
    "idx = 40\n",
    "print(np.max(train_images[idx]), np.min(train_images[idx]))\n",
    "plt.figure()\n",
    "plt.imshow(train_images[idx])\n",
    "print('label: {}'.format(train_labels[idx]))\n"
   ]
  },
  {
   "cell_type": "markdown",
   "metadata": {},
   "source": [
    "## Optimizer"
   ]
  },
  {
   "cell_type": "code",
   "execution_count": 10,
   "metadata": {
    "ExecuteTime": {
     "end_time": "2017-04-23T12:58:07.633505",
     "start_time": "2017-04-23T12:58:07.631587"
    }
   },
   "outputs": [],
   "source": [
    "optimizer = tf.train.AdamOptimizer(0.001)"
   ]
  },
  {
   "cell_type": "code",
   "execution_count": 11,
   "metadata": {
    "ExecuteTime": {
     "end_time": "2017-04-23T12:58:07.926784",
     "start_time": "2017-04-23T12:58:07.634493"
    }
   },
   "outputs": [],
   "source": [
    "with tf.control_dependencies([centers_update_op1, centers_update_op2]):\n",
    "    train_op = optimizer.minimize(total_loss, global_step=global_step)"
   ]
  },
  {
   "cell_type": "markdown",
   "metadata": {},
   "source": [
    "## Session and Summary"
   ]
  },
  {
   "cell_type": "code",
   "execution_count": 12,
   "metadata": {
    "ExecuteTime": {
     "end_time": "2017-04-23T12:58:07.929944",
     "start_time": "2017-04-23T12:58:07.927740"
    }
   },
   "outputs": [],
   "source": [
    "summary_op = tf.summary.merge_all()"
   ]
  },
  {
   "cell_type": "code",
   "execution_count": 13,
   "metadata": {
    "ExecuteTime": {
     "end_time": "2017-04-23T12:58:10.050499",
     "start_time": "2017-04-23T12:58:07.930866"
    }
   },
   "outputs": [],
   "source": [
    "sess = tf.Session()\n",
    "sess.run(tf.global_variables_initializer())\n",
    "writer = tf.summary.FileWriter('/tmp/mnist_log', sess.graph)"
   ]
  },
  {
   "cell_type": "markdown",
   "metadata": {},
   "source": [
    "## Train"
   ]
  },
  {
   "cell_type": "code",
   "execution_count": 14,
   "metadata": {
    "ExecuteTime": {
     "end_time": "2017-04-23T12:59:49.036352",
     "start_time": "2017-04-23T12:58:10.073172"
    },
    "scrolled": true
   },
   "outputs": [
    {
     "name": "stdout",
     "output_type": "stream",
     "text": [
      "epoch: 0, train_acc:0.4732, train_loss:0.7963\n",
      "epoch: 1, train_acc:0.5123, train_loss:0.6922\n",
      "epoch: 2, train_acc:0.5190, train_loss:0.6910\n",
      "epoch: 3, train_acc:0.5826, train_loss:0.7019\n",
      "epoch: 4, train_acc:0.5190, train_loss:0.6933\n",
      "epoch: 5, train_acc:0.5636, train_loss:0.6904\n",
      "epoch: 6, train_acc:0.6775, train_loss:0.6907\n",
      "epoch: 7, train_acc:0.6451, train_loss:0.6833\n",
      "epoch: 8, train_acc:0.6741, train_loss:0.6593\n",
      "epoch: 9, train_acc:0.6931, train_loss:0.6482\n",
      "epoch: 10, train_acc:0.7254, train_loss:0.6279\n",
      "epoch: 11, train_acc:0.7511, train_loss:0.6041\n",
      "epoch: 12, train_acc:0.7712, train_loss:0.5766\n",
      "epoch: 13, train_acc:0.7935, train_loss:0.5583\n",
      "epoch: 14, train_acc:0.7902, train_loss:0.5419\n",
      "epoch: 15, train_acc:0.8203, train_loss:0.5066\n",
      "epoch: 16, train_acc:0.8281, train_loss:0.4679\n",
      "epoch: 17, train_acc:0.8259, train_loss:0.4806\n",
      "epoch: 18, train_acc:0.8326, train_loss:0.4529\n",
      "epoch: 19, train_acc:0.8549, train_loss:0.4164\n",
      "epoch: 20, train_acc:0.8739, train_loss:0.3725\n",
      "epoch: 21, train_acc:0.8571, train_loss:0.3863\n",
      "epoch: 22, train_acc:0.8917, train_loss:0.3344\n",
      "epoch: 23, train_acc:0.8996, train_loss:0.3200\n",
      "epoch: 24, train_acc:0.9275, train_loss:0.2705\n",
      "epoch: 25, train_acc:0.9353, train_loss:0.2523\n",
      "epoch: 26, train_acc:0.9051, train_loss:0.3371\n",
      "epoch: 27, train_acc:0.8772, train_loss:0.3512\n",
      "epoch: 28, train_acc:0.9074, train_loss:0.2736\n",
      "epoch: 29, train_acc:0.9509, train_loss:0.2187\n",
      "epoch: 30, train_acc:0.9464, train_loss:0.2164\n",
      "epoch: 31, train_acc:0.9554, train_loss:0.1995\n",
      "epoch: 32, train_acc:0.9710, train_loss:0.1548\n",
      "epoch: 33, train_acc:0.9855, train_loss:0.1205\n",
      "epoch: 34, train_acc:0.9900, train_loss:0.1002\n",
      "epoch: 35, train_acc:0.9978, train_loss:0.0776\n",
      "epoch: 36, train_acc:0.9967, train_loss:0.0730\n",
      "epoch: 37, train_acc:0.9978, train_loss:0.0554\n",
      "epoch: 38, train_acc:0.9989, train_loss:0.0504\n",
      "epoch: 39, train_acc:0.9967, train_loss:0.0708\n",
      "epoch: 40, train_acc:0.9944, train_loss:0.0936\n",
      "epoch: 41, train_acc:0.9821, train_loss:0.1190\n",
      "epoch: 42, train_acc:0.9788, train_loss:0.1404\n",
      "epoch: 43, train_acc:0.9866, train_loss:0.0996\n",
      "epoch: 44, train_acc:0.9955, train_loss:0.0779\n",
      "epoch: 45, train_acc:0.9989, train_loss:0.0634\n",
      "epoch: 46, train_acc:0.9989, train_loss:0.0804\n",
      "epoch: 47, train_acc:0.9844, train_loss:0.1090\n",
      "epoch: 48, train_acc:0.9810, train_loss:0.1229\n",
      "epoch: 49, train_acc:0.9732, train_loss:0.1415\n",
      "epoch: 50, train_acc:0.9833, train_loss:0.1174\n",
      "epoch: 51, train_acc:0.9855, train_loss:0.0988\n",
      "epoch: 52, train_acc:0.9922, train_loss:0.0730\n",
      "epoch: 53, train_acc:0.9955, train_loss:0.0724\n",
      "epoch: 54, train_acc:0.9967, train_loss:0.0722\n",
      "epoch: 55, train_acc:1.0000, train_loss:0.0369\n",
      "epoch: 56, train_acc:1.0000, train_loss:0.0302\n",
      "epoch: 57, train_acc:1.0000, train_loss:0.0194\n",
      "epoch: 58, train_acc:1.0000, train_loss:0.0140\n",
      "epoch: 59, train_acc:1.0000, train_loss:0.0114\n",
      "epoch: 60, train_acc:1.0000, train_loss:0.0092\n",
      "epoch: 61, train_acc:1.0000, train_loss:0.0077\n",
      "epoch: 62, train_acc:1.0000, train_loss:0.0065\n",
      "epoch: 63, train_acc:1.0000, train_loss:0.0055\n",
      "epoch: 64, train_acc:1.0000, train_loss:0.0048\n",
      "epoch: 65, train_acc:1.0000, train_loss:0.0041\n",
      "epoch: 66, train_acc:1.0000, train_loss:0.0036\n",
      "epoch: 67, train_acc:1.0000, train_loss:0.0031\n",
      "epoch: 68, train_acc:1.0000, train_loss:0.0027\n",
      "epoch: 69, train_acc:1.0000, train_loss:0.0024\n",
      "epoch: 70, train_acc:1.0000, train_loss:0.0022\n",
      "epoch: 71, train_acc:1.0000, train_loss:0.0021\n",
      "epoch: 72, train_acc:1.0000, train_loss:0.0020\n",
      "epoch: 73, train_acc:1.0000, train_loss:0.0018\n",
      "epoch: 74, train_acc:1.0000, train_loss:0.0017\n",
      "epoch: 75, train_acc:1.0000, train_loss:0.0016\n",
      "epoch: 76, train_acc:1.0000, train_loss:0.0015\n",
      "epoch: 77, train_acc:1.0000, train_loss:0.0016\n",
      "epoch: 78, train_acc:1.0000, train_loss:0.0017\n",
      "epoch: 79, train_acc:1.0000, train_loss:0.0018\n",
      "epoch: 80, train_acc:1.0000, train_loss:0.0018\n",
      "epoch: 81, train_acc:1.0000, train_loss:0.0020\n",
      "epoch: 82, train_acc:1.0000, train_loss:0.0024\n",
      "epoch: 83, train_acc:1.0000, train_loss:0.0028\n",
      "epoch: 84, train_acc:1.0000, train_loss:0.0031\n",
      "epoch: 85, train_acc:1.0000, train_loss:0.0033\n",
      "epoch: 86, train_acc:1.0000, train_loss:0.0031\n",
      "epoch: 87, train_acc:1.0000, train_loss:0.0032\n",
      "epoch: 88, train_acc:1.0000, train_loss:0.0035\n",
      "epoch: 89, train_acc:1.0000, train_loss:0.0039\n",
      "epoch: 90, train_acc:1.0000, train_loss:0.0038\n",
      "epoch: 91, train_acc:1.0000, train_loss:0.0033\n",
      "epoch: 92, train_acc:1.0000, train_loss:0.0030\n",
      "epoch: 93, train_acc:1.0000, train_loss:0.0031\n",
      "epoch: 94, train_acc:1.0000, train_loss:0.0033\n",
      "epoch: 95, train_acc:1.0000, train_loss:0.0032\n",
      "epoch: 96, train_acc:1.0000, train_loss:0.0027\n",
      "epoch: 97, train_acc:1.0000, train_loss:0.0024\n",
      "epoch: 98, train_acc:1.0000, train_loss:0.0024\n",
      "epoch: 99, train_acc:1.0000, train_loss:0.0026\n"
     ]
    }
   ],
   "source": [
    "step = sess.run(global_step)\n",
    "for ep_i in range(100):\n",
    "    train_acc = []\n",
    "    train_loss = []\n",
    "    for jj in range(train_images.shape[0]/batch_size):\n",
    "        _, summary_str, train_acc_i, train_loss_i = sess.run(\n",
    "            [train_op, summary_op, accuracy, total_loss],\n",
    "            feed_dict={\n",
    "                input_images: train_images[jj*batch_size:(1+jj)*batch_size],\n",
    "                labels: train_labels[jj*batch_size:(1+jj)*batch_size]\n",
    "            })\n",
    "        train_acc += [train_acc_i]\n",
    "        train_loss += [train_loss_i]\n",
    "\n",
    "    print((\"epoch: {}, train_acc:{:.4f}, train_loss:{:.4f}\".\n",
    "          format(ep_i, np.mean(train_acc), np.mean(train_loss))))"
   ]
  },
  {
   "cell_type": "markdown",
   "metadata": {},
   "source": [
    "### Visualize train_data"
   ]
  },
  {
   "cell_type": "code",
   "execution_count": 15,
   "metadata": {
    "ExecuteTime": {
     "end_time": "2017-04-23T12:59:50.504392",
     "start_time": "2017-04-23T12:59:49.038455"
    },
    "scrolled": false
   },
   "outputs": [
    {
     "data": {
      "image/png": "[encoded data removed]",
      "text/plain": [
       "<Figure size 1152x648 with 1 Axes>"
      ]
     },
     "metadata": {},
     "output_type": "display_data"
    }
   ],
   "source": [
    "train_feat = []\n",
    "train_pred = []\n",
    "for jj in range(train_images.shape[0]/batch_size):\n",
    "    [feat_i, pred_i] = sess.run([features, tf.nn.softmax(logits)], feed_dict={input_images:train_images[jj*batch_size:(1+jj)*batch_size]})\n",
    "    train_feat += [feat_i]\n",
    "    train_pred += [pred_i]\n",
    "train_feat = np.concatenate(train_feat,0)\n",
    "train_pred= np.argmax(np.concatenate(train_pred,0), 1)\n",
    "\n",
    "%matplotlib inline\n",
    "import matplotlib.pyplot as plt\n",
    "\n",
    "labels_val = train_labels[:train_feat.shape[0]]\n",
    "\n",
    "f = plt.figure(figsize=(16,9))\n",
    "c = ['#ff0000', '#00ff00', '#990000', '#00ffff', '#0000ff', \n",
    "     '#ff00ff', '#ffff00', '#999900', '#009900', '#009999']\n",
    "for i in range(2):\n",
    "    plt.plot(train_feat[labels_val==i,0].flatten(), train_feat[labels_val==i,1].flatten(), '.', c=c[i])\n",
    "plt.legend(['0', '1', '2', '3', '4', '5', '6', '7', '8', '9'])\n",
    "\n",
    "miss_class = labels_val!=train_pred\n",
    "for i, f_i in enumerate(miss_class):\n",
    "    if f_i:\n",
    "        plt.scatter(train_feat[i,0].flatten(), train_feat[i,1].flatten(), s=200, facecolors='none', edgecolors=c[train_pred[i]])\n",
    "\n",
    "plt.grid()\n",
    "plt.show()"
   ]
  },
  {
   "cell_type": "markdown",
   "metadata": {},
   "source": [
    "# FGM attack"
   ]
  },
  {
   "cell_type": "code",
   "execution_count": 16,
   "metadata": {
    "scrolled": true
   },
   "outputs": [],
   "source": [
    "\n",
    "def get_attack_directions_lenet(input_pl_var, logits_var, label_pl, batch_xs, batch_ys, sess, epsilon=0.1):\n",
    "    '''\n",
    "    input_pl_var: variable of the starting placeholder of the graph, (bs, 28, 28, 1)\n",
    "    output: end point of the graph, after softmax and argmax, (bs, 1)\n",
    "    label_pl: placeholder of the ground truth label, used for untargeted attack, (bs, 1)\n",
    "    img_val: a particular image to be attacked, (1, 28, 28, 1)\n",
    "    label_val: the label associated with img_val, (1, 1)\n",
    "    '''\n",
    "    imsize = 64\n",
    "    \n",
    "#     temp = set(tf.all_variables())\n",
    "    # set target\n",
    "    adv_label = tf.ones_like(label_pl) - label_pl \n",
    "    # set loss\n",
    "    adversarial_loss = tf.nn.sparse_softmax_cross_entropy_with_logits(labels=adv_label, logits=logits_var) \n",
    "    # gradient direction\n",
    "    gradient_direction = tf.gradients(adversarial_loss, input_pl_var)[0]\n",
    "#     # apply gradients, for iterative methods\n",
    "#     optimizer = tf.train.AdamOptimizer(0.01)\n",
    "#     grads = optimizer.compute_gradients(adversarial_loss, var_list=input_pl_var)\n",
    "#     apply_gradient_op = optimizer.apply_gradients(grads)\n",
    "\n",
    "#     init_op = tf.initialize_variables(set(tf.all_variables()) - temp)\n",
    "\n",
    "    orth_transform = np.asarray([[(-1) ** j] * imsize for j in range(imsize)])\n",
    "    orth_transform = np.expand_dims(np.expand_dims(orth_transform, 0), -1)\n",
    "#     sess.run(init_op, feed_dict)\n",
    "\n",
    "    feed_dict = {\n",
    "                    input_pl_var: np.tile(batch_xs,(batch_size,1,1,1)),\n",
    "                    label_pl: np.tile(batch_ys,(batch_size))\n",
    "               }\n",
    "    gradient_direction_var = sess.run(gradient_direction, feed_dict)\n",
    "#     l2_norm = gradient_direction_var.reshape(batch_size,-1)\n",
    "#     l2_norm = np.linalg.norm( l2_norm, ord=2, axis=1)\n",
    "#     l2_norm = np.transpose(np.tile(l2_norm,(1, 1, 1, 1)),(3,0,1,2))\n",
    "#     delta = gradient_direction_var / l2_norm\n",
    "    delta = np.sign(gradient_direction_var)\n",
    "    delta_vec = {\n",
    "                    'x': delta,\n",
    "                    'y': delta[:, ::-1, ::-1, :] * np.tile(orth_transform, (1,1,1,3))\n",
    "                 }\n",
    "\n",
    "    feed_dict = {\n",
    "                    input_pl_var: np.tile(batch_xs,(batch_size,1,1,1)),\n",
    "                    label_pl: np.tile(batch_ys,(batch_size))\n",
    "               }\n",
    "    orig_prob = sess.run(tf.nn.softmax(logits_var), feed_dict)\n",
    "\n",
    "    feed_dict = {\n",
    "                    input_pl_var: np.tile(batch_xs,(batch_size,1,1,1))-delta_vec['x']*epsilon,\n",
    "                    label_pl: np.tile(batch_ys,(batch_size))\n",
    "               }\n",
    "    adv_prob = sess.run(tf.nn.softmax(logits_var), feed_dict)\n",
    "    \n",
    "    return delta_vec, orig_prob, adv_prob\n",
    "\n",
    "#     attack_history = {}\n",
    "#     attack_history['x_hist'] = []\n",
    "#     attack_history['y_hist'] = []\n",
    "#     for i in range(50):\n",
    "#         _, adversarial_img, adversarial_pred = sess.run([apply_gradient_op, input_pl_var, output_var], feed_dict)\n",
    "#         attack_history['x_hist'] += [adversarial_img]\n",
    "#         attack_history['y_hist'] += [adversarial_pred]\n",
    "\n",
    "#     pred = {}\n",
    "#     pred['ground_truth'] = batch_ys[0]\n",
    "#     feed_dict_orig = {input_pl_var: batch_xs.reshape(1, imsize, imsize, 1)}\n",
    "#     pred['original'] = sess.run(output_var, feed_dict_orig)[0]\n",
    "#     feed_dict_attack = {input_pl_var: attack_history['x_hist'][-1].reshape(1, imsize, imsize, 1)}\n",
    "#     pred['attacked'] = sess.run(output_var, feed_dict_attack)[0]\n",
    "#     feed_dict_step = {input_pl_var: (delta_vec['x'] + batch_xs).reshape(1, imsize, imsize, 1)}\n",
    "#     pred['one_large_step'] = sess.run(output_var, feed_dict_step)[0]\n",
    "\n",
    "#     # output only when the attack is successful,\n",
    "#     if np.argmax(pred['attacked']) != np.argmax(pred['original']):\n",
    "#         # output only directions\n",
    "#         return batch_xs, batch_ys, delta_vec, attack_history\n",
    "\n",
    "input_pl_var = tf.Variable(input_images, name='input_pl_var')\n",
    "with tf.variable_scope(\"build_network\", reuse=True):\n",
    "    logits_var, feature_list, total_loss, accuracy, centers_update_op_list = build_network(input_pl_var, labels, ratio=LAMBDA, reuse=True)\n"
   ]
  },
  {
   "cell_type": "code",
   "execution_count": 17,
   "metadata": {
    "scrolled": true
   },
   "outputs": [
    {
     "name": "stdout",
     "output_type": "stream",
     "text": [
      "success index: 0\n",
      "success index: 1\n",
      "success index: 3\n",
      "success index: 4\n",
      "success index: 6\n",
      "success index: 8\n",
      "success index: 9\n",
      "success index: 10\n",
      "success index: 11\n",
      "success index: 13\n",
      "success index: 15\n",
      "success index: 16\n",
      "success index: 17\n",
      "success index: 18\n",
      "success index: 19\n",
      "success index: 20\n",
      "success index: 21\n",
      "success index: 22\n",
      "success index: 23\n",
      "success index: 25\n",
      "success index: 26\n",
      "success index: 27\n",
      "success index: 28\n",
      "success index: 29\n",
      "success index: 30\n",
      "success index: 33\n",
      "success index: 34\n",
      "success index: 35\n",
      "success index: 36\n",
      "success index: 37\n",
      "success index: 38\n",
      "success index: 39\n",
      "success index: 42\n",
      "success index: 44\n",
      "success index: 45\n",
      "success index: 46\n",
      "success index: 47\n",
      "success index: 48\n",
      "success index: 49\n",
      "success index: 51\n",
      "success index: 52\n",
      "success index: 53\n",
      "success index: 55\n",
      "success index: 56\n",
      "success index: 57\n",
      "success index: 58\n",
      "success index: 59\n",
      "success index: 61\n",
      "success index: 62\n",
      "success index: 67\n",
      "success index: 68\n",
      "success index: 69\n",
      "success index: 70\n",
      "success index: 71\n",
      "success index: 72\n",
      "success index: 73\n",
      "success index: 74\n",
      "success index: 76\n",
      "success index: 77\n",
      "success index: 78\n",
      "success index: 79\n",
      "success index: 80\n",
      "success index: 81\n",
      "success index: 82\n",
      "success index: 83\n",
      "success index: 84\n",
      "success index: 85\n",
      "success index: 86\n",
      "success index: 87\n",
      "success index: 88\n",
      "success index: 89\n",
      "success index: 90\n",
      "success index: 91\n",
      "success index: 94\n",
      "success index: 95\n",
      "success index: 96\n",
      "success index: 97\n",
      "success index: 99\n",
      "success index: 100\n",
      "success index: 101\n",
      "success index: 102\n",
      "success index: 104\n",
      "success index: 105\n",
      "success index: 106\n",
      "success index: 110\n",
      "success index: 111\n",
      "success index: 112\n",
      "success index: 114\n",
      "success index: 115\n",
      "success index: 116\n",
      "success index: 118\n",
      "success index: 119\n",
      "success index: 120\n",
      "success index: 121\n",
      "success index: 122\n",
      "success index: 123\n",
      "success index: 124\n",
      "success index: 125\n",
      "success index: 126\n",
      "success index: 127\n"
     ]
    }
   ],
   "source": [
    "delta_vec_list = []\n",
    "img_list = []\n",
    "orig_prob_list = []\n",
    "adv_prob_list = []\n",
    "epsilon = 0.02\n",
    "N = batch_size\n",
    "attack_success_flag = []\n",
    "for i in range(N):\n",
    "    img_val = test_images[i:i+1]\n",
    "    label_val = test_labels[i:i+1]\n",
    "    delta_vec, orig_prob, adv_prob = get_attack_directions_lenet(input_pl_var, logits_var, labels, img_val, label_val, sess, epsilon=epsilon)\n",
    "\n",
    "    delta_vec_list += [delta_vec]\n",
    "    img_list += [img_val]\n",
    "    orig_prob_list += [orig_prob]\n",
    "    adv_prob_list += [adv_prob]\n",
    "    \n",
    "    if np.argmax(orig_prob[0]) != np.argmax(adv_prob[0]):\n",
    "        attack_success_flag += [1]\n",
    "        print('success index: {}'.format(i))\n",
    "    else:\n",
    "        attack_success_flag += [0]\n",
    "        \n",
    "tracking_img = np.concatenate(img_list,0)\n",
    "tracking_grad = np.concatenate([delta_vec_list[i]['x'][0:1] for i in range(batch_size)],0)"
   ]
  },
  {
   "cell_type": "code",
   "execution_count": 18,
   "metadata": {},
   "outputs": [
    {
     "name": "stdout",
     "output_type": "stream",
     "text": [
      "orig pred: [9.9919766e-01 8.0235308e-04]\n",
      "adv pred: [0.09567214 0.9043279 ]\n"
     ]
    },
    {
     "data": {
      "image/png": "[encoded data removed]",
      "text/plain": [
       "<Figure size 432x288 with 3 Axes>"
      ]
     },
     "metadata": {},
     "output_type": "display_data"
    }
   ],
   "source": [
    "idx = 1\n",
    "import seaborn as sns\n",
    "plt.subplot(1,3,1)\n",
    "plt.imshow(img_list[idx][0,:,:,:])\n",
    "plt.subplot(1,3,2)\n",
    "plt.imshow(-delta_vec_list[idx]['x'][0,:,:,:]*epsilon)\n",
    "plt.subplot(1,3,3)\n",
    "plt.imshow(img_list[idx][0,:,:,:] - delta_vec_list[idx]['x'][0,:,:,:]*epsilon)\n",
    "\n",
    "print('orig pred: {}'.format(orig_prob_list[idx][0]))\n",
    "print('adv pred: {}'.format(adv_prob_list[idx][0]))"
   ]
  },
  {
   "cell_type": "code",
   "execution_count": 19,
   "metadata": {
    "scrolled": false
   },
   "outputs": [
    {
     "name": "stderr",
     "output_type": "stream",
     "text": [
      "/home/doi6/anaconda2/lib/python2.7/site-packages/matplotlib/axes/_axes.py:6462: UserWarning: The 'normed' kwarg is deprecated, and has been replaced by the 'density' kwarg.\n",
      "  warnings.warn(\"The 'normed' kwarg is deprecated, and has been \"\n",
      "/home/doi6/anaconda2/lib/python2.7/site-packages/matplotlib/axes/_axes.py:6462: UserWarning: The 'normed' kwarg is deprecated, and has been replaced by the 'density' kwarg.\n",
      "  warnings.warn(\"The 'normed' kwarg is deprecated, and has been \"\n"
     ]
    },
    {
     "data": {
      "text/plain": [
       "<matplotlib.axes._subplots.AxesSubplot at 0x7fc6d2124510>"
      ]
     },
     "execution_count": 19,
     "metadata": {},
     "output_type": "execute_result"
    },
    {
     "data": {
      "image/png": "[encoded data removed]",
      "text/plain": [
       "<Figure size 432x288 with 1 Axes>"
      ]
     },
     "metadata": {},
     "output_type": "display_data"
    }
   ],
   "source": [
    "sns.distplot(epsilon*delta_vec_list[idx]['x'][0,:,:,:].flatten())\n",
    "sns.distplot(img_list[idx][0,:,:,:].flatten())"
   ]
  },
  {
   "cell_type": "markdown",
   "metadata": {},
   "source": [
    "# tracking FGM trajectories"
   ]
  },
  {
   "cell_type": "code",
   "execution_count": 20,
   "metadata": {
    "scrolled": true
   },
   "outputs": [],
   "source": [
    "tracking_feat = []\n",
    "tracking_pred = []\n",
    "\n",
    "steps = 100\n",
    "largest_epsilon = 0.05\n",
    "for e_i in range(steps):\n",
    "    adv_img_i = tracking_img - largest_epsilon*e_i/steps * tracking_grad\n",
    "    [feat_i, pred_i] = sess.run([features, tf.nn.softmax(logits)], feed_dict={input_images: adv_img_i})\n",
    "    tracking_feat += [np.expand_dims(feat_i, 0)]\n",
    "    tracking_pred += [np.expand_dims(pred_i, 0)]\n",
    "tracking_feat = np.concatenate(tracking_feat,0).transpose(1,0,2) # (batch_size, steps, feature_dim)\n",
    "tracking_pred = np.argmax( np.concatenate(tracking_pred,0), -1).transpose(1,0) # (batch_size, steps)\n",
    "# save adversarial images\n",
    "np.save('tracking_pred', tracking_pred)\n",
    "np.save('tracking_feat', tracking_feat)"
   ]
  },
  {
   "cell_type": "code",
   "execution_count": 21,
   "metadata": {},
   "outputs": [
    {
     "name": "stdout",
     "output_type": "stream",
     "text": [
      "mean delta: 0.0131\n",
      "median delta: 0.012\n"
     ]
    },
    {
     "data": {
      "image/png": "[encoded data removed]",
      "text/plain": [
       "<Figure size 1152x648 with 1 Axes>"
      ]
     },
     "metadata": {},
     "output_type": "display_data"
    }
   ],
   "source": [
    "import matplotlib.pyplot as plt\n",
    "\n",
    "# original testing data feature distribution\n",
    "labels_val = train_labels[:train_feat.shape[0]]\n",
    "\n",
    "f = plt.figure(figsize=(16,9))\n",
    "c = ['#ff0000', '#00ff00', '#990000', '#00ffff', '#0000ff', \n",
    "     '#ff00ff', '#ffff00', '#999900', '#009900', '#009999']\n",
    "for i in range(2):\n",
    "    plt.plot(train_feat[labels_val==i,0].flatten(), train_feat[labels_val==i,1].flatten(), '.', c=c[i])\n",
    "plt.legend(['0', '1', '2', '3', '4', '5', '6', '7', '8', '9'])\n",
    "miss_class = labels_val!=train_pred\n",
    "for i, f_i in enumerate(miss_class):\n",
    "    if f_i:\n",
    "        plt.scatter(train_feat[i,0].flatten(), train_feat[i,1].flatten(), s=200, facecolors='none', edgecolors=c[train_pred[i]])\n",
    "\n",
    "\n",
    "# adversarial data feature trajectory\n",
    "N = 5#batch_size\n",
    "for i in range(N):\n",
    "    if tracking_pred[i,-1] != tracking_pred[i,0]:\n",
    "        plt.plot(tracking_feat[i, :, 0], tracking_feat[i, :, 1], 'k-')\n",
    "mean_delta = np.zeros(N)\n",
    "for i in range(N):\n",
    "    if tracking_pred[i,-1] == tracking_pred[i,0]:\n",
    "        mean_delta[i] += [largest_epsilon]\n",
    "    else:\n",
    "        for j in range(steps):\n",
    "            plt.plot(tracking_feat[i, j, 0], tracking_feat[i, j, 1], '*-', MarkerSize=13, color=c[tracking_pred[i,j]])\n",
    "        for j in range(steps):\n",
    "            if tracking_pred[i,j] != tracking_pred[i,0]:\n",
    "                mean_delta[i] += [largest_epsilon*j/steps]\n",
    "                break\n",
    "print('mean delta: {}'.format(np.mean(mean_delta)))\n",
    "print('median delta: {}'.format(np.median(mean_delta)))\n",
    "plt.grid()\n",
    "plt.show()\n"
   ]
  },
  {
   "cell_type": "code",
   "execution_count": 22,
   "metadata": {},
   "outputs": [
    {
     "name": "stderr",
     "output_type": "stream",
     "text": [
      "/home/doi6/anaconda2/lib/python2.7/site-packages/matplotlib/axes/_axes.py:6462: UserWarning: The 'normed' kwarg is deprecated, and has been replaced by the 'density' kwarg.\n",
      "  warnings.warn(\"The 'normed' kwarg is deprecated, and has been \"\n"
     ]
    },
    {
     "data": {
      "text/plain": [
       "<matplotlib.axes._subplots.AxesSubplot at 0x7fc37a037dd0>"
      ]
     },
     "execution_count": 22,
     "metadata": {},
     "output_type": "execute_result"
    },
    {
     "data": {
      "image/png": "[encoded data removed]",
      "text/plain": [
       "<Figure size 432x288 with 1 Axes>"
      ]
     },
     "metadata": {},
     "output_type": "display_data"
    }
   ],
   "source": [
    "sns.distplot(mean_delta)"
   ]
  }
 ],
 "metadata": {
  "anaconda-cloud": {},
  "kernelspec": {
   "display_name": "Python 2",
   "language": "python",
   "name": "python2"
  },
  "language_info": {
   "codemirror_mode": {
    "name": "ipython",
    "version": 2
   },
   "file_extension": ".py",
   "mimetype": "text/x-python",
   "name": "python",
   "nbconvert_exporter": "python",
   "pygments_lexer": "ipython2",
   "version": "2.7.15"
  }
 },
 "nbformat": 4,
 "nbformat_minor": 1
}
