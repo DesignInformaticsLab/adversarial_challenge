{
 "cells": [
  {
   "cell_type": "markdown",
   "metadata": {},
   "source": [
    "## Parameters"
   ]
  },
  {
   "cell_type": "code",
   "execution_count": 1,
   "metadata": {
    "ExecuteTime": {
     "end_time": "2017-04-23T12:58:05.100181",
     "start_time": "2017-04-23T12:58:05.098147"
    }
   },
   "outputs": [],
   "source": [
    "LAMBDA = 1e-1\n",
    "CENTER_LOSS_ALPHA = 0.5\n",
    "NUM_CLASSES = 200\n",
    "batch_size = 128\n"
   ]
  },
  {
   "cell_type": "markdown",
   "metadata": {},
   "source": [
    "## Import modules"
   ]
  },
  {
   "cell_type": "code",
   "execution_count": 2,
   "metadata": {
    "ExecuteTime": {
     "end_time": "2017-04-23T12:58:06.723861",
     "start_time": "2017-04-23T12:58:05.101724"
    }
   },
   "outputs": [
    {
     "name": "stderr",
     "output_type": "stream",
     "text": [
      "/home/doi6/anaconda2/lib/python2.7/site-packages/h5py/__init__.py:36: FutureWarning: Conversion of the second argument of issubdtype from `float` to `np.floating` is deprecated. In future, it will be treated as `np.float64 == np.dtype(float).type`.\n",
      "  from ._conv import register_converters as _register_converters\n"
     ]
    }
   ],
   "source": [
    "import os\n",
    "import numpy as np\n",
    "import tensorflow as tf\n",
    "import tflearn\n",
    "# from tensorflow.examples.tutorials.mnist import input_data\n",
    "\n",
    "slim = tf.contrib.slim\n",
    "os.environ['CUDA_VISIBLE_DEVICES'] = '0'"
   ]
  },
  {
   "cell_type": "markdown",
   "metadata": {},
   "source": [
    "## Construct network"
   ]
  },
  {
   "cell_type": "code",
   "execution_count": 3,
   "metadata": {
    "ExecuteTime": {
     "end_time": "2017-04-23T12:58:06.729925",
     "start_time": "2017-04-23T12:58:06.724981"
    }
   },
   "outputs": [],
   "source": [
    "with tf.name_scope('input'):\n",
    "    input_images = tf.placeholder(tf.float32, shape=(batch_size,64,64,3), name='input_images')\n",
    "    labels = tf.placeholder(tf.int64, shape=(batch_size), name='labels')\n",
    "    \n",
    "global_step = tf.Variable(0, trainable=False, name='global_step')"
   ]
  },
  {
   "cell_type": "code",
   "execution_count": 4,
   "metadata": {
    "ExecuteTime": {
     "end_time": "2017-04-23T12:58:06.803814",
     "start_time": "2017-04-23T12:58:06.730853"
    },
    "code_folding": []
   },
   "outputs": [],
   "source": [
    "def get_center_loss(features, labels, alpha, num_classes):\n",
    "    \"\"\"获取center loss及center的更新op\n",
    "    \n",
    "    Arguments:\n",
    "        features: Tensor,表征样本特征,一般使用某个fc层的输出,shape应该为[batch_size, feature_length].\n",
    "        labels: Tensor,表征样本label,非one-hot编码,shape应为[batch_size].\n",
    "        alpha: 0-1之间的数字,控制样本类别中心的学习率,细节参考原文.\n",
    "        num_classes: 整数,表明总共有多少个类别,网络分类输出有多少个神经元这里就取多少.\n",
    "    \n",
    "    Return：\n",
    "        loss: Tensor,可与softmax loss相加作为总的loss进行优化.\n",
    "        centers: Tensor,存储样本中心值的Tensor，仅查看样本中心存储的具体数值时有用.\n",
    "        centers_update_op: op,用于更新样本中心的op，在训练时需要同时运行该op，否则样本中心不会更新\n",
    "    \"\"\"\n",
    "    # 获取特征的维数，例如256维\n",
    "    len_features = features.get_shape()[1]\n",
    "    # 建立一个Variable,shape为[num_classes, len_features]，用于存储整个网络的样本中心，\n",
    "    # 设置trainable=False是因为样本中心不是由梯度进行更新的\n",
    "    centers = tf.get_variable('centers', [num_classes, len_features], dtype=tf.float32,\n",
    "        initializer=tf.constant_initializer(0), trainable=False)\n",
    "    # 将label展开为一维的，输入如果已经是一维的，则该动作其实无必要\n",
    "    labels = tf.reshape(labels, [-1])\n",
    "    \n",
    "    # 根据样本label,获取mini-batch中每一个样本对应的中心值\n",
    "    centers_batch = tf.gather(centers, labels)\n",
    "    # 计算loss\n",
    "    loss = tf.nn.l2_loss(features - centers_batch)\n",
    "    \n",
    "    # 当前mini-batch的特征值与它们对应的中心值之间的差\n",
    "    diff = centers_batch - features\n",
    "    \n",
    "    # 获取mini-batch中同一类别样本出现的次数,了解原理请参考原文公式(4)\n",
    "    unique_label, unique_idx, unique_count = tf.unique_with_counts(labels)\n",
    "    appear_times = tf.gather(unique_count, unique_idx)\n",
    "    appear_times = tf.reshape(appear_times, [-1, 1])\n",
    "    \n",
    "    diff = diff / tf.cast((1 + appear_times), tf.float32)\n",
    "    diff = alpha * diff\n",
    "    \n",
    "    centers_update_op = tf.scatter_sub(centers, labels, diff)\n",
    "    \n",
    "    return loss, centers, centers_update_op"
   ]
  },
  {
   "cell_type": "code",
   "execution_count": 5,
   "metadata": {
    "ExecuteTime": {
     "end_time": "2017-04-23T12:58:06.909774",
     "start_time": "2017-04-23T12:58:06.804749"
    },
    "code_folding": []
   },
   "outputs": [],
   "source": [
    "\n",
    "def inference(input_images, num_class=10, reuse=False):\n",
    "    with slim.arg_scope([slim.conv2d], kernel_size=3, padding='SAME'):\n",
    "        with slim.arg_scope([slim.max_pool2d], kernel_size=2):\n",
    "\n",
    "            x = slim.conv2d(input_images, num_outputs=64, scope='conv1_1')\n",
    "            x = slim.conv2d(x, num_outputs=64, scope='conv1_2')\n",
    "            x = slim.max_pool2d(x, scope='pool1')\n",
    "\n",
    "            x = slim.conv2d(x, num_outputs=128, scope='conv2_1')\n",
    "            x = slim.conv2d(x, num_outputs=128, scope='conv2_2')\n",
    "            x = slim.max_pool2d(x, scope='pool2')\n",
    "\n",
    "            x = slim.conv2d(x, num_outputs=256, scope='conv3_1')\n",
    "            x = slim.conv2d(x, num_outputs=256, scope='conv3_2')\n",
    "            x = slim.max_pool2d(x, scope='pool3')\n",
    "\n",
    "            x = slim.conv2d(x, num_outputs=512, scope='conv4_1')\n",
    "            x = slim.conv2d(x, num_outputs=512, scope='conv4_2')\n",
    "            x = slim.max_pool2d(x, scope='pool3')\n",
    "\n",
    "            x = slim.flatten(x, scope='flatten')\n",
    "\n",
    "            feature3 = x = slim.fully_connected(x, num_outputs=512, activation_fn=None, scope='fc0')\n",
    "\n",
    "            feature2 = x = slim.fully_connected(x, num_outputs=32, activation_fn=None, scope='fc1')\n",
    "\n",
    "            feature1 = x =slim.fully_connected(x, num_outputs=2, activation_fn=None, scope='fc2')\n",
    "\n",
    "            x = tflearn.prelu(feature3)\n",
    "\n",
    "            x = slim.fully_connected(x, num_outputs=num_class, activation_fn=None, scope='fc3')\n",
    "\n",
    "    feature_list = [feature1, feature2]\n",
    "    return x, feature_list"
   ]
  },
  {
   "cell_type": "code",
   "execution_count": 6,
   "metadata": {
    "ExecuteTime": {
     "end_time": "2017-04-23T12:58:07.002232",
     "start_time": "2017-04-23T12:58:06.911010"
    },
    "code_folding": []
   },
   "outputs": [],
   "source": [
    "def build_network(input_images, labels, ratio=0.5, reuse=False):\n",
    "    logits, feature_list = inference(input_images, num_class=NUM_CLASSES)\n",
    "    \n",
    "    with tf.name_scope('loss'):\n",
    "        with tf.variable_scope('center_loss1'):\n",
    "            center_loss1, centers1, centers_update_op1 = get_center_loss(feature_list[0], labels, CENTER_LOSS_ALPHA, NUM_CLASSES)\n",
    "        with tf.variable_scope('center_loss2'):\n",
    "            center_loss2, centers2, centers_update_op2 = get_center_loss(feature_list[1], labels, CENTER_LOSS_ALPHA, NUM_CLASSES)\n",
    "        with tf.name_scope('softmax_loss'):\n",
    "            softmax_loss = tf.reduce_mean(tf.nn.sparse_softmax_cross_entropy_with_logits(labels=labels, logits=logits))\n",
    "        with tf.name_scope('total_loss'):\n",
    "            total_loss = softmax_loss + ratio * center_loss1#(center_loss1*0.8 + center_loss2*0.2) * 4\n",
    "    \n",
    "    with tf.name_scope('acc'):\n",
    "        accuracy = tf.reduce_mean(tf.cast(tf.equal(tf.arg_max(logits, 1), labels), tf.float32))\n",
    "    \n",
    "    with tf.name_scope('loss/'):\n",
    "        tf.summary.scalar('CenterLoss1', center_loss1)\n",
    "        tf.summary.scalar('CenterLoss2', center_loss2)\n",
    "        tf.summary.scalar('SoftmaxLoss', softmax_loss)\n",
    "        tf.summary.scalar('TotalLoss', total_loss)\n",
    "        \n",
    "    centers_update_op_list = [centers_update_op1, centers_update_op2]\n",
    "    return logits, feature_list, total_loss, accuracy, centers_update_op_list"
   ]
  },
  {
   "cell_type": "code",
   "execution_count": 7,
   "metadata": {
    "ExecuteTime": {
     "end_time": "2017-04-23T12:58:07.300662",
     "start_time": "2017-04-23T12:58:07.004232"
    },
    "scrolled": true
   },
   "outputs": [],
   "source": [
    "with tf.variable_scope(\"build_network\", reuse=False):\n",
    "    logits, feature_list, total_loss, accuracy, centers_update_op_list = build_network(input_images, labels, ratio=LAMBDA)\n",
    "features = feature_list[0]\n",
    "centers_update_op1 = centers_update_op_list[0]\n",
    "centers_update_op2 = centers_update_op_list[1]\n"
   ]
  },
  {
   "cell_type": "markdown",
   "metadata": {},
   "source": [
    "## Prepare data"
   ]
  },
  {
   "cell_type": "code",
   "execution_count": 8,
   "metadata": {},
   "outputs": [],
   "source": [
    "train_images = np.load('train_data.npy').item()['image'] / 255.\n",
    "train_labels = np.load('train_data.npy').item()['label'] \n",
    "\n",
    "if 0:\n",
    "    train_image_5 = train_images[train_labels==5]\n",
    "    train_image_7 = train_images[train_labels==7]\n",
    "    train_images = np.concatenate([train_image_5, train_image_7],0)\n",
    "    train_labels = np.asarray( [0]*len(train_image_5) + [1]*len(train_image_7) )\n",
    "from random import shuffle\n",
    "idx = range(len(train_images))\n",
    "shuffle(idx)\n",
    "train_images = train_images[idx] \n",
    "train_labels = train_labels[idx]\n",
    "\n",
    "test_images = train_images[:200]\n",
    "test_labels = train_labels[:200]"
   ]
  },
  {
   "cell_type": "code",
   "execution_count": 9,
   "metadata": {
    "scrolled": false
   },
   "outputs": [
    {
     "name": "stdout",
     "output_type": "stream",
     "text": [
      "(1.0, 0.0)\n",
      "label: 89\n"
     ]
    },
    {
     "data": {
      "image/png": "[encoded data removed]",
      "text/plain": [
       "<Figure size 432x288 with 1 Axes>"
      ]
     },
     "metadata": {},
     "output_type": "display_data"
    }
   ],
   "source": [
    "% matplotlib inline\n",
    "import matplotlib.pyplot as plt\n",
    "idx = 40\n",
    "print(np.max(train_images[idx]), np.min(train_images[idx]))\n",
    "plt.figure()\n",
    "plt.imshow(train_images[idx])\n",
    "print('label: {}'.format(train_labels[idx]))\n"
   ]
  },
  {
   "cell_type": "code",
   "execution_count": 10,
   "metadata": {},
   "outputs": [],
   "source": [
    "val_images = np.load('val_data.npy').item()['image'] / 255.\n",
    "val_labels = np.load('val_data.npy').item()['label'] \n",
    "\n",
    "if 0:\n",
    "    val_image_5 = val_images[val_labels==5]\n",
    "    val_image_7 = val_images[val_labels==7]\n",
    "    val_images = np.concatenate([val_image_5, val_image_7],0)\n",
    "    val_labels = np.asarray( [0]*len(val_image_5) + [1]*len(val_image_7) )\n",
    "idx_v = range(len(val_images))\n",
    "val_images = val_images[idx_v] \n",
    "val_labels = val_labels[idx_v]\n",
    "\n",
    "val_images = val_images[:200]\n",
    "val_labels = val_labels[:200]\n",
    "#shuffle(idx_v)"
   ]
  },
  {
   "cell_type": "code",
   "execution_count": 11,
   "metadata": {},
   "outputs": [
    {
     "name": "stdout",
     "output_type": "stream",
     "text": [
      "(1.0, 0.0)\n",
      "label: 145\n"
     ]
    },
    {
     "data": {
      "image/png": "[encoded data removed]",
      "text/plain": [
       "<Figure size 432x288 with 1 Axes>"
      ]
     },
     "metadata": {},
     "output_type": "display_data"
    }
   ],
   "source": [
    "% matplotlib inline\n",
    "import matplotlib.pyplot as plt\n",
    "idx_v = 7\n",
    "print(np.max(val_images[idx_v]), np.min(val_images[idx_v]))\n",
    "plt.figure()\n",
    "plt.imshow(val_images[idx_v])\n",
    "print('label: {}'.format(val_labels[idx_v]))"
   ]
  },
  {
   "cell_type": "markdown",
   "metadata": {},
   "source": [
    "## Optimizer"
   ]
  },
  {
   "cell_type": "code",
   "execution_count": 12,
   "metadata": {
    "ExecuteTime": {
     "end_time": "2017-04-23T12:58:07.633505",
     "start_time": "2017-04-23T12:58:07.631587"
    }
   },
   "outputs": [],
   "source": [
    "optimizer = tf.train.AdamOptimizer(0.0001)"
   ]
  },
  {
   "cell_type": "code",
   "execution_count": 13,
   "metadata": {
    "ExecuteTime": {
     "end_time": "2017-04-23T12:58:07.926784",
     "start_time": "2017-04-23T12:58:07.634493"
    }
   },
   "outputs": [],
   "source": [
    "with tf.control_dependencies([centers_update_op1, centers_update_op2]):\n",
    "    train_op = optimizer.minimize(total_loss, global_step=global_step)"
   ]
  },
  {
   "cell_type": "markdown",
   "metadata": {},
   "source": [
    "## Session and Summary"
   ]
  },
  {
   "cell_type": "code",
   "execution_count": 14,
   "metadata": {
    "ExecuteTime": {
     "end_time": "2017-04-23T12:58:07.929944",
     "start_time": "2017-04-23T12:58:07.927740"
    }
   },
   "outputs": [],
   "source": [
    "summary_op = tf.summary.merge_all()"
   ]
  },
  {
   "cell_type": "code",
   "execution_count": 15,
   "metadata": {
    "ExecuteTime": {
     "end_time": "2017-04-23T12:58:10.050499",
     "start_time": "2017-04-23T12:58:07.930866"
    }
   },
   "outputs": [],
   "source": [
    "sess = tf.Session()\n",
    "sess.run(tf.global_variables_initializer())\n",
    "writer = tf.summary.FileWriter('/tmp/mnist_log', sess.graph)"
   ]
  },
  {
   "cell_type": "markdown",
   "metadata": {},
   "source": [
    "## Train"
   ]
  },
  {
   "cell_type": "code",
   "execution_count": 16,
   "metadata": {
    "ExecuteTime": {
     "end_time": "2017-04-23T12:59:49.036352",
     "start_time": "2017-04-23T12:58:10.073172"
    },
    "scrolled": true
   },
   "outputs": [
    {
     "name": "stdout",
     "output_type": "stream",
     "text": [
      "epoch: 0, train_acc:0.0081, train_loss:5.2476\n",
      "epoch: 1, train_acc:0.0260, train_loss:5.0079\n",
      "epoch: 2, train_acc:0.0724, train_loss:4.5981\n",
      "epoch: 3, train_acc:0.1380, train_loss:4.0855\n",
      "epoch: 4, train_acc:0.1955, train_loss:3.7128\n",
      "epoch: 5, train_acc:0.2459, train_loss:3.4050\n",
      "epoch: 6, train_acc:0.2921, train_loss:3.1581\n",
      "epoch: 7, train_acc:0.3356, train_loss:2.9211\n",
      "epoch: 8, train_acc:0.3782, train_loss:2.7246\n",
      "epoch: 9, train_acc:0.4208, train_loss:2.5172\n",
      "epoch: 10, train_acc:0.4659, train_loss:2.3196\n",
      "epoch: 11, train_acc:0.5135, train_loss:2.0985\n",
      "epoch: 12, train_acc:0.5601, train_loss:1.8829\n",
      "epoch: 13, train_acc:0.6120, train_loss:1.6458\n",
      "epoch: 14, train_acc:0.6623, train_loss:1.4071\n",
      "epoch: 15, train_acc:0.7131, train_loss:1.1746\n",
      "epoch: 16, train_acc:0.7628, train_loss:0.9504\n",
      "epoch: 17, train_acc:0.8062, train_loss:0.7447\n",
      "epoch: 18, train_acc:0.8430, train_loss:0.5748\n",
      "epoch: 19, train_acc:0.8638, train_loss:0.4749\n",
      "epoch: 20, train_acc:0.8875, train_loss:0.3830\n",
      "epoch: 21, train_acc:0.9143, train_loss:0.2931\n",
      "epoch: 22, train_acc:0.9314, train_loss:0.2363\n",
      "epoch: 23, train_acc:0.9398, train_loss:0.2040\n",
      "epoch: 24, train_acc:0.9483, train_loss:0.1776\n",
      "epoch: 25, train_acc:0.9555, train_loss:0.1550\n",
      "epoch: 26, train_acc:0.9621, train_loss:0.1394\n",
      "epoch: 27, train_acc:0.9641, train_loss:0.1285\n",
      "epoch: 28, train_acc:0.9679, train_loss:0.1223\n",
      "epoch: 29, train_acc:0.9726, train_loss:0.1079\n",
      "epoch: 30, train_acc:0.9729, train_loss:0.1041\n",
      "epoch: 31, train_acc:0.9742, train_loss:0.1046\n",
      "epoch: 32, train_acc:0.9754, train_loss:0.0996\n",
      "epoch: 33, train_acc:0.9784, train_loss:0.0924\n",
      "epoch: 34, train_acc:0.9799, train_loss:0.0884\n",
      "epoch: 35, train_acc:0.9808, train_loss:0.0841\n",
      "epoch: 36, train_acc:0.9825, train_loss:0.0779\n",
      "epoch: 37, train_acc:0.9835, train_loss:0.0762\n",
      "epoch: 38, train_acc:0.9842, train_loss:0.0744\n",
      "epoch: 39, train_acc:0.9844, train_loss:0.0697\n",
      "epoch: 40, train_acc:0.9850, train_loss:0.0702\n",
      "epoch: 41, train_acc:0.9859, train_loss:0.0691\n",
      "epoch: 42, train_acc:0.9885, train_loss:0.0588\n",
      "epoch: 43, train_acc:0.9894, train_loss:0.0579\n",
      "epoch: 44, train_acc:0.9878, train_loss:0.0607\n",
      "epoch: 45, train_acc:0.9898, train_loss:0.0576\n",
      "epoch: 46, train_acc:0.9908, train_loss:0.0526\n",
      "epoch: 47, train_acc:0.9910, train_loss:0.0533\n",
      "epoch: 48, train_acc:0.9917, train_loss:0.0497\n",
      "epoch: 49, train_acc:0.9897, train_loss:0.0535\n"
     ]
    }
   ],
   "source": [
    "step = sess.run(global_step)\n",
    "for ep_i in range(50):\n",
    "    train_acc = []\n",
    "    train_loss = []\n",
    "    for jj in range(train_images.shape[0]/batch_size):\n",
    "        _, summary_str, train_acc_i, train_loss_i = sess.run(\n",
    "            [train_op, summary_op, accuracy, total_loss],\n",
    "            feed_dict={\n",
    "                input_images: train_images[jj*batch_size:(1+jj)*batch_size],\n",
    "                labels: train_labels[jj*batch_size:(1+jj)*batch_size]\n",
    "            })\n",
    "        train_acc += [train_acc_i]\n",
    "        train_loss += [train_loss_i]\n",
    "\n",
    "    print((\"epoch: {}, train_acc:{:.4f}, train_loss:{:.4f}\".\n",
    "          format(ep_i, np.mean(train_acc), np.mean(train_loss))))"
   ]
  },
  {
   "cell_type": "markdown",
   "metadata": {},
   "source": [
    "### Visualize train_data"
   ]
  },
  {
   "cell_type": "code",
   "execution_count": 17,
   "metadata": {
    "ExecuteTime": {
     "end_time": "2017-04-23T12:59:50.504392",
     "start_time": "2017-04-23T12:59:49.038455"
    },
    "scrolled": false
   },
   "outputs": [],
   "source": [
    "# train_feat = []\n",
    "# train_pred = []\n",
    "# for jj in range(train_images.shape[0]/batch_size):\n",
    "#     [feat_i, pred_i] = sess.run([features, tf.nn.softmax(logits)], feed_dict={input_images:train_images[jj*batch_size:(1+jj)*batch_size]})\n",
    "#     train_feat += [feat_i]\n",
    "#     train_pred += [pred_i]\n",
    "# train_feat = np.concatenate(train_feat,0)\n",
    "# train_pred= np.argmax(np.concatenate(train_pred,0), 1)\n",
    "\n",
    "# %matplotlib inline\n",
    "# import matplotlib.pyplot as plt\n",
    "\n",
    "# labels_val = train_labels[:train_feat.shape[0]]\n",
    "\n",
    "# f = plt.figure(figsize=(16,9))\n",
    "# c = ['#ff0000', '#00ff00', '#990000', '#00ffff', '#0000ff', \n",
    "#      '#ff00ff', '#ffff00', '#999900', '#009900', '#009999']\n",
    "# for i in range(2):\n",
    "#     plt.plot(train_feat[labels_val==i,0].flatten(), train_feat[labels_val==i,1].flatten(), '.', c=c[i])\n",
    "# plt.legend(['0', '1', '2', '3', '4', '5', '6', '7', '8', '9'])\n",
    "\n",
    "# miss_class = labels_val!=train_pred\n",
    "# for i, f_i in enumerate(miss_class):\n",
    "#     if f_i:\n",
    "#         plt.scatter(train_feat[i,0].flatten(), train_feat[i,1].flatten(), s=200, facecolors='none', edgecolors=c[train_pred[i]])\n",
    "\n",
    "# plt.grid()\n",
    "# plt.show()"
   ]
  },
  {
   "cell_type": "markdown",
   "metadata": {},
   "source": [
    "# FGM attack"
   ]
  },
  {
   "cell_type": "code",
   "execution_count": 18,
   "metadata": {
    "scrolled": true
   },
   "outputs": [],
   "source": [
    "\n",
    "def get_attack_directions_lenet(input_pl_var, logits_var, label_pl, batch_xs, batch_ys, sess, epsilon=0.1):\n",
    "    '''\n",
    "    input_pl_var: variable of the starting placeholder of the graph, (bs, 28, 28, 1)\n",
    "    output: end point of the graph, after softmax and argmax, (bs, 1)\n",
    "    label_pl: placeholder of the ground truth label, used for untargeted attack, (bs, 1)\n",
    "    img_val: a particular image to be attacked, (1, 28, 28, 1)\n",
    "    label_val: the label associated with img_val, (1, 1)\n",
    "    '''\n",
    "    imsize = 64\n",
    "    \n",
    "#     temp = set(tf.all_variables())\n",
    "    # set target\n",
    "    adv_label = label_pl \n",
    "    # set loss\n",
    "    adversarial_loss = -tf.nn.sparse_softmax_cross_entropy_with_logits(labels=adv_label, logits=logits_var) \n",
    "    # gradient direction\n",
    "    gradient_direction = tf.gradients(adversarial_loss, input_pl_var)[0]\n",
    "#     # apply gradients, for iterative methods\n",
    "#     optimizer = tf.train.AdamOptimizer(0.01)\n",
    "#     grads = optimizer.compute_gradients(adversarial_loss, var_list=input_pl_var)\n",
    "#     apply_gradient_op = optimizer.apply_gradients(grads)\n",
    "\n",
    "#     init_op = tf.initialize_variables(set(tf.all_variables()) - temp)\n",
    "\n",
    "    orth_transform = np.asarray([[(-1) ** j] * imsize for j in range(imsize)])\n",
    "    orth_transform = np.expand_dims(np.expand_dims(orth_transform, 0), -1)\n",
    "#     sess.run(init_op, feed_dict)\n",
    "\n",
    "    feed_dict = {\n",
    "                    input_pl_var: np.tile(batch_xs,(batch_size,1,1,1)),\n",
    "                    label_pl: np.tile(batch_ys,(batch_size))\n",
    "               }\n",
    "    gradient_direction_var = sess.run(gradient_direction, feed_dict)\n",
    "#     l2_norm = gradient_direction_var.reshape(batch_size,-1)\n",
    "#     l2_norm = np.linalg.norm( l2_norm, ord=2, axis=1)\n",
    "#     l2_norm = np.transpose(np.tile(l2_norm,(1, 1, 1, 1)),(3,0,1,2))\n",
    "#     delta = gradient_direction_var / l2_norm\n",
    "    delta = np.sign(gradient_direction_var)\n",
    "    delta_vec = {\n",
    "                    'x': delta,\n",
    "                    'y': delta[:, ::-1, ::-1, :] * np.tile(orth_transform, (1,1,1,3))\n",
    "                 }\n",
    "\n",
    "    feed_dict = {\n",
    "                    input_pl_var: np.tile(batch_xs,(batch_size,1,1,1)),\n",
    "                    label_pl: np.tile(batch_ys,(batch_size))\n",
    "               }\n",
    "    orig_prob = sess.run(tf.nn.softmax(logits_var), feed_dict)\n",
    "\n",
    "    feed_dict = {\n",
    "                    input_pl_var: np.tile(batch_xs,(batch_size,1,1,1))-delta_vec['x']*epsilon,\n",
    "                    label_pl: np.tile(batch_ys,(batch_size))\n",
    "               }\n",
    "    adv_prob = sess.run(tf.nn.softmax(logits_var), feed_dict)\n",
    "    \n",
    "    return delta_vec, orig_prob, adv_prob\n",
    "\n",
    "#     attack_history = {}\n",
    "#     attack_history['x_hist'] = []\n",
    "#     attack_history['y_hist'] = []\n",
    "#     for i in range(50):\n",
    "#         _, adversarial_img, adversarial_pred = sess.run([apply_gradient_op, input_pl_var, output_var], feed_dict)\n",
    "#         attack_history['x_hist'] += [adversarial_img]\n",
    "#         attack_history['y_hist'] += [adversarial_pred]\n",
    "\n",
    "#     pred = {}\n",
    "#     pred['ground_truth'] = batch_ys[0]\n",
    "#     feed_dict_orig = {input_pl_var: batch_xs.reshape(1, imsize, imsize, 1)}\n",
    "#     pred['original'] = sess.run(output_var, feed_dict_orig)[0]\n",
    "#     feed_dict_attack = {input_pl_var: attack_history['x_hist'][-1].reshape(1, imsize, imsize, 1)}\n",
    "#     pred['attacked'] = sess.run(output_var, feed_dict_attack)[0]\n",
    "#     feed_dict_step = {input_pl_var: (delta_vec['x'] + batch_xs).reshape(1, imsize, imsize, 1)}\n",
    "#     pred['one_large_step'] = sess.run(output_var, feed_dict_step)[0]\n",
    "\n",
    "#     # output only when the attack is successful,\n",
    "#     if np.argmax(pred['attacked']) != np.argmax(pred['original']):\n",
    "#         # output only directions\n",
    "#         return batch_xs, batch_ys, delta_vec, attack_history\n",
    "\n",
    "input_pl_var = tf.Variable(input_images, name='input_pl_var')\n",
    "with tf.variable_scope(\"build_network\", reuse=True):\n",
    "    logits_var, feature_list, total_loss, accuracy, centers_update_op_list = build_network(input_pl_var, labels, ratio=LAMBDA, reuse=True)\n"
   ]
  },
  {
   "cell_type": "code",
   "execution_count": 19,
   "metadata": {
    "scrolled": true
   },
   "outputs": [
    {
     "name": "stdout",
     "output_type": "stream",
     "text": [
      "success index: 0\n",
      "success index: 1\n",
      "success index: 2\n",
      "success index: 3\n",
      "success index: 4\n",
      "success index: 6\n",
      "success index: 7\n",
      "success index: 8\n",
      "success index: 9\n",
      "success index: 10\n",
      "success index: 12\n",
      "success index: 13\n",
      "success index: 14\n",
      "success index: 15\n",
      "success index: 17\n",
      "success index: 18\n",
      "success index: 19\n",
      "success index: 20\n",
      "success index: 21\n",
      "success index: 22\n",
      "success index: 23\n",
      "success index: 24\n",
      "success index: 25\n",
      "success index: 26\n",
      "success index: 27\n",
      "success index: 29\n",
      "success index: 30\n",
      "success index: 31\n",
      "success index: 33\n",
      "success index: 34\n",
      "success index: 35\n",
      "success index: 37\n",
      "success index: 38\n",
      "success index: 39\n",
      "success index: 40\n",
      "success index: 41\n",
      "success index: 42\n",
      "success index: 43\n",
      "success index: 44\n",
      "success index: 45\n",
      "success index: 46\n",
      "success index: 47\n",
      "success index: 48\n",
      "success index: 49\n",
      "success index: 50\n",
      "success index: 51\n",
      "success index: 52\n",
      "success index: 53\n",
      "success index: 54\n",
      "success index: 55\n",
      "success index: 56\n",
      "success index: 57\n",
      "success index: 58\n",
      "success index: 59\n",
      "success index: 60\n",
      "success index: 61\n",
      "success index: 62\n",
      "success index: 63\n",
      "success index: 64\n",
      "success index: 65\n",
      "success index: 66\n",
      "success index: 67\n",
      "success index: 68\n",
      "success index: 69\n",
      "success index: 70\n",
      "success index: 71\n",
      "success index: 72\n",
      "success index: 73\n",
      "success index: 74\n",
      "success index: 75\n",
      "success index: 76\n",
      "success index: 77\n",
      "success index: 78\n",
      "success index: 79\n",
      "success index: 80\n",
      "success index: 81\n",
      "success index: 82\n",
      "success index: 83\n",
      "success index: 84\n",
      "success index: 85\n",
      "success index: 86\n",
      "success index: 87\n",
      "success index: 88\n",
      "success index: 89\n",
      "success index: 90\n",
      "success index: 91\n",
      "success index: 92\n",
      "success index: 93\n",
      "success index: 95\n",
      "success index: 96\n",
      "success index: 97\n",
      "success index: 98\n",
      "success index: 99\n",
      "success index: 100\n",
      "success index: 101\n",
      "success index: 102\n",
      "success index: 103\n",
      "success index: 104\n",
      "success index: 105\n",
      "success index: 106\n",
      "success index: 107\n",
      "success index: 108\n",
      "success index: 109\n",
      "success index: 110\n",
      "success index: 111\n",
      "success index: 112\n",
      "success index: 113\n",
      "success index: 114\n",
      "success index: 115\n",
      "success index: 116\n",
      "success index: 117\n",
      "success index: 118\n",
      "success index: 119\n",
      "success index: 120\n",
      "success index: 121\n",
      "success index: 122\n",
      "success index: 123\n",
      "success index: 124\n",
      "success index: 125\n",
      "success index: 126\n",
      "success index: 127\n"
     ]
    }
   ],
   "source": [
    "delta_vec_list = []\n",
    "img_list = []\n",
    "orig_prob_list = []\n",
    "adv_prob_list = []\n",
    "epsilon = 0.02\n",
    "N = batch_size\n",
    "attack_success_flag = []\n",
    "for i in range(N):\n",
    "    img_val = test_images[i:i+1]\n",
    "    label_val = test_labels[i:i+1]\n",
    "    delta_vec, orig_prob, adv_prob = get_attack_directions_lenet(input_pl_var, logits_var, labels, img_val, label_val, sess, epsilon=epsilon)\n",
    "\n",
    "    delta_vec_list += [delta_vec]\n",
    "    img_list += [img_val]\n",
    "    orig_prob_list += [orig_prob]\n",
    "    adv_prob_list += [adv_prob]\n",
    "    \n",
    "    if np.argmax(orig_prob[0]) != np.argmax(adv_prob[0]):\n",
    "        attack_success_flag += [1]\n",
    "        print('success index: {}'.format(i))\n",
    "    else:\n",
    "        attack_success_flag += [0]\n",
    "        \n",
    "tracking_img = np.concatenate(img_list,0)\n",
    "tracking_grad = np.concatenate([delta_vec_list[i]['x'][0:1] for i in range(batch_size)],0)"
   ]
  },
  {
   "cell_type": "code",
   "execution_count": 20,
   "metadata": {},
   "outputs": [
    {
     "name": "stdout",
     "output_type": "stream",
     "text": [
      "orig pred: [2.75928471e-08 7.60499996e-11 9.33450213e-16 3.10403836e-09\n",
      " 4.76999440e-10 6.00271040e-14 8.33596560e-12 9.29495840e-15\n",
      " 2.73579119e-12 4.20907838e-07 5.32445368e-20 6.28814500e-11\n",
      " 2.35372184e-08 3.31940394e-13 6.14242988e-12 6.96508984e-09\n",
      " 1.62705064e-07 1.22459944e-13 7.02747322e-13 2.26316404e-15\n",
      " 3.06795948e-15 1.61326160e-17 1.42226217e-14 3.73620510e-11\n",
      " 3.70714431e-11 8.23231601e-19 3.41934732e-14 1.09501186e-09\n",
      " 3.15472847e-14 1.36269771e-15 1.11939114e-14 1.61066022e-10\n",
      " 2.30522282e-15 8.89336653e-15 1.60239064e-13 3.84907453e-11\n",
      " 7.25649540e-10 2.14815377e-16 6.26227890e-15 2.19583097e-12\n",
      " 2.74180635e-14 2.06571496e-11 6.63489402e-11 7.19021707e-20\n",
      " 1.48247734e-10 4.13237240e-06 9.99160171e-01 6.95278053e-04\n",
      " 6.66859934e-16 4.07732387e-14 5.46368777e-13 4.39319410e-06\n",
      " 4.99540804e-16 4.58668985e-14 1.46376123e-11 3.48440114e-18\n",
      " 5.94870350e-19 2.74027843e-15 2.24573256e-07 1.15189339e-13\n",
      " 1.04610975e-13 1.99771264e-14 9.10715324e-14 1.02200788e-23\n",
      " 3.37025807e-12 1.70684600e-09 3.62462865e-10 4.63605456e-12\n",
      " 2.17577167e-14 2.68934180e-12 2.58403965e-10 9.05542481e-12\n",
      " 2.33875350e-11 7.29568683e-10 4.10075663e-12 1.09807513e-14\n",
      " 2.72607771e-15 7.46622750e-16 3.98678313e-12 1.56043772e-11\n",
      " 6.54782450e-10 1.69194289e-16 8.26041618e-17 5.60068875e-12\n",
      " 1.17782790e-16 3.04783802e-11 1.13891976e-15 1.62808338e-14\n",
      " 1.50573633e-05 7.58531489e-14 5.41732349e-13 1.13913268e-15\n",
      " 1.85862034e-14 2.02434478e-13 4.21436288e-15 1.99398102e-11\n",
      " 6.40380896e-18 1.03684705e-09 5.78347916e-12 1.38134038e-15\n",
      " 1.55541587e-11 2.20765290e-12 1.08154958e-15 1.26676572e-14\n",
      " 8.78383087e-13 7.02572115e-12 5.88456923e-16 4.90559978e-14\n",
      " 1.44901820e-16 2.14440754e-09 2.12033104e-12 1.73418044e-10\n",
      " 1.00405797e-16 3.02469740e-14 7.71471049e-13 1.47203910e-16\n",
      " 4.45944705e-11 2.10291149e-16 2.54072111e-12 2.78455847e-14\n",
      " 8.96666164e-14 4.12757805e-12 6.12939317e-08 1.09675920e-13\n",
      " 8.04301938e-13 2.53235238e-15 1.03587650e-13 3.03713987e-09\n",
      " 1.71788395e-14 1.19108011e-12 2.43350067e-15 2.75962629e-12\n",
      " 7.13130987e-07 9.06468260e-13 1.27300384e-12 1.22600337e-18\n",
      " 3.00827715e-14 3.69898047e-18 2.07053624e-10 1.13258109e-04\n",
      " 1.81400493e-17 7.15604964e-10 3.74698630e-16 1.26663918e-19\n",
      " 1.13482554e-06 2.24264288e-10 2.52425112e-11 5.32624440e-19\n",
      " 8.62869821e-14 1.22128327e-12 1.22056008e-14 7.38536836e-12\n",
      " 3.58975322e-10 1.20163253e-14 7.13351921e-15 1.04390199e-06\n",
      " 6.07640778e-19 9.59874609e-14 1.00868012e-16 2.12889449e-15\n",
      " 2.11945348e-12 4.89092240e-14 2.30414402e-13 4.65032540e-14\n",
      " 1.06074737e-16 1.02479230e-14 5.54431557e-19 1.05510659e-14\n",
      " 1.88626953e-14 3.43636417e-19 3.06813740e-06 1.81023436e-13\n",
      " 2.09677883e-13 7.94028363e-13 6.67530701e-12 3.30647623e-07\n",
      " 3.69779945e-12 8.11634343e-13 1.84142650e-07 4.31073146e-16\n",
      " 1.23829167e-11 3.53987694e-12 9.48625727e-12 1.06294673e-09\n",
      " 2.74641989e-16 1.95841423e-08 9.49243803e-14 2.79678398e-11\n",
      " 2.19124616e-19 1.23324225e-16 1.06360098e-14 7.32464287e-15\n",
      " 6.08113976e-11 7.44754018e-08 4.17709956e-09 4.78266617e-14\n",
      " 3.23249197e-18 2.51095003e-07 1.51064263e-16 1.08869649e-11]\n",
      "adv pred: [3.31824843e-08 1.57023405e-11 1.47621484e-16 6.53781404e-11\n",
      " 6.40350717e-10 6.31519237e-14 3.78909388e-13 1.69779125e-16\n",
      " 1.24219055e-11 1.94237302e-07 3.68218536e-22 4.02174301e-11\n",
      " 3.88955534e-11 9.71488769e-16 1.01749225e-11 6.01971639e-10\n",
      " 7.65111530e-09 3.00624000e-15 2.17418965e-12 1.07336036e-15\n",
      " 9.68222356e-15 2.92169159e-17 1.30972642e-12 4.17646889e-10\n",
      " 3.64318731e-12 5.64073849e-17 8.79263405e-13 1.78098647e-10\n",
      " 4.41761616e-16 2.40068409e-13 3.53395800e-14 6.25545671e-10\n",
      " 7.27084612e-15 3.88484283e-17 1.75962467e-12 2.20506079e-12\n",
      " 2.91251051e-10 4.24716455e-16 7.61261280e-13 2.63276984e-10\n",
      " 2.36661358e-13 9.86729101e-12 2.57998570e-11 4.76883685e-19\n",
      " 2.04799372e-12 2.25113880e-07 5.88618621e-09 9.99444425e-01\n",
      " 6.79469184e-17 8.43075398e-16 2.47776870e-13 8.34537786e-06\n",
      " 3.84844205e-16 1.30939202e-15 2.62906197e-10 4.92934408e-20\n",
      " 2.25873118e-19 2.50305673e-14 1.23148469e-08 1.77970516e-15\n",
      " 1.00996262e-12 5.47184978e-15 4.93704487e-11 2.78811525e-21\n",
      " 5.70186395e-14 2.78479878e-10 1.03030778e-10 1.74156486e-15\n",
      " 5.27269222e-16 6.20703508e-14 2.29859296e-12 7.47841927e-11\n",
      " 1.08590166e-14 6.07310556e-12 2.64852845e-11 1.09904451e-16\n",
      " 3.07743002e-12 7.65938606e-15 4.34924567e-15 1.84901920e-12\n",
      " 2.14919679e-11 2.93319886e-14 9.45514689e-17 2.38861032e-11\n",
      " 1.10208473e-15 3.53515189e-10 4.06075965e-19 4.19906991e-12\n",
      " 1.34731190e-05 2.64662803e-16 3.02295081e-14 7.74289361e-18\n",
      " 1.01892727e-15 1.73363982e-12 1.98406996e-17 8.02580794e-14\n",
      " 4.71398419e-17 8.41140491e-11 2.88554310e-14 5.99270728e-16\n",
      " 3.08158859e-12 2.16832663e-11 8.94061970e-18 1.67479789e-12\n",
      " 3.57795011e-13 3.08319949e-12 1.17189496e-11 8.59022106e-15\n",
      " 3.21749204e-17 2.94859683e-06 2.42363285e-13 2.34841382e-11\n",
      " 9.21203435e-13 9.93495426e-16 9.92287747e-15 9.29557184e-17\n",
      " 2.91083043e-12 1.09287118e-13 3.33359832e-13 8.12924692e-14\n",
      " 9.34867892e-14 6.09913075e-12 2.80809798e-09 2.43520651e-14\n",
      " 2.21167180e-14 2.60942528e-16 7.98570550e-15 4.39179554e-10\n",
      " 1.28703919e-13 3.51258837e-14 1.58997105e-15 4.25707997e-10\n",
      " 6.51967275e-05 1.09274569e-14 6.01788758e-11 6.34265749e-17\n",
      " 2.49922937e-15 1.53159293e-16 1.22145252e-10 4.55108704e-04\n",
      " 4.46370181e-19 4.21126111e-12 2.00479447e-17 2.06466637e-16\n",
      " 5.52866375e-09 5.14142548e-11 1.29554380e-13 8.67583174e-18\n",
      " 4.25026183e-15 3.57900865e-09 2.40025512e-12 4.58339876e-12\n",
      " 9.90297977e-09 3.47410097e-15 7.12317846e-14 9.66608513e-06\n",
      " 1.50866329e-18 2.81478840e-14 7.12526286e-16 3.46724841e-12\n",
      " 2.44988448e-12 8.34621712e-15 2.55749955e-09 2.10614556e-14\n",
      " 1.24204469e-17 3.60430201e-16 2.12467596e-19 9.55537233e-16\n",
      " 1.24762142e-14 9.72640902e-18 4.98845978e-08 8.54461833e-14\n",
      " 1.18643958e-15 1.53792425e-13 1.57087952e-13 3.05932730e-07\n",
      " 2.55749930e-13 1.29481437e-14 1.29432447e-08 1.07389479e-19\n",
      " 3.82982144e-12 1.90427171e-11 3.29965623e-15 2.20299903e-10\n",
      " 1.23121173e-20 1.23332222e-09 2.69576435e-14 2.68757727e-13\n",
      " 1.46308682e-21 5.44404850e-17 1.10667726e-14 3.08874932e-16\n",
      " 3.98524096e-12 2.25014160e-10 4.06718909e-10 4.77123258e-14\n",
      " 8.60201795e-17 1.44763909e-10 3.06506827e-13 2.76007585e-11]\n"
     ]
    },
    {
     "data": {
      "image/png": "[encoded data removed]",
      "text/plain": [
       "<Figure size 432x288 with 3 Axes>"
      ]
     },
     "metadata": {},
     "output_type": "display_data"
    }
   ],
   "source": [
    "idx = 1\n",
    "import seaborn as sns\n",
    "plt.subplot(1,3,1)\n",
    "plt.imshow(img_list[idx][0,:,:,:])\n",
    "plt.subplot(1,3,2)\n",
    "plt.imshow(-delta_vec_list[idx]['x'][0,:,:,:]*epsilon)\n",
    "plt.subplot(1,3,3)\n",
    "plt.imshow(img_list[idx][0,:,:,:] - delta_vec_list[idx]['x'][0,:,:,:]*epsilon)\n",
    "\n",
    "print('orig pred: {}'.format(orig_prob_list[idx][0]))\n",
    "print('adv pred: {}'.format(adv_prob_list[idx][0]))"
   ]
  },
  {
   "cell_type": "code",
   "execution_count": 21,
   "metadata": {
    "scrolled": false
   },
   "outputs": [
    {
     "name": "stderr",
     "output_type": "stream",
     "text": [
      "/home/doi6/anaconda2/lib/python2.7/site-packages/matplotlib/axes/_axes.py:6462: UserWarning: The 'normed' kwarg is deprecated, and has been replaced by the 'density' kwarg.\n",
      "  warnings.warn(\"The 'normed' kwarg is deprecated, and has been \"\n",
      "/home/doi6/anaconda2/lib/python2.7/site-packages/matplotlib/axes/_axes.py:6462: UserWarning: The 'normed' kwarg is deprecated, and has been replaced by the 'density' kwarg.\n",
      "  warnings.warn(\"The 'normed' kwarg is deprecated, and has been \"\n"
     ]
    },
    {
     "data": {
      "text/plain": [
       "<matplotlib.axes._subplots.AxesSubplot at 0x7f08f601c790>"
      ]
     },
     "execution_count": 21,
     "metadata": {},
     "output_type": "execute_result"
    },
    {
     "data": {
      "image/png": "[encoded data removed]",
      "text/plain": [
       "<Figure size 432x288 with 1 Axes>"
      ]
     },
     "metadata": {},
     "output_type": "display_data"
    }
   ],
   "source": [
    "sns.distplot(epsilon*delta_vec_list[idx]['x'][0,:,:,:].flatten())\n",
    "sns.distplot(img_list[idx][0,:,:,:].flatten())"
   ]
  },
  {
   "cell_type": "markdown",
   "metadata": {},
   "source": [
    "# tracking FGM trajectories"
   ]
  },
  {
   "cell_type": "code",
   "execution_count": 22,
   "metadata": {
    "scrolled": true
   },
   "outputs": [],
   "source": [
    "tracking_feat = []\n",
    "tracking_pred = []\n",
    "\n",
    "steps = 100\n",
    "largest_epsilon = 0.05\n",
    "for e_i in range(steps):\n",
    "    adv_img_i = tracking_img - largest_epsilon*e_i/steps * tracking_grad\n",
    "    [feat_i, pred_i] = sess.run([features, tf.nn.softmax(logits)], feed_dict={input_images: adv_img_i})\n",
    "    tracking_feat += [np.expand_dims(feat_i, 0)]\n",
    "    tracking_pred += [np.expand_dims(pred_i, 0)]\n",
    "tracking_feat = np.concatenate(tracking_feat,0).transpose(1,0,2) # (batch_size, steps, feature_dim)\n",
    "tracking_pred = np.argmax( np.concatenate(tracking_pred,0), -1).transpose(1,0) # (batch_size, steps)\n",
    "# save adversarial images\n",
    "np.save('tracking_pred', tracking_pred)\n",
    "np.save('tracking_feat', tracking_feat)"
   ]
  },
  {
   "cell_type": "code",
   "execution_count": 23,
   "metadata": {},
   "outputs": [
    {
     "name": "stdout",
     "output_type": "stream",
     "text": [
      "mean delta: 1.29328125\n",
      "median delta: 1.02\n"
     ]
    },
    {
     "data": {
      "image/png": "[encoded data removed]",
      "text/plain": [
       "<Figure size 432x288 with 1 Axes>"
      ]
     },
     "metadata": {},
     "output_type": "display_data"
    }
   ],
   "source": [
    "import matplotlib.pyplot as plt\n",
    "\n",
    "# # original testing data feature distribution\n",
    "# labels_val = train_labels[:train_feat.shape[0]]\n",
    "\n",
    "# f = plt.figure(figsize=(16,9))\n",
    "# c = ['#ff0000', '#00ff00', '#990000', '#00ffff', '#0000ff', \n",
    "#      '#ff00ff', '#ffff00', '#999900', '#009900', '#009999']\n",
    "# for i in range(2):\n",
    "#     plt.plot(train_feat[labels_val==i,0].flatten(), train_feat[labels_val==i,1].flatten(), '.', c=c[i])\n",
    "# plt.legend(['0', '1', '2', '3', '4', '5', '6', '7', '8', '9'])\n",
    "# miss_class = labels_val!=train_pred\n",
    "# for i, f_i in enumerate(miss_class):\n",
    "#     if f_i:\n",
    "#         plt.scatter(train_feat[i,0].flatten(), train_feat[i,1].flatten(), s=200, facecolors='none', edgecolors=c[train_pred[i]])\n",
    "\n",
    "\n",
    "# adversarial data feature trajectory\n",
    "N = batch_size\n",
    "# for i in range(N):\n",
    "#     if tracking_pred[i,-1] != tracking_pred[i,0]:\n",
    "#         plt.plot(tracking_feat[i, :, 0], tracking_feat[i, :, 1], 'k-')\n",
    "mean_delta = np.zeros(N)\n",
    "for i in range(N):\n",
    "    if tracking_pred[i,-1] == tracking_pred[i,0]:\n",
    "        mean_delta[i] += [largest_epsilon]\n",
    "    else:\n",
    "#         for j in range(steps):\n",
    "#             plt.plot(tracking_feat[i, j, 0], tracking_feat[i, j, 1], '*-', MarkerSize=13, color=c[tracking_pred[i,j]])\n",
    "        for j in range(steps):\n",
    "            if tracking_pred[i,j] != tracking_pred[i,0]:\n",
    "                mean_delta[i] += [largest_epsilon*j/steps*255.]\n",
    "                break\n",
    "print('mean delta: {}'.format(np.mean(mean_delta)))\n",
    "print('median delta: {}'.format(np.median(mean_delta)))\n",
    "plt.grid()\n",
    "plt.show()\n"
   ]
  },
  {
   "cell_type": "code",
   "execution_count": 24,
   "metadata": {},
   "outputs": [
    {
     "name": "stderr",
     "output_type": "stream",
     "text": [
      "/home/doi6/anaconda2/lib/python2.7/site-packages/matplotlib/axes/_axes.py:6462: UserWarning: The 'normed' kwarg is deprecated, and has been replaced by the 'density' kwarg.\n",
      "  warnings.warn(\"The 'normed' kwarg is deprecated, and has been \"\n"
     ]
    },
    {
     "data": {
      "text/plain": [
       "<matplotlib.axes._subplots.AxesSubplot at 0x7f08f60294d0>"
      ]
     },
     "execution_count": 24,
     "metadata": {},
     "output_type": "execute_result"
    },
    {
     "data": {
      "image/png": "[encoded data removed]",
      "text/plain": [
       "<Figure size 432x288 with 1 Axes>"
      ]
     },
     "metadata": {},
     "output_type": "display_data"
    }
   ],
   "source": [
    "sns.distplot(mean_delta)"
   ]
  }
 ],
 "metadata": {
  "anaconda-cloud": {},
  "kernelspec": {
   "display_name": "Python 2",
   "language": "python",
   "name": "python2"
  },
  "language_info": {
   "codemirror_mode": {
    "name": "ipython",
    "version": 2
   },
   "file_extension": ".py",
   "mimetype": "text/x-python",
   "name": "python",
   "nbconvert_exporter": "python",
   "pygments_lexer": "ipython2",
   "version": "2.7.15"
  }
 },
 "nbformat": 4,
 "nbformat_minor": 1
}
