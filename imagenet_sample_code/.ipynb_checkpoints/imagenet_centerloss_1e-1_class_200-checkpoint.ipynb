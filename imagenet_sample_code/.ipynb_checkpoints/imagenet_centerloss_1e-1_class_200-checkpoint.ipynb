{
 "cells": [
  {
   "cell_type": "markdown",
   "metadata": {},
   "source": [
    "## Parameters"
   ]
  },
  {
   "cell_type": "code",
   "execution_count": 1,
   "metadata": {
    "ExecuteTime": {
     "end_time": "2017-04-23T12:58:05.100181",
     "start_time": "2017-04-23T12:58:05.098147"
    }
   },
   "outputs": [],
   "source": [
    "LAMBDA = 1e-3\n",
    "CENTER_LOSS_ALPHA = 0.5\n",
    "NUM_CLASSES = 200\n",
    "batch_size = 128\n"
   ]
  },
  {
   "cell_type": "markdown",
   "metadata": {},
   "source": [
    "## Import modules"
   ]
  },
  {
   "cell_type": "code",
   "execution_count": 2,
   "metadata": {
    "ExecuteTime": {
     "end_time": "2017-04-23T12:58:06.723861",
     "start_time": "2017-04-23T12:58:05.101724"
    }
   },
   "outputs": [
    {
     "name": "stderr",
     "output_type": "stream",
     "text": [
      "/home/doi6/anaconda2/lib/python2.7/site-packages/h5py/__init__.py:36: FutureWarning: Conversion of the second argument of issubdtype from `float` to `np.floating` is deprecated. In future, it will be treated as `np.float64 == np.dtype(float).type`.\n",
      "  from ._conv import register_converters as _register_converters\n"
     ]
    }
   ],
   "source": [
    "import os\n",
    "import numpy as np\n",
    "import tensorflow as tf\n",
    "import tflearn\n",
    "# from tensorflow.examples.tutorials.mnist import input_data\n",
    "\n",
    "slim = tf.contrib.slim\n",
    "os.environ['CUDA_VISIBLE_DEVICES'] = '0'"
   ]
  },
  {
   "cell_type": "markdown",
   "metadata": {},
   "source": [
    "## Construct network"
   ]
  },
  {
   "cell_type": "code",
   "execution_count": 3,
   "metadata": {
    "ExecuteTime": {
     "end_time": "2017-04-23T12:58:06.729925",
     "start_time": "2017-04-23T12:58:06.724981"
    }
   },
   "outputs": [],
   "source": [
    "with tf.name_scope('input'):\n",
    "    input_images = tf.placeholder(tf.float32, shape=(batch_size,64,64,3), name='input_images')\n",
    "    labels = tf.placeholder(tf.int64, shape=(batch_size), name='labels')\n",
    "    \n",
    "global_step = tf.Variable(0, trainable=False, name='global_step')"
   ]
  },
  {
   "cell_type": "code",
   "execution_count": 4,
   "metadata": {
    "ExecuteTime": {
     "end_time": "2017-04-23T12:58:06.803814",
     "start_time": "2017-04-23T12:58:06.730853"
    },
    "code_folding": []
   },
   "outputs": [],
   "source": [
    "def get_center_loss(features, labels, alpha, num_classes):\n",
    "    \"\"\"获取center loss及center的更新op\n",
    "    \n",
    "    Arguments:\n",
    "        features: Tensor,表征样本特征,一般使用某个fc层的输出,shape应该为[batch_size, feature_length].\n",
    "        labels: Tensor,表征样本label,非one-hot编码,shape应为[batch_size].\n",
    "        alpha: 0-1之间的数字,控制样本类别中心的学习率,细节参考原文.\n",
    "        num_classes: 整数,表明总共有多少个类别,网络分类输出有多少个神经元这里就取多少.\n",
    "    \n",
    "    Return：\n",
    "        loss: Tensor,可与softmax loss相加作为总的loss进行优化.\n",
    "        centers: Tensor,存储样本中心值的Tensor，仅查看样本中心存储的具体数值时有用.\n",
    "        centers_update_op: op,用于更新样本中心的op，在训练时需要同时运行该op，否则样本中心不会更新\n",
    "    \"\"\"\n",
    "    # 获取特征的维数，例如256维\n",
    "    len_features = features.get_shape()[1]\n",
    "    # 建立一个Variable,shape为[num_classes, len_features]，用于存储整个网络的样本中心，\n",
    "    # 设置trainable=False是因为样本中心不是由梯度进行更新的\n",
    "    centers = tf.get_variable('centers', [num_classes, len_features], dtype=tf.float32,\n",
    "        initializer=tf.constant_initializer(0), trainable=False)\n",
    "    # 将label展开为一维的，输入如果已经是一维的，则该动作其实无必要\n",
    "    labels = tf.reshape(labels, [-1])\n",
    "    \n",
    "    # 根据样本label,获取mini-batch中每一个样本对应的中心值\n",
    "    centers_batch = tf.gather(centers, labels)\n",
    "    # 计算loss\n",
    "    loss = tf.nn.l2_loss(features - centers_batch)\n",
    "    \n",
    "    # 当前mini-batch的特征值与它们对应的中心值之间的差\n",
    "    diff = centers_batch - features\n",
    "    \n",
    "    # 获取mini-batch中同一类别样本出现的次数,了解原理请参考原文公式(4)\n",
    "    unique_label, unique_idx, unique_count = tf.unique_with_counts(labels)\n",
    "    appear_times = tf.gather(unique_count, unique_idx)\n",
    "    appear_times = tf.reshape(appear_times, [-1, 1])\n",
    "    \n",
    "    diff = diff / tf.cast((1 + appear_times), tf.float32)\n",
    "    diff = alpha * diff\n",
    "    \n",
    "    centers_update_op = tf.scatter_sub(centers, labels, diff)\n",
    "    \n",
    "    return loss, centers, centers_update_op"
   ]
  },
  {
   "cell_type": "code",
   "execution_count": 5,
   "metadata": {
    "ExecuteTime": {
     "end_time": "2017-04-23T12:58:06.909774",
     "start_time": "2017-04-23T12:58:06.804749"
    },
    "code_folding": []
   },
   "outputs": [],
   "source": [
    "\n",
    "def inference(input_images, num_class=10, reuse=False):\n",
    "    with slim.arg_scope([slim.conv2d], kernel_size=3, padding='SAME'):\n",
    "        with slim.arg_scope([slim.max_pool2d], kernel_size=2):\n",
    "\n",
    "            x = slim.conv2d(input_images, num_outputs=64, scope='conv1_1')\n",
    "            x = slim.conv2d(x, num_outputs=64, scope='conv1_2')\n",
    "            x = slim.max_pool2d(x, scope='pool1')\n",
    "\n",
    "            x = slim.conv2d(x, num_outputs=128, scope='conv2_1')\n",
    "            x = slim.conv2d(x, num_outputs=128, scope='conv2_2')\n",
    "            x = slim.max_pool2d(x, scope='pool2')\n",
    "\n",
    "            x = slim.conv2d(x, num_outputs=256, scope='conv3_1')\n",
    "            x = slim.conv2d(x, num_outputs=256, scope='conv3_2')\n",
    "            x = slim.max_pool2d(x, scope='pool3')\n",
    "\n",
    "            x = slim.conv2d(x, num_outputs=512, scope='conv4_1')\n",
    "            x = slim.conv2d(x, num_outputs=512, scope='conv4_2')\n",
    "            x = slim.max_pool2d(x, scope='pool3')\n",
    "\n",
    "            x = slim.flatten(x, scope='flatten')\n",
    "\n",
    "            feature3 = x = slim.fully_connected(x, num_outputs=512, activation_fn=None, scope='fc0')\n",
    "\n",
    "            feature2 = x = slim.fully_connected(x, num_outputs=32, activation_fn=None, scope='fc1')\n",
    "\n",
    "            feature1 = x =slim.fully_connected(x, num_outputs=2, activation_fn=None, scope='fc2')\n",
    "\n",
    "            x = tflearn.prelu(feature3)\n",
    "\n",
    "            x = slim.fully_connected(x, num_outputs=num_class, activation_fn=None, scope='fc3')\n",
    "\n",
    "    feature_list = [feature1, feature2]\n",
    "    return x, feature_list"
   ]
  },
  {
   "cell_type": "code",
   "execution_count": 6,
   "metadata": {
    "ExecuteTime": {
     "end_time": "2017-04-23T12:58:07.002232",
     "start_time": "2017-04-23T12:58:06.911010"
    },
    "code_folding": []
   },
   "outputs": [],
   "source": [
    "def build_network(input_images, labels, ratio=0.5, reuse=False):\n",
    "    logits, feature_list = inference(input_images, num_class=NUM_CLASSES)\n",
    "    \n",
    "    with tf.name_scope('loss'):\n",
    "        with tf.variable_scope('center_loss1'):\n",
    "            center_loss1, centers1, centers_update_op1 = get_center_loss(feature_list[0], labels, CENTER_LOSS_ALPHA, NUM_CLASSES)\n",
    "        with tf.variable_scope('center_loss2'):\n",
    "            center_loss2, centers2, centers_update_op2 = get_center_loss(feature_list[1], labels, CENTER_LOSS_ALPHA, NUM_CLASSES)\n",
    "        with tf.name_scope('softmax_loss'):\n",
    "            softmax_loss = tf.reduce_mean(tf.nn.sparse_softmax_cross_entropy_with_logits(labels=labels, logits=logits))\n",
    "        with tf.name_scope('total_loss'):\n",
    "            total_loss = softmax_loss + ratio * center_loss1#(center_loss1*0.8 + center_loss2*0.2) * 4\n",
    "    \n",
    "    with tf.name_scope('acc'):\n",
    "        accuracy = tf.reduce_mean(tf.cast(tf.equal(tf.arg_max(logits, 1), labels), tf.float32))\n",
    "    \n",
    "    with tf.name_scope('loss/'):\n",
    "        tf.summary.scalar('CenterLoss1', center_loss1)\n",
    "        tf.summary.scalar('CenterLoss2', center_loss2)\n",
    "        tf.summary.scalar('SoftmaxLoss', softmax_loss)\n",
    "        tf.summary.scalar('TotalLoss', total_loss)\n",
    "        \n",
    "    centers_update_op_list = [centers_update_op1, centers_update_op2]\n",
    "    return logits, feature_list, total_loss, accuracy, centers_update_op_list"
   ]
  },
  {
   "cell_type": "code",
   "execution_count": 7,
   "metadata": {
    "ExecuteTime": {
     "end_time": "2017-04-23T12:58:07.300662",
     "start_time": "2017-04-23T12:58:07.004232"
    },
    "scrolled": true
   },
   "outputs": [],
   "source": [
    "with tf.variable_scope(\"build_network\", reuse=False):\n",
    "    logits, feature_list, total_loss, accuracy, centers_update_op_list = build_network(input_images, labels, ratio=LAMBDA)\n",
    "features = feature_list[0]\n",
    "centers_update_op1 = centers_update_op_list[0]\n",
    "centers_update_op2 = centers_update_op_list[1]\n"
   ]
  },
  {
   "cell_type": "markdown",
   "metadata": {},
   "source": [
    "## Prepare data"
   ]
  },
  {
   "cell_type": "code",
   "execution_count": 81,
   "metadata": {},
   "outputs": [],
   "source": [
    "train_images = np.load('train_data.npy').item()['image'] / 255.\n",
    "train_labels = np.load('train_data.npy').item()['label'] \n",
    "\n",
    "if 0:\n",
    "    train_image_5 = train_images[train_labels==5]\n",
    "    train_image_7 = train_images[train_labels==7]\n",
    "    train_images = np.concatenate([train_image_5, train_image_7],0)\n",
    "    train_labels = np.asarray( [0]*len(train_image_5) + [1]*len(train_image_7) )\n",
    "from random import shuffle\n",
    "idx = range(len(train_images))\n",
    "shuffle(idx)\n",
    "train_images = train_images[idx] \n",
    "train_labels = train_labels[idx]\n",
    "\n",
    "test_images = train_images[:200]\n",
    "test_labels = train_labels[:200]"
   ]
  },
  {
   "cell_type": "code",
   "execution_count": 82,
   "metadata": {
    "scrolled": false
   },
   "outputs": [
    {
     "name": "stdout",
     "output_type": "stream",
     "text": [
      "(1.0, 0.0)\n",
      "label: 132\n"
     ]
    },
    {
     "data": {
      "image/png": "[encoded data removed]",
      "text/plain": [
       "<Figure size 432x288 with 1 Axes>"
      ]
     },
     "metadata": {},
     "output_type": "display_data"
    }
   ],
   "source": [
    "% matplotlib inline\n",
    "import matplotlib.pyplot as plt\n",
    "idx = 40\n",
    "print(np.max(train_images[idx]), np.min(train_images[idx]))\n",
    "plt.figure()\n",
    "plt.imshow(train_images[idx])\n",
    "print('label: {}'.format(train_labels[idx]))\n"
   ]
  },
  {
   "cell_type": "code",
   "execution_count": 97,
   "metadata": {},
   "outputs": [],
   "source": [
    "val_images = np.load('val_data.npy').item()['image'] / 255.\n",
    "val_labels = np.load('val_data.npy').item()['label'] \n",
    "\n",
    "if 0:\n",
    "    val_image_5 = val_images[val_labels==5]\n",
    "    val_image_7 = val_images[val_labels==7]\n",
    "    val_images = np.concatenate([val_image_5, val_image_7],0)\n",
    "    val_labels = np.asarray( [0]*len(val_image_5) + [1]*len(val_image_7) )\n",
    "idx_v = range(len(val_images))\n",
    "val_images = val_images[idx_v] \n",
    "val_labels = val_labels[idx_v]\n",
    "\n",
    "val_images = val_images[:200]\n",
    "val_labels = val_labels[:200]\n",
    "#shuffle(idx_v)"
   ]
  },
  {
   "cell_type": "code",
   "execution_count": 98,
   "metadata": {},
   "outputs": [
    {
     "name": "stdout",
     "output_type": "stream",
     "text": [
      "(1.0, 0.0)\n",
      "label: 145\n"
     ]
    },
    {
     "data": {
      "image/png": "[encoded data removed]",
      "text/plain": [
       "<Figure size 432x288 with 1 Axes>"
      ]
     },
     "metadata": {},
     "output_type": "display_data"
    }
   ],
   "source": [
    "% matplotlib inline\n",
    "import matplotlib.pyplot as plt\n",
    "idx_v = 7\n",
    "print(np.max(val_images[idx_v]), np.min(val_images[idx_v]))\n",
    "plt.figure()\n",
    "plt.imshow(val_images[idx_v])\n",
    "print('label: {}'.format(val_labels[idx_v]))"
   ]
  },
  {
   "cell_type": "markdown",
   "metadata": {},
   "source": [
    "## Optimizer"
   ]
  },
  {
   "cell_type": "code",
   "execution_count": 10,
   "metadata": {
    "ExecuteTime": {
     "end_time": "2017-04-23T12:58:07.633505",
     "start_time": "2017-04-23T12:58:07.631587"
    }
   },
   "outputs": [],
   "source": [
    "optimizer = tf.train.AdamOptimizer(0.0001)"
   ]
  },
  {
   "cell_type": "code",
   "execution_count": 11,
   "metadata": {
    "ExecuteTime": {
     "end_time": "2017-04-23T12:58:07.926784",
     "start_time": "2017-04-23T12:58:07.634493"
    }
   },
   "outputs": [],
   "source": [
    "with tf.control_dependencies([centers_update_op1, centers_update_op2]):\n",
    "    train_op = optimizer.minimize(total_loss, global_step=global_step)"
   ]
  },
  {
   "cell_type": "markdown",
   "metadata": {},
   "source": [
    "## Session and Summary"
   ]
  },
  {
   "cell_type": "code",
   "execution_count": 12,
   "metadata": {
    "ExecuteTime": {
     "end_time": "2017-04-23T12:58:07.929944",
     "start_time": "2017-04-23T12:58:07.927740"
    }
   },
   "outputs": [],
   "source": [
    "summary_op = tf.summary.merge_all()"
   ]
  },
  {
   "cell_type": "code",
   "execution_count": 13,
   "metadata": {
    "ExecuteTime": {
     "end_time": "2017-04-23T12:58:10.050499",
     "start_time": "2017-04-23T12:58:07.930866"
    }
   },
   "outputs": [],
   "source": [
    "sess = tf.Session()\n",
    "sess.run(tf.global_variables_initializer())\n",
    "writer = tf.summary.FileWriter('/tmp/mnist_log', sess.graph)"
   ]
  },
  {
   "cell_type": "markdown",
   "metadata": {},
   "source": [
    "## Train"
   ]
  },
  {
   "cell_type": "code",
   "execution_count": 14,
   "metadata": {
    "ExecuteTime": {
     "end_time": "2017-04-23T12:59:49.036352",
     "start_time": "2017-04-23T12:58:10.073172"
    },
    "scrolled": true
   },
   "outputs": [
    {
     "name": "stdout",
     "output_type": "stream",
     "text": [
      "epoch: 0, train_acc:0.0362, train_loss:4.9242\n",
      "epoch: 1, train_acc:0.1398, train_loss:4.0618\n",
      "epoch: 2, train_acc:0.2181, train_loss:3.5447\n",
      "epoch: 3, train_acc:0.2841, train_loss:3.1704\n",
      "epoch: 4, train_acc:0.3417, train_loss:2.8527\n",
      "epoch: 5, train_acc:0.4033, train_loss:2.5381\n",
      "epoch: 6, train_acc:0.4694, train_loss:2.1992\n",
      "epoch: 7, train_acc:0.5483, train_loss:1.8369\n",
      "epoch: 8, train_acc:0.6276, train_loss:1.4864\n",
      "epoch: 9, train_acc:0.6942, train_loss:1.1779\n",
      "epoch: 10, train_acc:0.7529, train_loss:0.9267\n",
      "epoch: 11, train_acc:0.8242, train_loss:0.6612\n",
      "epoch: 12, train_acc:0.8741, train_loss:0.4702\n",
      "epoch: 13, train_acc:0.8996, train_loss:0.3672\n",
      "epoch: 14, train_acc:0.9101, train_loss:0.3133\n",
      "epoch: 15, train_acc:0.9261, train_loss:0.2552\n",
      "epoch: 16, train_acc:0.9392, train_loss:0.2116\n",
      "epoch: 17, train_acc:0.9512, train_loss:0.1697\n",
      "epoch: 18, train_acc:0.9585, train_loss:0.1479\n",
      "epoch: 19, train_acc:0.9605, train_loss:0.1329\n",
      "epoch: 20, train_acc:0.9630, train_loss:0.1242\n",
      "epoch: 21, train_acc:0.9635, train_loss:0.1227\n",
      "epoch: 22, train_acc:0.9644, train_loss:0.1162\n",
      "epoch: 23, train_acc:0.9659, train_loss:0.1127\n",
      "epoch: 24, train_acc:0.9682, train_loss:0.1059\n",
      "epoch: 25, train_acc:0.9677, train_loss:0.1052\n",
      "epoch: 26, train_acc:0.9695, train_loss:0.0987\n",
      "epoch: 27, train_acc:0.9711, train_loss:0.0941\n",
      "epoch: 28, train_acc:0.9725, train_loss:0.0887\n",
      "epoch: 29, train_acc:0.9729, train_loss:0.0858\n",
      "epoch: 30, train_acc:0.9751, train_loss:0.0813\n",
      "epoch: 31, train_acc:0.9764, train_loss:0.0782\n",
      "epoch: 32, train_acc:0.9776, train_loss:0.0745\n",
      "epoch: 33, train_acc:0.9778, train_loss:0.0724\n",
      "epoch: 34, train_acc:0.9781, train_loss:0.0708\n",
      "epoch: 35, train_acc:0.9796, train_loss:0.0672\n",
      "epoch: 36, train_acc:0.9799, train_loss:0.0648\n",
      "epoch: 37, train_acc:0.9810, train_loss:0.0594\n",
      "epoch: 38, train_acc:0.9812, train_loss:0.0608\n",
      "epoch: 39, train_acc:0.9816, train_loss:0.0593\n",
      "epoch: 40, train_acc:0.9826, train_loss:0.0571\n",
      "epoch: 41, train_acc:0.9830, train_loss:0.0550\n",
      "epoch: 42, train_acc:0.9833, train_loss:0.0538\n",
      "epoch: 43, train_acc:0.9843, train_loss:0.0517\n",
      "epoch: 44, train_acc:0.9835, train_loss:0.0534\n",
      "epoch: 45, train_acc:0.9835, train_loss:0.0526\n",
      "epoch: 46, train_acc:0.9850, train_loss:0.0466\n",
      "epoch: 47, train_acc:0.9839, train_loss:0.0517\n",
      "epoch: 48, train_acc:0.9858, train_loss:0.0459\n",
      "epoch: 49, train_acc:0.9859, train_loss:0.0464\n"
     ]
    }
   ],
   "source": [
    "step = sess.run(global_step)\n",
    "for ep_i in range(50):\n",
    "    train_acc = []\n",
    "    train_loss = []\n",
    "    for jj in range(train_images.shape[0]/batch_size):\n",
    "        _, summary_str, train_acc_i, train_loss_i = sess.run(\n",
    "            [train_op, summary_op, accuracy, total_loss],\n",
    "            feed_dict={\n",
    "                input_images: train_images[jj*batch_size:(1+jj)*batch_size],\n",
    "                labels: train_labels[jj*batch_size:(1+jj)*batch_size]\n",
    "            })\n",
    "        train_acc += [train_acc_i]\n",
    "        train_loss += [train_loss_i]\n",
    "\n",
    "    print((\"epoch: {}, train_acc:{:.4f}, train_loss:{:.4f}\".\n",
    "          format(ep_i, np.mean(train_acc), np.mean(train_loss))))"
   ]
  },
  {
   "cell_type": "markdown",
   "metadata": {},
   "source": [
    "### Visualize train_data"
   ]
  },
  {
   "cell_type": "code",
   "execution_count": 15,
   "metadata": {
    "ExecuteTime": {
     "end_time": "2017-04-23T12:59:50.504392",
     "start_time": "2017-04-23T12:59:49.038455"
    },
    "scrolled": false
   },
   "outputs": [],
   "source": [
    "# train_feat = []\n",
    "# train_pred = []\n",
    "# for jj in range(train_images.shape[0]/batch_size):\n",
    "#     [feat_i, pred_i] = sess.run([features, tf.nn.softmax(logits)], feed_dict={input_images:train_images[jj*batch_size:(1+jj)*batch_size]})\n",
    "#     train_feat += [feat_i]\n",
    "#     train_pred += [pred_i]\n",
    "# train_feat = np.concatenate(train_feat,0)\n",
    "# train_pred= np.argmax(np.concatenate(train_pred,0), 1)\n",
    "\n",
    "# %matplotlib inline\n",
    "# import matplotlib.pyplot as plt\n",
    "\n",
    "# labels_val = train_labels[:train_feat.shape[0]]\n",
    "\n",
    "# f = plt.figure(figsize=(16,9))\n",
    "# c = ['#ff0000', '#00ff00', '#990000', '#00ffff', '#0000ff', \n",
    "#      '#ff00ff', '#ffff00', '#999900', '#009900', '#009999']\n",
    "# for i in range(2):\n",
    "#     plt.plot(train_feat[labels_val==i,0].flatten(), train_feat[labels_val==i,1].flatten(), '.', c=c[i])\n",
    "# plt.legend(['0', '1', '2', '3', '4', '5', '6', '7', '8', '9'])\n",
    "\n",
    "# miss_class = labels_val!=train_pred\n",
    "# for i, f_i in enumerate(miss_class):\n",
    "#     if f_i:\n",
    "#         plt.scatter(train_feat[i,0].flatten(), train_feat[i,1].flatten(), s=200, facecolors='none', edgecolors=c[train_pred[i]])\n",
    "\n",
    "# plt.grid()\n",
    "# plt.show()"
   ]
  },
  {
   "cell_type": "markdown",
   "metadata": {},
   "source": [
    "# FGM attack"
   ]
  },
  {
   "cell_type": "code",
   "execution_count": 16,
   "metadata": {
    "scrolled": true
   },
   "outputs": [],
   "source": [
    "\n",
    "def get_attack_directions_lenet(input_pl_var, logits_var, label_pl, batch_xs, batch_ys, sess, epsilon=0.1):\n",
    "    '''\n",
    "    input_pl_var: variable of the starting placeholder of the graph, (bs, 28, 28, 1)\n",
    "    output: end point of the graph, after softmax and argmax, (bs, 1)\n",
    "    label_pl: placeholder of the ground truth label, used for untargeted attack, (bs, 1)\n",
    "    img_val: a particular image to be attacked, (1, 28, 28, 1)\n",
    "    label_val: the label associated with img_val, (1, 1)\n",
    "    '''\n",
    "    imsize = 64\n",
    "    \n",
    "#     temp = set(tf.all_variables())\n",
    "    # set target\n",
    "    adv_label = label_pl \n",
    "    # set loss\n",
    "    adversarial_loss = -tf.nn.sparse_softmax_cross_entropy_with_logits(labels=adv_label, logits=logits_var) \n",
    "    # gradient direction\n",
    "    gradient_direction = tf.gradients(adversarial_loss, input_pl_var)[0]\n",
    "#     # apply gradients, for iterative methods\n",
    "#     optimizer = tf.train.AdamOptimizer(0.01)\n",
    "#     grads = optimizer.compute_gradients(adversarial_loss, var_list=input_pl_var)\n",
    "#     apply_gradient_op = optimizer.apply_gradients(grads)\n",
    "\n",
    "#     init_op = tf.initialize_variables(set(tf.all_variables()) - temp)\n",
    "\n",
    "    orth_transform = np.asarray([[(-1) ** j] * imsize for j in range(imsize)])\n",
    "    orth_transform = np.expand_dims(np.expand_dims(orth_transform, 0), -1)\n",
    "#     sess.run(init_op, feed_dict)\n",
    "\n",
    "    feed_dict = {\n",
    "                    input_pl_var: np.tile(batch_xs,(batch_size,1,1,1)),\n",
    "                    label_pl: np.tile(batch_ys,(batch_size))\n",
    "               }\n",
    "    gradient_direction_var = sess.run(gradient_direction, feed_dict)\n",
    "#     l2_norm = gradient_direction_var.reshape(batch_size,-1)\n",
    "#     l2_norm = np.linalg.norm( l2_norm, ord=2, axis=1)\n",
    "#     l2_norm = np.transpose(np.tile(l2_norm,(1, 1, 1, 1)),(3,0,1,2))\n",
    "#     delta = gradient_direction_var / l2_norm\n",
    "    delta = np.sign(gradient_direction_var)\n",
    "    delta_vec = {\n",
    "                    'x': delta,\n",
    "                    'y': delta[:, ::-1, ::-1, :] * np.tile(orth_transform, (1,1,1,3))\n",
    "                 }\n",
    "\n",
    "    feed_dict = {\n",
    "                    input_pl_var: np.tile(batch_xs,(batch_size,1,1,1)),\n",
    "                    label_pl: np.tile(batch_ys,(batch_size))\n",
    "               }\n",
    "    orig_prob = sess.run(tf.nn.softmax(logits_var), feed_dict)\n",
    "\n",
    "    feed_dict = {\n",
    "                    input_pl_var: np.tile(batch_xs,(batch_size,1,1,1))-delta_vec['x']*epsilon,\n",
    "                    label_pl: np.tile(batch_ys,(batch_size))\n",
    "               }\n",
    "    adv_prob = sess.run(tf.nn.softmax(logits_var), feed_dict)\n",
    "    \n",
    "    return delta_vec, orig_prob, adv_prob\n",
    "\n",
    "#     attack_history = {}\n",
    "#     attack_history['x_hist'] = []\n",
    "#     attack_history['y_hist'] = []\n",
    "#     for i in range(50):\n",
    "#         _, adversarial_img, adversarial_pred = sess.run([apply_gradient_op, input_pl_var, output_var], feed_dict)\n",
    "#         attack_history['x_hist'] += [adversarial_img]\n",
    "#         attack_history['y_hist'] += [adversarial_pred]\n",
    "\n",
    "#     pred = {}\n",
    "#     pred['ground_truth'] = batch_ys[0]\n",
    "#     feed_dict_orig = {input_pl_var: batch_xs.reshape(1, imsize, imsize, 1)}\n",
    "#     pred['original'] = sess.run(output_var, feed_dict_orig)[0]\n",
    "#     feed_dict_attack = {input_pl_var: attack_history['x_hist'][-1].reshape(1, imsize, imsize, 1)}\n",
    "#     pred['attacked'] = sess.run(output_var, feed_dict_attack)[0]\n",
    "#     feed_dict_step = {input_pl_var: (delta_vec['x'] + batch_xs).reshape(1, imsize, imsize, 1)}\n",
    "#     pred['one_large_step'] = sess.run(output_var, feed_dict_step)[0]\n",
    "\n",
    "#     # output only when the attack is successful,\n",
    "#     if np.argmax(pred['attacked']) != np.argmax(pred['original']):\n",
    "#         # output only directions\n",
    "#         return batch_xs, batch_ys, delta_vec, attack_history\n",
    "\n",
    "input_pl_var = tf.Variable(input_images, name='input_pl_var')\n",
    "with tf.variable_scope(\"build_network\", reuse=True):\n",
    "    logits_var, feature_list, total_loss, accuracy, centers_update_op_list = build_network(input_pl_var, labels, ratio=LAMBDA, reuse=True)\n"
   ]
  },
  {
   "cell_type": "code",
   "execution_count": 17,
   "metadata": {
    "scrolled": true
   },
   "outputs": [
    {
     "name": "stdout",
     "output_type": "stream",
     "text": [
      "success index: 0\n",
      "success index: 1\n",
      "success index: 4\n",
      "success index: 5\n",
      "success index: 6\n",
      "success index: 7\n",
      "success index: 8\n",
      "success index: 9\n",
      "success index: 10\n",
      "success index: 11\n",
      "success index: 12\n",
      "success index: 13\n",
      "success index: 14\n",
      "success index: 15\n",
      "success index: 16\n",
      "success index: 17\n",
      "success index: 18\n",
      "success index: 19\n",
      "success index: 20\n",
      "success index: 21\n",
      "success index: 23\n",
      "success index: 24\n",
      "success index: 25\n",
      "success index: 26\n",
      "success index: 27\n",
      "success index: 28\n",
      "success index: 29\n",
      "success index: 31\n",
      "success index: 32\n",
      "success index: 33\n",
      "success index: 34\n",
      "success index: 35\n",
      "success index: 36\n",
      "success index: 37\n",
      "success index: 38\n",
      "success index: 39\n",
      "success index: 41\n",
      "success index: 42\n",
      "success index: 43\n",
      "success index: 44\n",
      "success index: 47\n",
      "success index: 48\n",
      "success index: 49\n",
      "success index: 50\n",
      "success index: 51\n",
      "success index: 52\n",
      "success index: 53\n",
      "success index: 54\n",
      "success index: 55\n",
      "success index: 56\n",
      "success index: 57\n",
      "success index: 59\n",
      "success index: 60\n",
      "success index: 61\n",
      "success index: 62\n",
      "success index: 63\n",
      "success index: 64\n",
      "success index: 65\n",
      "success index: 66\n",
      "success index: 67\n",
      "success index: 68\n",
      "success index: 69\n",
      "success index: 71\n",
      "success index: 72\n",
      "success index: 73\n",
      "success index: 75\n",
      "success index: 76\n",
      "success index: 78\n",
      "success index: 79\n",
      "success index: 82\n",
      "success index: 83\n",
      "success index: 84\n",
      "success index: 85\n",
      "success index: 86\n",
      "success index: 87\n",
      "success index: 88\n",
      "success index: 89\n",
      "success index: 90\n",
      "success index: 91\n",
      "success index: 93\n",
      "success index: 94\n",
      "success index: 95\n",
      "success index: 96\n",
      "success index: 99\n",
      "success index: 100\n",
      "success index: 101\n",
      "success index: 102\n",
      "success index: 103\n",
      "success index: 104\n",
      "success index: 106\n",
      "success index: 107\n",
      "success index: 108\n",
      "success index: 109\n",
      "success index: 110\n",
      "success index: 111\n",
      "success index: 112\n",
      "success index: 113\n",
      "success index: 114\n",
      "success index: 115\n",
      "success index: 116\n",
      "success index: 119\n",
      "success index: 120\n",
      "success index: 121\n",
      "success index: 122\n",
      "success index: 123\n",
      "success index: 126\n",
      "success index: 127\n"
     ]
    }
   ],
   "source": [
    "delta_vec_list = []\n",
    "img_list = []\n",
    "orig_prob_list = []\n",
    "adv_prob_list = []\n",
    "epsilon = 0.02\n",
    "N = batch_size\n",
    "attack_success_flag = []\n",
    "for i in range(N):\n",
    "    img_val = test_images[i:i+1]\n",
    "    label_val = test_labels[i:i+1]\n",
    "    delta_vec, orig_prob, adv_prob = get_attack_directions_lenet(input_pl_var, logits_var, labels, img_val, label_val, sess, epsilon=epsilon)\n",
    "\n",
    "    delta_vec_list += [delta_vec]\n",
    "    img_list += [img_val]\n",
    "    orig_prob_list += [orig_prob]\n",
    "    adv_prob_list += [adv_prob]\n",
    "    \n",
    "    if np.argmax(orig_prob[0]) != np.argmax(adv_prob[0]):\n",
    "        attack_success_flag += [1]\n",
    "        print('success index: {}'.format(i))\n",
    "    else:\n",
    "        attack_success_flag += [0]\n",
    "        \n",
    "tracking_img = np.concatenate(img_list,0)\n",
    "tracking_grad = np.concatenate([delta_vec_list[i]['x'][0:1] for i in range(batch_size)],0)"
   ]
  },
  {
   "cell_type": "code",
   "execution_count": 18,
   "metadata": {},
   "outputs": [
    {
     "name": "stdout",
     "output_type": "stream",
     "text": [
      "orig pred: [1.58964452e-20 1.94143712e-14 7.83674736e-10 1.97398487e-15\n",
      " 2.46633967e-08 1.10255307e-07 1.65452782e-19 3.60814711e-11\n",
      " 2.28082789e-10 5.60676348e-21 4.05392602e-05 1.60356551e-15\n",
      " 1.24891550e-22 2.49655765e-13 5.22623221e-12 3.00019676e-10\n",
      " 1.52347807e-12 1.80094741e-11 2.40712605e-08 5.63221140e-20\n",
      " 9.78829121e-07 6.45406173e-09 1.46294123e-13 3.33354588e-09\n",
      " 3.76871754e-12 2.06772431e-15 1.21920063e-18 8.99205876e-10\n",
      " 6.37341178e-12 2.70216533e-15 8.01757798e-20 2.68851402e-13\n",
      " 2.92822022e-15 8.79271498e-16 6.97930336e-09 1.17598441e-16\n",
      " 2.68865000e-11 8.03859646e-10 2.92841719e-14 3.89762719e-14\n",
      " 3.70257710e-15 3.06724329e-12 6.30761303e-19 2.18041973e-10\n",
      " 1.56905793e-13 1.87263697e-13 1.40080917e-19 4.14027058e-16\n",
      " 5.35659683e-10 1.04325289e-15 2.92988087e-14 9.04955691e-18\n",
      " 1.78808737e-08 3.76523872e-07 3.09235873e-14 5.54503025e-16\n",
      " 6.16287688e-10 8.51480830e-10 7.53920896e-19 3.81695566e-19\n",
      " 1.52206910e-16 8.83835428e-15 7.96634403e-09 5.56626047e-18\n",
      " 1.62826905e-14 3.43431290e-11 1.14080316e-17 3.94901837e-15\n",
      " 2.23047691e-09 8.18105939e-09 1.67439446e-12 5.11446071e-17\n",
      " 1.97280053e-10 9.27912946e-09 2.37193974e-17 4.03945766e-09\n",
      " 2.27851778e-15 3.57465480e-16 4.82538204e-14 3.41600044e-15\n",
      " 1.69012096e-11 1.02476046e-18 9.99935746e-01 1.47112153e-15\n",
      " 1.84762416e-06 2.18868413e-12 9.49943321e-16 4.48381297e-11\n",
      " 2.44501858e-12 3.81592790e-16 2.65536997e-19 1.91680676e-14\n",
      " 7.72344825e-18 1.15670806e-13 2.90897471e-12 1.55522703e-13\n",
      " 1.09426594e-13 6.80084531e-06 3.00874364e-12 1.05077021e-14\n",
      " 3.80770177e-14 2.64328786e-15 2.16515846e-12 4.47579351e-09\n",
      " 3.04540642e-08 1.98493091e-14 1.48567091e-16 5.00004819e-16\n",
      " 6.91280421e-18 1.95735659e-12 3.12793919e-14 2.44767019e-11\n",
      " 5.35415679e-13 2.58536411e-14 2.65579334e-13 9.85879130e-14\n",
      " 2.32460993e-15 3.02949471e-10 1.04962288e-17 6.35858228e-13\n",
      " 4.50770633e-13 7.60423169e-10 5.68478702e-11 1.41689113e-12\n",
      " 6.30566049e-20 5.91407867e-17 5.64087514e-13 2.51433374e-10\n",
      " 1.56984140e-14 2.62171193e-06 1.32565299e-18 1.72617046e-10\n",
      " 1.53380753e-13 7.60464380e-16 1.79423598e-09 4.07316164e-15\n",
      " 1.97965125e-12 1.39409928e-09 1.25451678e-14 3.62721328e-14\n",
      " 4.42199216e-18 4.60795764e-06 9.84005163e-16 1.09878024e-15\n",
      " 1.26829830e-21 6.80015917e-17 1.38616332e-13 5.31908840e-14\n",
      " 5.85106724e-13 8.28400933e-15 7.79618323e-17 4.06354776e-11\n",
      " 3.30606568e-16 1.97594314e-08 9.86476439e-12 4.21805993e-19\n",
      " 3.42564735e-13 1.82123401e-08 2.07792200e-10 1.23380792e-10\n",
      " 1.23045962e-09 2.32124648e-08 1.47748222e-15 8.31059685e-15\n",
      " 2.13882850e-15 1.29785842e-16 7.98356607e-12 6.00073345e-16\n",
      " 5.72990166e-06 9.70483391e-14 1.42667447e-17 4.31420288e-19\n",
      " 1.30122215e-12 2.92300351e-11 2.50908726e-14 1.21531940e-17\n",
      " 5.81449927e-13 7.37165919e-08 1.89208737e-15 1.31411700e-12\n",
      " 3.57803488e-14 4.36283113e-17 2.69530166e-13 8.24015571e-18\n",
      " 7.15011217e-10 9.30540134e-23 1.75039451e-16 7.31846116e-13\n",
      " 2.20600327e-07 6.37388892e-11 2.63820803e-17 1.12780564e-23\n",
      " 2.38297609e-14 5.72495393e-13 4.28841228e-14 2.37909026e-09\n",
      " 2.67698971e-21 1.12383518e-12 2.03623319e-16 8.21545031e-19]\n",
      "adv pred: [3.96912998e-14 4.40014247e-07 1.85564818e-06 1.89029223e-10\n",
      " 1.02963004e-05 1.46102650e-08 4.62765312e-15 8.23468417e-06\n",
      " 1.22766228e-10 1.62802375e-14 6.10923290e-01 2.02491579e-09\n",
      " 1.37288927e-20 8.90199381e-09 1.03152625e-10 6.62534433e-07\n",
      " 4.70423478e-10 3.44490166e-11 2.87648072e-06 6.04466130e-12\n",
      " 6.85871753e-04 2.26992952e-07 1.47724242e-08 2.92593171e-07\n",
      " 1.17065288e-10 7.08412495e-10 5.35497428e-13 1.43267156e-03\n",
      " 4.13526686e-05 7.90058716e-15 1.53219641e-13 3.70656110e-12\n",
      " 1.17613107e-11 4.68684917e-11 1.35505942e-07 2.92122687e-10\n",
      " 3.39884366e-07 6.84666302e-05 1.16863407e-06 2.12681517e-08\n",
      " 6.96202108e-16 4.22584245e-10 7.21547821e-13 4.33646306e-07\n",
      " 2.67996915e-13 4.67278838e-08 2.17327512e-13 1.56858748e-10\n",
      " 1.80647618e-07 3.23338938e-08 7.91838701e-08 2.01125575e-12\n",
      " 7.69022809e-05 5.17730496e-06 9.71291048e-10 7.00858371e-13\n",
      " 1.48351956e-02 3.06491594e-12 1.36601026e-11 2.81371211e-11\n",
      " 1.60869243e-13 1.28778086e-12 1.66608463e-10 6.52554562e-13\n",
      " 6.29912955e-10 4.10721377e-08 5.13140051e-11 8.50473685e-12\n",
      " 2.23113446e-07 2.05717478e-02 1.90351912e-07 5.03333375e-10\n",
      " 3.91152889e-06 1.08049281e-09 2.90123533e-11 2.62701590e-13\n",
      " 3.84593052e-12 4.55939443e-07 3.79503007e-09 7.92063730e-08\n",
      " 1.62806824e-09 2.85931955e-11 1.21410390e-12 2.65922528e-09\n",
      " 8.02689283e-06 7.72387921e-06 1.85479236e-13 3.59724908e-07\n",
      " 1.24549468e-11 9.76274928e-16 2.48526568e-12 1.99434948e-11\n",
      " 5.35336311e-16 2.90410924e-07 4.27121116e-11 8.88010915e-11\n",
      " 8.27557745e-11 7.41172582e-02 3.82122956e-09 4.55595145e-11\n",
      " 3.15611204e-10 3.03037462e-13 3.29440208e-12 3.24956950e-08\n",
      " 8.92102321e-07 5.29950750e-09 2.06812974e-12 5.44348611e-09\n",
      " 1.50057917e-13 1.86687714e-06 1.05969617e-11 1.28436761e-06\n",
      " 3.81013798e-09 8.97117172e-11 4.77107084e-16 1.34066640e-13\n",
      " 1.22756816e-07 1.16538486e-05 1.80014883e-17 1.17270105e-08\n",
      " 2.54091592e-05 5.30387234e-10 1.57136458e-03 2.39442689e-13\n",
      " 7.06291557e-18 4.75710826e-18 8.53537045e-08 1.00225821e-10\n",
      " 1.46208013e-12 2.23602772e-01 1.61094608e-13 1.61979961e-11\n",
      " 1.99136752e-09 2.24424472e-12 5.97791632e-06 1.51938132e-11\n",
      " 4.55760357e-07 1.57453921e-02 7.90416399e-10 2.20253565e-10\n",
      " 1.99683781e-12 4.79694451e-10 2.28391459e-10 8.57438426e-12\n",
      " 2.98802580e-11 5.43803266e-11 1.04642084e-09 2.38376980e-08\n",
      " 4.69144190e-09 9.49954976e-11 9.54170076e-10 3.36305946e-02\n",
      " 3.25130967e-09 8.65863214e-11 1.90473921e-11 1.67717443e-13\n",
      " 6.88415867e-07 1.80510819e-04 2.65084946e-05 4.53728205e-07\n",
      " 1.99220612e-10 7.88153500e-07 7.26397857e-08 3.49467850e-13\n",
      " 5.53023960e-10 1.54783667e-14 2.74297759e-06 8.58328512e-12\n",
      " 1.09041281e-07 1.57957436e-12 1.61240596e-17 5.74148801e-13\n",
      " 7.83398679e-09 1.21685295e-09 8.77718384e-12 8.03572732e-07\n",
      " 2.04334483e-05 2.17198134e-10 1.43263024e-09 4.88973456e-07\n",
      " 1.85827903e-05 3.84368162e-11 1.18475438e-11 2.73913205e-12\n",
      " 6.63507024e-07 8.63560201e-16 1.15434821e-12 2.23365542e-03\n",
      " 3.37899655e-05 1.76129870e-05 2.80424128e-10 2.58984576e-14\n",
      " 1.94926940e-07 1.59563497e-05 4.13011148e-05 3.37549683e-10\n",
      " 1.65344929e-15 7.82702703e-09 2.82847925e-17 1.23520172e-14]\n"
     ]
    },
    {
     "data": {
      "image/png": "[encoded data removed]",
      "text/plain": [
       "<Figure size 432x288 with 3 Axes>"
      ]
     },
     "metadata": {},
     "output_type": "display_data"
    }
   ],
   "source": [
    "idx = 1\n",
    "import seaborn as sns\n",
    "plt.subplot(1,3,1)\n",
    "plt.imshow(img_list[idx][0,:,:,:])\n",
    "plt.subplot(1,3,2)\n",
    "plt.imshow(-delta_vec_list[idx]['x'][0,:,:,:]*epsilon)\n",
    "plt.subplot(1,3,3)\n",
    "plt.imshow(img_list[idx][0,:,:,:] - delta_vec_list[idx]['x'][0,:,:,:]*epsilon)\n",
    "\n",
    "print('orig pred: {}'.format(orig_prob_list[idx][0]))\n",
    "print('adv pred: {}'.format(adv_prob_list[idx][0]))"
   ]
  },
  {
   "cell_type": "code",
   "execution_count": 19,
   "metadata": {
    "scrolled": false
   },
   "outputs": [
    {
     "name": "stderr",
     "output_type": "stream",
     "text": [
      "/home/doi6/anaconda2/lib/python2.7/site-packages/matplotlib/axes/_axes.py:6462: UserWarning: The 'normed' kwarg is deprecated, and has been replaced by the 'density' kwarg.\n",
      "  warnings.warn(\"The 'normed' kwarg is deprecated, and has been \"\n",
      "/home/doi6/anaconda2/lib/python2.7/site-packages/matplotlib/axes/_axes.py:6462: UserWarning: The 'normed' kwarg is deprecated, and has been replaced by the 'density' kwarg.\n",
      "  warnings.warn(\"The 'normed' kwarg is deprecated, and has been \"\n"
     ]
    },
    {
     "data": {
      "text/plain": [
       "<matplotlib.axes._subplots.AxesSubplot at 0x7f2a4db800d0>"
      ]
     },
     "execution_count": 19,
     "metadata": {},
     "output_type": "execute_result"
    },
    {
     "data": {
      "image/png": "[encoded data removed]",
      "text/plain": [
       "<Figure size 432x288 with 1 Axes>"
      ]
     },
     "metadata": {},
     "output_type": "display_data"
    }
   ],
   "source": [
    "sns.distplot(epsilon*delta_vec_list[idx]['x'][0,:,:,:].flatten())\n",
    "sns.distplot(img_list[idx][0,:,:,:].flatten())"
   ]
  },
  {
   "cell_type": "markdown",
   "metadata": {},
   "source": [
    "# tracking FGM trajectories"
   ]
  },
  {
   "cell_type": "code",
   "execution_count": 20,
   "metadata": {
    "scrolled": true
   },
   "outputs": [],
   "source": [
    "tracking_feat = []\n",
    "tracking_pred = []\n",
    "\n",
    "steps = 100\n",
    "largest_epsilon = 0.05\n",
    "for e_i in range(steps):\n",
    "    adv_img_i = tracking_img - largest_epsilon*e_i/steps * tracking_grad\n",
    "    [feat_i, pred_i] = sess.run([features, tf.nn.softmax(logits)], feed_dict={input_images: adv_img_i})\n",
    "    tracking_feat += [np.expand_dims(feat_i, 0)]\n",
    "    tracking_pred += [np.expand_dims(pred_i, 0)]\n",
    "tracking_feat = np.concatenate(tracking_feat,0).transpose(1,0,2) # (batch_size, steps, feature_dim)\n",
    "tracking_pred = np.argmax( np.concatenate(tracking_pred,0), -1).transpose(1,0) # (batch_size, steps)\n",
    "# save adversarial images\n",
    "np.save('tracking_pred', tracking_pred)\n",
    "np.save('tracking_feat', tracking_feat)"
   ]
  },
  {
   "cell_type": "code",
   "execution_count": 21,
   "metadata": {},
   "outputs": [
    {
     "name": "stdout",
     "output_type": "stream",
     "text": [
      "mean delta: 2.086171875\n",
      "median delta: 1.275\n"
     ]
    },
    {
     "data": {
      "image/png": "[encoded data removed]",
      "text/plain": [
       "<Figure size 432x288 with 1 Axes>"
      ]
     },
     "metadata": {},
     "output_type": "display_data"
    }
   ],
   "source": [
    "import matplotlib.pyplot as plt\n",
    "\n",
    "# # original testing data feature distribution\n",
    "# labels_val = train_labels[:train_feat.shape[0]]\n",
    "\n",
    "# f = plt.figure(figsize=(16,9))\n",
    "# c = ['#ff0000', '#00ff00', '#990000', '#00ffff', '#0000ff', \n",
    "#      '#ff00ff', '#ffff00', '#999900', '#009900', '#009999']\n",
    "# for i in range(2):\n",
    "#     plt.plot(train_feat[labels_val==i,0].flatten(), train_feat[labels_val==i,1].flatten(), '.', c=c[i])\n",
    "# plt.legend(['0', '1', '2', '3', '4', '5', '6', '7', '8', '9'])\n",
    "# miss_class = labels_val!=train_pred\n",
    "# for i, f_i in enumerate(miss_class):\n",
    "#     if f_i:\n",
    "#         plt.scatter(train_feat[i,0].flatten(), train_feat[i,1].flatten(), s=200, facecolors='none', edgecolors=c[train_pred[i]])\n",
    "\n",
    "\n",
    "# adversarial data feature trajectory\n",
    "N = batch_size\n",
    "# for i in range(N):\n",
    "#     if tracking_pred[i,-1] != tracking_pred[i,0]:\n",
    "#         plt.plot(tracking_feat[i, :, 0], tracking_feat[i, :, 1], 'k-')\n",
    "mean_delta = np.zeros(N)\n",
    "for i in range(N):\n",
    "    if tracking_pred[i,-1] == tracking_pred[i,0]:\n",
    "        mean_delta[i] += [largest_epsilon]\n",
    "    else:\n",
    "#         for j in range(steps):\n",
    "#             plt.plot(tracking_feat[i, j, 0], tracking_feat[i, j, 1], '*-', MarkerSize=13, color=c[tracking_pred[i,j]])\n",
    "        for j in range(steps):\n",
    "            if tracking_pred[i,j] != tracking_pred[i,0]:\n",
    "                mean_delta[i] += [largest_epsilon*j/steps*255.]\n",
    "                break\n",
    "print('mean delta: {}'.format(np.mean(mean_delta)))\n",
    "print('median delta: {}'.format(np.median(mean_delta)))\n",
    "plt.grid()\n",
    "plt.show()\n"
   ]
  },
  {
   "cell_type": "code",
   "execution_count": 22,
   "metadata": {},
   "outputs": [
    {
     "name": "stderr",
     "output_type": "stream",
     "text": [
      "/home/doi6/anaconda2/lib/python2.7/site-packages/matplotlib/axes/_axes.py:6462: UserWarning: The 'normed' kwarg is deprecated, and has been replaced by the 'density' kwarg.\n",
      "  warnings.warn(\"The 'normed' kwarg is deprecated, and has been \"\n"
     ]
    },
    {
     "data": {
      "text/plain": [
       "<matplotlib.axes._subplots.AxesSubplot at 0x7f2a545d3bd0>"
      ]
     },
     "execution_count": 22,
     "metadata": {},
     "output_type": "execute_result"
    },
    {
     "data": {
      "image/png": "[encoded data removed]",
      "text/plain": [
       "<Figure size 432x288 with 1 Axes>"
      ]
     },
     "metadata": {},
     "output_type": "display_data"
    }
   ],
   "source": [
    "sns.distplot(mean_delta)"
   ]
  }
 ],
 "metadata": {
  "anaconda-cloud": {},
  "kernelspec": {
   "display_name": "Python 2",
   "language": "python",
   "name": "python2"
  },
  "language_info": {
   "codemirror_mode": {
    "name": "ipython",
    "version": 2
   },
   "file_extension": ".py",
   "mimetype": "text/x-python",
   "name": "python",
   "nbconvert_exporter": "python",
   "pygments_lexer": "ipython2",
   "version": "2.7.15"
  }
 },
 "nbformat": 4,
 "nbformat_minor": 1
}
