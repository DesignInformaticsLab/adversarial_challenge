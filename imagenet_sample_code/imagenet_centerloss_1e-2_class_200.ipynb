{
 "cells": [
  {
   "cell_type": "markdown",
   "metadata": {},
   "source": [
    "## Parameters"
   ]
  },
  {
   "cell_type": "code",
   "execution_count": 1,
   "metadata": {
    "ExecuteTime": {
     "end_time": "2017-04-23T12:58:05.100181",
     "start_time": "2017-04-23T12:58:05.098147"
    }
   },
   "outputs": [],
   "source": [
    "LAMBDA = 1e-2\n",
    "CENTER_LOSS_ALPHA = 0.5\n",
    "NUM_CLASSES = 200\n",
    "batch_size = 128\n"
   ]
  },
  {
   "cell_type": "markdown",
   "metadata": {},
   "source": [
    "## Import modules"
   ]
  },
  {
   "cell_type": "code",
   "execution_count": 2,
   "metadata": {
    "ExecuteTime": {
     "end_time": "2017-04-23T12:58:06.723861",
     "start_time": "2017-04-23T12:58:05.101724"
    }
   },
   "outputs": [
    {
     "name": "stderr",
     "output_type": "stream",
     "text": [
      "/home/doi6/anaconda2/lib/python2.7/site-packages/h5py/__init__.py:36: FutureWarning: Conversion of the second argument of issubdtype from `float` to `np.floating` is deprecated. In future, it will be treated as `np.float64 == np.dtype(float).type`.\n",
      "  from ._conv import register_converters as _register_converters\n"
     ]
    }
   ],
   "source": [
    "import os\n",
    "import numpy as np\n",
    "import tensorflow as tf\n",
    "import tflearn\n",
    "# from tensorflow.examples.tutorials.mnist import input_data\n",
    "\n",
    "slim = tf.contrib.slim\n",
    "os.environ['CUDA_VISIBLE_DEVICES'] = '0'"
   ]
  },
  {
   "cell_type": "markdown",
   "metadata": {},
   "source": [
    "## Construct network"
   ]
  },
  {
   "cell_type": "code",
   "execution_count": 3,
   "metadata": {
    "ExecuteTime": {
     "end_time": "2017-04-23T12:58:06.729925",
     "start_time": "2017-04-23T12:58:06.724981"
    }
   },
   "outputs": [],
   "source": [
    "with tf.name_scope('input'):\n",
    "    input_images = tf.placeholder(tf.float32, shape=(batch_size,64,64,3), name='input_images')\n",
    "    labels = tf.placeholder(tf.int64, shape=(batch_size), name='labels')\n",
    "    \n",
    "global_step = tf.Variable(0, trainable=False, name='global_step')"
   ]
  },
  {
   "cell_type": "code",
   "execution_count": 4,
   "metadata": {
    "ExecuteTime": {
     "end_time": "2017-04-23T12:58:06.803814",
     "start_time": "2017-04-23T12:58:06.730853"
    },
    "code_folding": []
   },
   "outputs": [],
   "source": [
    "def get_center_loss(features, labels, alpha, num_classes):\n",
    "    \"\"\"获取center loss及center的更新op\n",
    "    \n",
    "    Arguments:\n",
    "        features: Tensor,表征样本特征,一般使用某个fc层的输出,shape应该为[batch_size, feature_length].\n",
    "        labels: Tensor,表征样本label,非one-hot编码,shape应为[batch_size].\n",
    "        alpha: 0-1之间的数字,控制样本类别中心的学习率,细节参考原文.\n",
    "        num_classes: 整数,表明总共有多少个类别,网络分类输出有多少个神经元这里就取多少.\n",
    "    \n",
    "    Return：\n",
    "        loss: Tensor,可与softmax loss相加作为总的loss进行优化.\n",
    "        centers: Tensor,存储样本中心值的Tensor，仅查看样本中心存储的具体数值时有用.\n",
    "        centers_update_op: op,用于更新样本中心的op，在训练时需要同时运行该op，否则样本中心不会更新\n",
    "    \"\"\"\n",
    "    # 获取特征的维数，例如256维\n",
    "    len_features = features.get_shape()[1]\n",
    "    # 建立一个Variable,shape为[num_classes, len_features]，用于存储整个网络的样本中心，\n",
    "    # 设置trainable=False是因为样本中心不是由梯度进行更新的\n",
    "    centers = tf.get_variable('centers', [num_classes, len_features], dtype=tf.float32,\n",
    "        initializer=tf.constant_initializer(0), trainable=False)\n",
    "    # 将label展开为一维的，输入如果已经是一维的，则该动作其实无必要\n",
    "    labels = tf.reshape(labels, [-1])\n",
    "    \n",
    "    # 根据样本label,获取mini-batch中每一个样本对应的中心值\n",
    "    centers_batch = tf.gather(centers, labels)\n",
    "    # 计算loss\n",
    "    loss = tf.nn.l2_loss(features - centers_batch)\n",
    "    \n",
    "    # 当前mini-batch的特征值与它们对应的中心值之间的差\n",
    "    diff = centers_batch - features\n",
    "    \n",
    "    # 获取mini-batch中同一类别样本出现的次数,了解原理请参考原文公式(4)\n",
    "    unique_label, unique_idx, unique_count = tf.unique_with_counts(labels)\n",
    "    appear_times = tf.gather(unique_count, unique_idx)\n",
    "    appear_times = tf.reshape(appear_times, [-1, 1])\n",
    "    \n",
    "    diff = diff / tf.cast((1 + appear_times), tf.float32)\n",
    "    diff = alpha * diff\n",
    "    \n",
    "    centers_update_op = tf.scatter_sub(centers, labels, diff)\n",
    "    \n",
    "    return loss, centers, centers_update_op"
   ]
  },
  {
   "cell_type": "code",
   "execution_count": 5,
   "metadata": {
    "ExecuteTime": {
     "end_time": "2017-04-23T12:58:06.909774",
     "start_time": "2017-04-23T12:58:06.804749"
    },
    "code_folding": []
   },
   "outputs": [],
   "source": [
    "\n",
    "def inference(input_images, num_class=10, reuse=False):\n",
    "    with slim.arg_scope([slim.conv2d], kernel_size=3, padding='SAME'):\n",
    "        with slim.arg_scope([slim.max_pool2d], kernel_size=2):\n",
    "\n",
    "            x = slim.conv2d(input_images, num_outputs=64, scope='conv1_1')\n",
    "            x = slim.conv2d(x, num_outputs=64, scope='conv1_2')\n",
    "            x = slim.max_pool2d(x, scope='pool1')\n",
    "\n",
    "            x = slim.conv2d(x, num_outputs=128, scope='conv2_1')\n",
    "            x = slim.conv2d(x, num_outputs=128, scope='conv2_2')\n",
    "            x = slim.max_pool2d(x, scope='pool2')\n",
    "\n",
    "            x = slim.conv2d(x, num_outputs=256, scope='conv3_1')\n",
    "            x = slim.conv2d(x, num_outputs=256, scope='conv3_2')\n",
    "            x = slim.max_pool2d(x, scope='pool3')\n",
    "\n",
    "            x = slim.conv2d(x, num_outputs=512, scope='conv4_1')\n",
    "            x = slim.conv2d(x, num_outputs=512, scope='conv4_2')\n",
    "            x = slim.max_pool2d(x, scope='pool3')\n",
    "\n",
    "            x = slim.flatten(x, scope='flatten')\n",
    "\n",
    "            feature3 = x = slim.fully_connected(x, num_outputs=512, activation_fn=None, scope='fc0')\n",
    "\n",
    "            feature2 = x = slim.fully_connected(x, num_outputs=32, activation_fn=None, scope='fc1')\n",
    "\n",
    "            feature1 = x =slim.fully_connected(x, num_outputs=2, activation_fn=None, scope='fc2')\n",
    "\n",
    "            x = tflearn.prelu(feature3)\n",
    "\n",
    "            x = slim.fully_connected(x, num_outputs=num_class, activation_fn=None, scope='fc3')\n",
    "\n",
    "    feature_list = [feature1, feature2]\n",
    "    return x, feature_list"
   ]
  },
  {
   "cell_type": "code",
   "execution_count": 6,
   "metadata": {
    "ExecuteTime": {
     "end_time": "2017-04-23T12:58:07.002232",
     "start_time": "2017-04-23T12:58:06.911010"
    },
    "code_folding": []
   },
   "outputs": [],
   "source": [
    "def build_network(input_images, labels, ratio=0.5, reuse=False):\n",
    "    logits, feature_list = inference(input_images, num_class=NUM_CLASSES)\n",
    "    \n",
    "    with tf.name_scope('loss'):\n",
    "        with tf.variable_scope('center_loss1'):\n",
    "            center_loss1, centers1, centers_update_op1 = get_center_loss(feature_list[0], labels, CENTER_LOSS_ALPHA, NUM_CLASSES)\n",
    "        with tf.variable_scope('center_loss2'):\n",
    "            center_loss2, centers2, centers_update_op2 = get_center_loss(feature_list[1], labels, CENTER_LOSS_ALPHA, NUM_CLASSES)\n",
    "        with tf.name_scope('softmax_loss'):\n",
    "            softmax_loss = tf.reduce_mean(tf.nn.sparse_softmax_cross_entropy_with_logits(labels=labels, logits=logits))\n",
    "        with tf.name_scope('total_loss'):\n",
    "            total_loss = softmax_loss + ratio * center_loss1#(center_loss1*0.8 + center_loss2*0.2) * 4\n",
    "    \n",
    "    with tf.name_scope('acc'):\n",
    "        accuracy = tf.reduce_mean(tf.cast(tf.equal(tf.arg_max(logits, 1), labels), tf.float32))\n",
    "    \n",
    "    with tf.name_scope('loss/'):\n",
    "        tf.summary.scalar('CenterLoss1', center_loss1)\n",
    "        tf.summary.scalar('CenterLoss2', center_loss2)\n",
    "        tf.summary.scalar('SoftmaxLoss', softmax_loss)\n",
    "        tf.summary.scalar('TotalLoss', total_loss)\n",
    "        \n",
    "    centers_update_op_list = [centers_update_op1, centers_update_op2]\n",
    "    return logits, feature_list, total_loss, accuracy, centers_update_op_list"
   ]
  },
  {
   "cell_type": "code",
   "execution_count": 7,
   "metadata": {
    "ExecuteTime": {
     "end_time": "2017-04-23T12:58:07.300662",
     "start_time": "2017-04-23T12:58:07.004232"
    },
    "scrolled": true
   },
   "outputs": [],
   "source": [
    "with tf.variable_scope(\"build_network\", reuse=False):\n",
    "    logits, feature_list, total_loss, accuracy, centers_update_op_list = build_network(input_images, labels, ratio=LAMBDA)\n",
    "features = feature_list[0]\n",
    "centers_update_op1 = centers_update_op_list[0]\n",
    "centers_update_op2 = centers_update_op_list[1]\n"
   ]
  },
  {
   "cell_type": "markdown",
   "metadata": {},
   "source": [
    "## Prepare data"
   ]
  },
  {
   "cell_type": "code",
   "execution_count": 8,
   "metadata": {},
   "outputs": [],
   "source": [
    "train_images = np.load('train_data.npy').item()['image'] / 255.\n",
    "train_labels = np.load('train_data.npy').item()['label'] \n",
    "\n",
    "if 0:\n",
    "    train_image_5 = train_images[train_labels==5]\n",
    "    train_image_7 = train_images[train_labels==7]\n",
    "    train_images = np.concatenate([train_image_5, train_image_7],0)\n",
    "    train_labels = np.asarray( [0]*len(train_image_5) + [1]*len(train_image_7) )\n",
    "from random import shuffle\n",
    "idx = range(len(train_images))\n",
    "shuffle(idx)\n",
    "train_images = train_images[idx] \n",
    "train_labels = train_labels[idx]\n",
    "\n",
    "test_images = train_images[:200]\n",
    "test_labels = train_labels[:200]"
   ]
  },
  {
   "cell_type": "code",
   "execution_count": 9,
   "metadata": {
    "scrolled": false
   },
   "outputs": [
    {
     "name": "stdout",
     "output_type": "stream",
     "text": [
      "(1.0, 0.0)\n",
      "label: 23\n"
     ]
    },
    {
     "data": {
      "image/png": "[encoded data removed]",
      "text/plain": [
       "<Figure size 432x288 with 1 Axes>"
      ]
     },
     "metadata": {},
     "output_type": "display_data"
    }
   ],
   "source": [
    "% matplotlib inline\n",
    "import matplotlib.pyplot as plt\n",
    "idx = 40\n",
    "print(np.max(train_images[idx]), np.min(train_images[idx]))\n",
    "plt.figure()\n",
    "plt.imshow(train_images[idx])\n",
    "print('label: {}'.format(train_labels[idx]))\n"
   ]
  },
  {
   "cell_type": "code",
   "execution_count": 10,
   "metadata": {},
   "outputs": [],
   "source": [
    "val_images = np.load('val_data.npy').item()['image'] / 255.\n",
    "val_labels = np.load('val_data.npy').item()['label'] \n",
    "\n",
    "if 0:\n",
    "    val_image_5 = val_images[val_labels==5]\n",
    "    val_image_7 = val_images[val_labels==7]\n",
    "    val_images = np.concatenate([val_image_5, val_image_7],0)\n",
    "    val_labels = np.asarray( [0]*len(val_image_5) + [1]*len(val_image_7) )\n",
    "idx_v = range(len(val_images))\n",
    "val_images = val_images[idx_v] \n",
    "val_labels = val_labels[idx_v]\n",
    "\n",
    "val_images = val_images[:400]\n",
    "val_labels = val_labels[:400]\n",
    "#shuffle(idx_v)"
   ]
  },
  {
   "cell_type": "code",
   "execution_count": 11,
   "metadata": {},
   "outputs": [
    {
     "name": "stdout",
     "output_type": "stream",
     "text": [
      "(1.0, 0.0)\n",
      "label: 135\n"
     ]
    },
    {
     "data": {
      "image/png": "[encoded data removed]",
      "text/plain": [
       "<Figure size 432x288 with 1 Axes>"
      ]
     },
     "metadata": {},
     "output_type": "display_data"
    }
   ],
   "source": [
    "% matplotlib inline\n",
    "import matplotlib.pyplot as plt\n",
    "idx_v = 0\n",
    "\n",
    "print(np.max(val_images[idx_v]), np.min(val_images[idx_v]))\n",
    "plt.figure()\n",
    "plt.imshow(val_images[idx_v])\n",
    "print('label: {}'.format(val_labels[idx_v]))"
   ]
  },
  {
   "cell_type": "markdown",
   "metadata": {},
   "source": [
    "## Optimizer"
   ]
  },
  {
   "cell_type": "code",
   "execution_count": 12,
   "metadata": {
    "ExecuteTime": {
     "end_time": "2017-04-23T12:58:07.633505",
     "start_time": "2017-04-23T12:58:07.631587"
    }
   },
   "outputs": [],
   "source": [
    "optimizer = tf.train.AdamOptimizer(0.0001)"
   ]
  },
  {
   "cell_type": "code",
   "execution_count": 13,
   "metadata": {
    "ExecuteTime": {
     "end_time": "2017-04-23T12:58:07.926784",
     "start_time": "2017-04-23T12:58:07.634493"
    }
   },
   "outputs": [],
   "source": [
    "with tf.control_dependencies([centers_update_op1, centers_update_op2]):\n",
    "    train_op = optimizer.minimize(total_loss, global_step=global_step)"
   ]
  },
  {
   "cell_type": "markdown",
   "metadata": {},
   "source": [
    "## Session and Summary"
   ]
  },
  {
   "cell_type": "code",
   "execution_count": 14,
   "metadata": {
    "ExecuteTime": {
     "end_time": "2017-04-23T12:58:07.929944",
     "start_time": "2017-04-23T12:58:07.927740"
    }
   },
   "outputs": [],
   "source": [
    "summary_op = tf.summary.merge_all()"
   ]
  },
  {
   "cell_type": "code",
   "execution_count": 15,
   "metadata": {
    "ExecuteTime": {
     "end_time": "2017-04-23T12:58:10.050499",
     "start_time": "2017-04-23T12:58:07.930866"
    }
   },
   "outputs": [],
   "source": [
    "sess = tf.Session()\n",
    "sess.run(tf.global_variables_initializer())\n",
    "writer = tf.summary.FileWriter('/tmp/mnist_log', sess.graph)"
   ]
  },
  {
   "cell_type": "markdown",
   "metadata": {},
   "source": [
    "## Train"
   ]
  },
  {
   "cell_type": "code",
   "execution_count": 16,
   "metadata": {
    "ExecuteTime": {
     "end_time": "2017-04-23T12:59:49.036352",
     "start_time": "2017-04-23T12:58:10.073172"
    },
    "scrolled": true
   },
   "outputs": [
    {
     "name": "stdout",
     "output_type": "stream",
     "text": [
      "epoch: 0, train_acc:0.0163, train_loss:5.1287\n",
      "epoch: 1, train_acc:0.0694, train_loss:4.6276\n",
      "epoch: 2, train_acc:0.1544, train_loss:3.9696\n",
      "epoch: 3, train_acc:0.2273, train_loss:3.4994\n",
      "epoch: 4, train_acc:0.2835, train_loss:3.1760\n",
      "epoch: 5, train_acc:0.3378, train_loss:2.8915\n",
      "epoch: 6, train_acc:0.3949, train_loss:2.6077\n",
      "epoch: 7, train_acc:0.4528, train_loss:2.3256\n",
      "epoch: 8, train_acc:0.5132, train_loss:2.0520\n",
      "epoch: 9, train_acc:0.5834, train_loss:1.7407\n",
      "epoch: 10, train_acc:0.6523, train_loss:1.4355\n",
      "epoch: 11, train_acc:0.7108, train_loss:1.1602\n",
      "epoch: 12, train_acc:0.7568, train_loss:0.9483\n",
      "epoch: 13, train_acc:0.8003, train_loss:0.7433\n",
      "epoch: 14, train_acc:0.8383, train_loss:0.5824\n",
      "epoch: 15, train_acc:0.8680, train_loss:0.4595\n",
      "epoch: 16, train_acc:0.8964, train_loss:0.3572\n",
      "epoch: 17, train_acc:0.9175, train_loss:0.2759\n",
      "epoch: 18, train_acc:0.9285, train_loss:0.2339\n",
      "epoch: 19, train_acc:0.9346, train_loss:0.2147\n",
      "epoch: 20, train_acc:0.9433, train_loss:0.1882\n",
      "epoch: 21, train_acc:0.9478, train_loss:0.1714\n",
      "epoch: 22, train_acc:0.9518, train_loss:0.1559\n",
      "epoch: 23, train_acc:0.9545, train_loss:0.1471\n",
      "epoch: 24, train_acc:0.9595, train_loss:0.1329\n",
      "epoch: 25, train_acc:0.9629, train_loss:0.1205\n",
      "epoch: 26, train_acc:0.9664, train_loss:0.1109\n",
      "epoch: 27, train_acc:0.9667, train_loss:0.1088\n",
      "epoch: 28, train_acc:0.9682, train_loss:0.1023\n",
      "epoch: 29, train_acc:0.9686, train_loss:0.1037\n",
      "epoch: 30, train_acc:0.9714, train_loss:0.0940\n",
      "epoch: 31, train_acc:0.9718, train_loss:0.0917\n",
      "epoch: 32, train_acc:0.9729, train_loss:0.0891\n",
      "epoch: 33, train_acc:0.9756, train_loss:0.0831\n",
      "epoch: 34, train_acc:0.9751, train_loss:0.0820\n",
      "epoch: 35, train_acc:0.9764, train_loss:0.0790\n",
      "epoch: 36, train_acc:0.9768, train_loss:0.0780\n",
      "epoch: 37, train_acc:0.9777, train_loss:0.0730\n",
      "epoch: 38, train_acc:0.9797, train_loss:0.0702\n",
      "epoch: 39, train_acc:0.9794, train_loss:0.0689\n",
      "epoch: 40, train_acc:0.9803, train_loss:0.0675\n",
      "epoch: 41, train_acc:0.9799, train_loss:0.0681\n",
      "epoch: 42, train_acc:0.9826, train_loss:0.0599\n",
      "epoch: 43, train_acc:0.9835, train_loss:0.0585\n",
      "epoch: 44, train_acc:0.9827, train_loss:0.0598\n",
      "epoch: 45, train_acc:0.9834, train_loss:0.0572\n",
      "epoch: 46, train_acc:0.9848, train_loss:0.0530\n",
      "epoch: 47, train_acc:0.9841, train_loss:0.0550\n",
      "epoch: 48, train_acc:0.9850, train_loss:0.0514\n",
      "epoch: 49, train_acc:0.9841, train_loss:0.0553\n"
     ]
    }
   ],
   "source": [
    "step = sess.run(global_step)\n",
    "for ep_i in range(50):\n",
    "    train_acc = []\n",
    "    train_loss = []\n",
    "    for jj in range(train_images.shape[0]/batch_size):\n",
    "        _, summary_str, train_acc_i, train_loss_i = sess.run(\n",
    "            [train_op, summary_op, accuracy, total_loss],\n",
    "            feed_dict={\n",
    "                input_images: train_images[jj*batch_size:(1+jj)*batch_size],\n",
    "                labels: train_labels[jj*batch_size:(1+jj)*batch_size]\n",
    "            })\n",
    "        train_acc += [train_acc_i]\n",
    "        train_loss += [train_loss_i]\n",
    "\n",
    "    print((\"epoch: {}, train_acc:{:.4f}, train_loss:{:.4f}\".\n",
    "          format(ep_i, np.mean(train_acc), np.mean(train_loss))))"
   ]
  },
  {
   "cell_type": "markdown",
   "metadata": {},
   "source": [
    "### Visualize train_data"
   ]
  },
  {
   "cell_type": "code",
   "execution_count": 17,
   "metadata": {
    "ExecuteTime": {
     "end_time": "2017-04-23T12:59:50.504392",
     "start_time": "2017-04-23T12:59:49.038455"
    },
    "scrolled": false
   },
   "outputs": [],
   "source": [
    "# train_feat = []\n",
    "# train_pred = []\n",
    "# for jj in range(train_images.shape[0]/batch_size):\n",
    "#     [feat_i, pred_i] = sess.run([features, tf.nn.softmax(logits)], feed_dict={input_images:train_images[jj*batch_size:(1+jj)*batch_size]})\n",
    "#     train_feat += [feat_i]\n",
    "#     train_pred += [pred_i]\n",
    "# train_feat = np.concatenate(train_feat,0)\n",
    "# train_pred= np.argmax(np.concatenate(train_pred,0), 1)\n",
    "\n",
    "# %matplotlib inline\n",
    "# import matplotlib.pyplot as plt\n",
    "\n",
    "# labels_val = train_labels[:train_feat.shape[0]]\n",
    "\n",
    "# f = plt.figure(figsize=(16,9))\n",
    "# c = ['#ff0000', '#00ff00', '#990000', '#00ffff', '#0000ff', \n",
    "#      '#ff00ff', '#ffff00', '#999900', '#009900', '#009999']\n",
    "# for i in range(2):\n",
    "#     plt.plot(train_feat[labels_val==i,0].flatten(), train_feat[labels_val==i,1].flatten(), '.', c=c[i])\n",
    "# plt.legend(['0', '1', '2', '3', '4', '5', '6', '7', '8', '9'])\n",
    "\n",
    "# miss_class = labels_val!=train_pred\n",
    "# for i, f_i in enumerate(miss_class):\n",
    "#     if f_i:\n",
    "#         plt.scatter(train_feat[i,0].flatten(), train_feat[i,1].flatten(), s=200, facecolors='none', edgecolors=c[train_pred[i]])\n",
    "\n",
    "# plt.grid()\n",
    "# plt.show()"
   ]
  },
  {
   "cell_type": "markdown",
   "metadata": {},
   "source": [
    "# FGM attack"
   ]
  },
  {
   "cell_type": "code",
   "execution_count": 18,
   "metadata": {
    "scrolled": true
   },
   "outputs": [],
   "source": [
    "\n",
    "def get_attack_directions_lenet(input_pl_var, logits_var, label_pl, batch_xs, batch_ys, sess, epsilon=0.1):\n",
    "    '''\n",
    "    input_pl_var: variable of the starting placeholder of the graph, (bs, 28, 28, 1)\n",
    "    output: end point of the graph, after softmax and argmax, (bs, 1)\n",
    "    label_pl: placeholder of the ground truth label, used for untargeted attack, (bs, 1)\n",
    "    img_val: a particular image to be attacked, (1, 28, 28, 1)\n",
    "    label_val: the label associated with img_val, (1, 1)\n",
    "    '''\n",
    "    imsize = 64\n",
    "    \n",
    "#     temp = set(tf.all_variables())\n",
    "    # set target\n",
    "    adv_label = label_pl \n",
    "    # set loss\n",
    "    adversarial_loss = -tf.nn.sparse_softmax_cross_entropy_with_logits(labels=adv_label, logits=logits_var) \n",
    "    # gradient direction\n",
    "    gradient_direction = tf.gradients(adversarial_loss, input_pl_var)[0]\n",
    "#     # apply gradients, for iterative methods\n",
    "#     optimizer = tf.train.AdamOptimizer(0.01)\n",
    "#     grads = optimizer.compute_gradients(adversarial_loss, var_list=input_pl_var)\n",
    "#     apply_gradient_op = optimizer.apply_gradients(grads)\n",
    "\n",
    "#     init_op = tf.initialize_variables(set(tf.all_variables()) - temp)\n",
    "\n",
    "    orth_transform = np.asarray([[(-1) ** j] * imsize for j in range(imsize)])\n",
    "    orth_transform = np.expand_dims(np.expand_dims(orth_transform, 0), -1)\n",
    "#     sess.run(init_op, feed_dict)\n",
    "\n",
    "    feed_dict = {\n",
    "                    input_pl_var: np.tile(batch_xs,(batch_size,1,1,1)),\n",
    "                    label_pl: np.tile(batch_ys,(batch_size))\n",
    "               }\n",
    "    gradient_direction_var = sess.run(gradient_direction, feed_dict)\n",
    "#     l2_norm = gradient_direction_var.reshape(batch_size,-1)\n",
    "#     l2_norm = np.linalg.norm( l2_norm, ord=2, axis=1)\n",
    "#     l2_norm = np.transpose(np.tile(l2_norm,(1, 1, 1, 1)),(3,0,1,2))\n",
    "#     delta = gradient_direction_var / l2_norm\n",
    "    delta = np.sign(gradient_direction_var)\n",
    "    delta_vec = {\n",
    "                    'x': delta,\n",
    "                    'y': delta[:, ::-1, ::-1, :] * np.tile(orth_transform, (1,1,1,3))\n",
    "                 }\n",
    "\n",
    "    feed_dict = {\n",
    "                    input_pl_var: np.tile(batch_xs,(batch_size,1,1,1)),\n",
    "                    label_pl: np.tile(batch_ys,(batch_size))\n",
    "               }\n",
    "    orig_prob = sess.run(tf.nn.softmax(logits_var), feed_dict)\n",
    "\n",
    "    feed_dict = {\n",
    "                    input_pl_var: np.tile(batch_xs,(batch_size,1,1,1))-delta_vec['x']*epsilon,\n",
    "                    label_pl: np.tile(batch_ys,(batch_size))\n",
    "               }\n",
    "    adv_prob = sess.run(tf.nn.softmax(logits_var), feed_dict)\n",
    "    \n",
    "    return delta_vec, orig_prob, adv_prob\n",
    "\n",
    "#     attack_history = {}\n",
    "#     attack_history['x_hist'] = []\n",
    "#     attack_history['y_hist'] = []\n",
    "#     for i in range(50):\n",
    "#         _, adversarial_img, adversarial_pred = sess.run([apply_gradient_op, input_pl_var, output_var], feed_dict)\n",
    "#         attack_history['x_hist'] += [adversarial_img]\n",
    "#         attack_history['y_hist'] += [adversarial_pred]\n",
    "\n",
    "#     pred = {}\n",
    "#     pred['ground_truth'] = batch_ys[0]\n",
    "#     feed_dict_orig = {input_pl_var: batch_xs.reshape(1, imsize, imsize, 1)}\n",
    "#     pred['original'] = sess.run(output_var, feed_dict_orig)[0]\n",
    "#     feed_dict_attack = {input_pl_var: attack_history['x_hist'][-1].reshape(1, imsize, imsize, 1)}\n",
    "#     pred['attacked'] = sess.run(output_var, feed_dict_attack)[0]\n",
    "#     feed_dict_step = {input_pl_var: (delta_vec['x'] + batch_xs).reshape(1, imsize, imsize, 1)}\n",
    "#     pred['one_large_step'] = sess.run(output_var, feed_dict_step)[0]\n",
    "\n",
    "#     # output only when the attack is successful,\n",
    "#     if np.argmax(pred['attacked']) != np.argmax(pred['original']):\n",
    "#         # output only directions\n",
    "#         return batch_xs, batch_ys, delta_vec, attack_history\n",
    "\n",
    "input_pl_var = tf.Variable(input_images, name='input_pl_var')\n",
    "with tf.variable_scope(\"build_network\", reuse=True):\n",
    "    logits_var, feature_list, total_loss, accuracy, centers_update_op_list = build_network(input_pl_var, labels, ratio=LAMBDA, reuse=True)\n"
   ]
  },
  {
   "cell_type": "code",
   "execution_count": 19,
   "metadata": {
    "scrolled": true
   },
   "outputs": [
    {
     "name": "stdout",
     "output_type": "stream",
     "text": [
      "success index: 0\n",
      "success index: 2\n",
      "success index: 3\n",
      "success index: 4\n",
      "success index: 5\n",
      "success index: 6\n",
      "success index: 7\n",
      "success index: 8\n",
      "success index: 9\n",
      "success index: 10\n",
      "success index: 12\n",
      "success index: 13\n",
      "success index: 15\n",
      "success index: 16\n",
      "success index: 17\n",
      "success index: 18\n",
      "success index: 19\n",
      "success index: 20\n",
      "success index: 21\n",
      "success index: 22\n",
      "success index: 23\n",
      "success index: 25\n",
      "success index: 26\n",
      "success index: 27\n",
      "success index: 28\n",
      "success index: 29\n",
      "success index: 30\n",
      "success index: 31\n",
      "success index: 32\n",
      "success index: 33\n",
      "success index: 34\n",
      "success index: 35\n",
      "success index: 36\n",
      "success index: 37\n",
      "success index: 38\n",
      "success index: 39\n",
      "success index: 40\n",
      "success index: 42\n",
      "success index: 43\n",
      "success index: 44\n",
      "success index: 45\n",
      "success index: 46\n",
      "success index: 47\n",
      "success index: 48\n",
      "success index: 50\n",
      "success index: 52\n",
      "success index: 54\n",
      "success index: 55\n",
      "success index: 57\n",
      "success index: 58\n",
      "success index: 59\n",
      "success index: 60\n",
      "success index: 61\n",
      "success index: 62\n",
      "success index: 64\n",
      "success index: 66\n",
      "success index: 68\n",
      "success index: 69\n",
      "success index: 70\n",
      "success index: 71\n",
      "success index: 72\n",
      "success index: 73\n",
      "success index: 74\n",
      "success index: 75\n",
      "success index: 76\n",
      "success index: 77\n",
      "success index: 78\n",
      "success index: 79\n",
      "success index: 80\n",
      "success index: 81\n",
      "success index: 83\n",
      "success index: 84\n",
      "success index: 85\n",
      "success index: 86\n",
      "success index: 87\n",
      "success index: 88\n",
      "success index: 89\n",
      "success index: 90\n",
      "success index: 92\n",
      "success index: 93\n",
      "success index: 94\n",
      "success index: 95\n",
      "success index: 96\n",
      "success index: 97\n",
      "success index: 98\n",
      "success index: 99\n",
      "success index: 100\n",
      "success index: 101\n",
      "success index: 102\n",
      "success index: 103\n",
      "success index: 104\n",
      "success index: 105\n",
      "success index: 106\n",
      "success index: 107\n",
      "success index: 108\n",
      "success index: 109\n",
      "success index: 110\n",
      "success index: 112\n",
      "success index: 113\n",
      "success index: 114\n",
      "success index: 115\n",
      "success index: 117\n",
      "success index: 119\n",
      "success index: 120\n",
      "success index: 121\n",
      "success index: 122\n",
      "success index: 123\n",
      "success index: 125\n"
     ]
    }
   ],
   "source": [
    "delta_vec_list = []\n",
    "img_list = []\n",
    "orig_prob_list = []\n",
    "adv_prob_list = []\n",
    "epsilon = 0.02\n",
    "N = batch_size\n",
    "attack_success_flag = []\n",
    "for i in range(N):\n",
    "    img_val = test_images[i:i+1]\n",
    "    label_val = test_labels[i:i+1]\n",
    "    delta_vec, orig_prob, adv_prob = get_attack_directions_lenet(input_pl_var, logits_var, labels, img_val, label_val, sess, epsilon=epsilon)\n",
    "\n",
    "    delta_vec_list += [delta_vec]\n",
    "    img_list += [img_val]\n",
    "    orig_prob_list += [orig_prob]\n",
    "    adv_prob_list += [adv_prob]\n",
    "    \n",
    "    if np.argmax(orig_prob[0]) != np.argmax(adv_prob[0]):\n",
    "        attack_success_flag += [1]\n",
    "        print('success index: {}'.format(i))\n",
    "    else:\n",
    "        attack_success_flag += [0]\n",
    "        \n",
    "tracking_img = np.concatenate(img_list,0)\n",
    "tracking_grad = np.concatenate([delta_vec_list[i]['x'][0:1] for i in range(batch_size)],0)"
   ]
  },
  {
   "cell_type": "code",
   "execution_count": 20,
   "metadata": {},
   "outputs": [
    {
     "name": "stdout",
     "output_type": "stream",
     "text": [
      "orig pred: [3.84023761e-17 3.56550455e-14 1.23409458e-17 2.46387019e-15\n",
      " 7.61363889e-12 1.10713076e-16 3.67303573e-21 5.54889143e-19\n",
      " 2.24119134e-21 1.26561562e-13 6.64134499e-22 3.07596148e-18\n",
      " 1.49927164e-23 4.98288431e-18 2.80618315e-24 8.81800315e-16\n",
      " 6.39189177e-22 4.90979919e-21 6.06489037e-16 8.55968774e-16\n",
      " 1.13540449e-12 1.30620788e-22 1.05563256e-26 2.63695163e-15\n",
      " 2.88057377e-18 1.52142086e-20 3.04739397e-18 4.14711126e-13\n",
      " 2.47211384e-18 4.93440632e-17 2.64314129e-18 1.17030985e-15\n",
      " 1.79783053e-18 5.93342133e-16 2.95904955e-25 5.84460456e-21\n",
      " 5.72406258e-22 3.28564758e-15 2.22833069e-18 7.26707843e-19\n",
      " 5.51124014e-25 1.25643717e-13 3.29638931e-14 1.00000000e+00\n",
      " 8.71842913e-16 6.32505012e-20 1.23774240e-19 1.19912399e-22\n",
      " 4.83943777e-13 1.57757145e-23 1.21330985e-22 2.65216929e-19\n",
      " 5.07864746e-24 1.98300074e-17 3.05062029e-15 3.37932827e-17\n",
      " 1.01221776e-12 3.03225956e-19 4.09296536e-18 1.66553354e-18\n",
      " 2.78942044e-21 3.02773473e-15 5.05639120e-19 5.32623353e-25\n",
      " 4.66620209e-20 2.93800429e-18 6.06031406e-15 1.00937183e-20\n",
      " 4.55097320e-18 4.42293705e-17 1.26716716e-19 1.12220387e-13\n",
      " 4.76536755e-15 1.14458205e-24 4.06716592e-15 6.91974776e-23\n",
      " 6.23894750e-28 6.44945564e-09 5.70565840e-16 5.84819075e-15\n",
      " 3.20402216e-09 2.95315538e-15 5.11206006e-24 2.76435992e-12\n",
      " 2.92258056e-24 1.99054066e-18 3.35745273e-28 4.77842287e-21\n",
      " 1.51585355e-20 2.15200054e-14 3.71027179e-20 1.24688075e-13\n",
      " 1.07757852e-19 1.44023726e-21 3.71069426e-21 2.42108559e-23\n",
      " 3.02364885e-15 7.59126202e-20 8.68191698e-17 6.04661722e-16\n",
      " 1.62267483e-18 2.61988764e-14 1.33444168e-23 1.54199290e-21\n",
      " 8.28241141e-18 3.49325300e-19 1.26454512e-19 6.11811409e-20\n",
      " 2.00229071e-19 7.95633366e-20 5.54488609e-21 1.28596263e-21\n",
      " 6.56760686e-21 2.61675214e-21 1.48747376e-23 4.28259790e-14\n",
      " 1.27420663e-17 7.96303382e-15 1.37669001e-17 1.99858610e-15\n",
      " 5.51279441e-18 1.43656312e-18 1.17437701e-19 3.85535807e-16\n",
      " 1.00753580e-22 1.98778519e-19 4.37745454e-22 6.06051288e-18\n",
      " 3.05187817e-22 1.35822268e-19 1.20154808e-19 6.57915504e-17\n",
      " 8.35996528e-24 1.32578109e-22 7.26810848e-18 1.36882175e-21\n",
      " 2.26066381e-15 2.97371695e-16 3.67353270e-25 3.03418658e-15\n",
      " 2.69382576e-16 1.81970609e-22 1.56438887e-21 1.11142948e-17\n",
      " 1.21685816e-18 1.77849932e-14 2.61337271e-19 2.94667079e-17\n",
      " 1.88170196e-20 2.54555766e-21 5.79225892e-24 2.36355507e-18\n",
      " 3.86392404e-25 3.58258148e-25 1.16742732e-26 3.81467299e-24\n",
      " 1.34174494e-17 1.87716281e-21 1.12573371e-11 3.29973050e-21\n",
      " 5.94353999e-26 1.47427201e-23 1.57783577e-16 6.66661541e-18\n",
      " 8.04760035e-28 1.54745453e-11 1.83811543e-13 3.61597652e-23\n",
      " 3.79554859e-28 4.52261066e-17 9.82298074e-16 2.05752265e-18\n",
      " 1.07447537e-19 5.69743411e-17 1.33200988e-24 1.19386617e-14\n",
      " 9.30883597e-16 2.53629989e-22 2.29149279e-17 8.21637205e-15\n",
      " 3.73362187e-23 5.95443243e-26 4.45080169e-22 2.07753486e-15\n",
      " 1.62224858e-17 3.27747220e-23 2.55024266e-21 9.01217000e-19\n",
      " 1.30889644e-22 2.40336952e-25 6.74690796e-15 1.39542924e-12\n",
      " 8.46262997e-19 3.34754028e-14 4.14534206e-12 6.75912672e-20\n",
      " 1.10271373e-12 2.87529671e-23 6.53154288e-13 1.67656823e-14]\n",
      "adv pred: [2.70519984e-19 1.65948525e-15 5.14392289e-17 5.89335349e-17\n",
      " 5.37237650e-11 1.37469518e-17 6.96214657e-20 5.66845457e-22\n",
      " 1.02314477e-21 8.18542825e-15 1.11140505e-22 6.62586276e-20\n",
      " 9.85318135e-25 4.35945751e-21 1.19810089e-27 7.33071576e-14\n",
      " 1.17452922e-26 6.92167611e-22 1.45147398e-18 6.85165323e-18\n",
      " 3.57404346e-13 2.47687336e-23 9.59669321e-27 6.38092493e-15\n",
      " 2.03071372e-18 1.06030321e-23 5.88094477e-21 3.67402845e-14\n",
      " 4.68169916e-18 1.53561541e-16 3.19513737e-19 1.29115601e-16\n",
      " 1.83678185e-18 1.49321966e-17 5.10346266e-25 4.16538333e-20\n",
      " 1.71878414e-24 2.40801303e-13 1.46381096e-20 1.99786491e-19\n",
      " 8.47456421e-30 6.71017278e-12 4.85763265e-14 5.03902853e-01\n",
      " 2.45535793e-16 1.10976709e-19 6.62970940e-19 6.56719328e-24\n",
      " 1.78971099e-14 5.55938931e-22 4.15826037e-25 2.49602039e-18\n",
      " 1.17909714e-22 1.06459340e-19 3.94729141e-18 6.98726991e-18\n",
      " 5.62709384e-13 5.34911605e-18 6.52921316e-20 4.56299210e-22\n",
      " 4.93119034e-23 2.02888171e-15 3.12938226e-20 5.35248018e-27\n",
      " 4.47248738e-20 8.60021056e-22 1.75729140e-15 5.18204452e-20\n",
      " 6.21092360e-21 1.10861258e-18 4.35370491e-22 8.22599170e-16\n",
      " 1.99279771e-17 1.15648484e-23 1.48101407e-14 5.36907630e-23\n",
      " 1.17301014e-28 4.95863527e-01 1.77804967e-19 2.72578048e-13\n",
      " 2.33633313e-04 6.29799271e-18 8.14209471e-26 1.83758828e-10\n",
      " 3.67999905e-24 2.56386852e-21 6.20469327e-29 6.19825810e-22\n",
      " 9.13240857e-23 2.14550269e-15 3.19347676e-21 7.47307693e-14\n",
      " 6.18138754e-18 5.11607694e-24 2.44148058e-22 1.16357835e-23\n",
      " 1.22476771e-14 1.00963378e-19 4.97062566e-15 1.66664618e-17\n",
      " 4.55275815e-19 5.48795018e-14 3.18979694e-23 1.18758806e-22\n",
      " 3.86239789e-21 5.25738086e-23 9.19603304e-23 3.48366182e-24\n",
      " 5.77488026e-21 2.39811676e-21 8.44299810e-17 6.71629712e-22\n",
      " 4.17819716e-26 8.32811257e-21 3.03868034e-22 2.63526117e-15\n",
      " 1.99890506e-23 4.03481280e-19 1.36524663e-17 2.64859596e-14\n",
      " 7.51563070e-18 1.92062529e-18 5.95860402e-21 2.69287947e-16\n",
      " 3.15286449e-22 2.20431678e-20 3.44994193e-22 4.97649693e-19\n",
      " 5.68640829e-22 5.09483933e-20 7.72926450e-21 3.67624810e-19\n",
      " 5.01856111e-23 8.05433147e-26 5.26526251e-14 1.48297601e-21\n",
      " 6.06464682e-19 4.64294969e-16 1.11005585e-25 9.19788578e-17\n",
      " 1.49982549e-16 2.51053721e-24 9.66881240e-22 3.24762983e-21\n",
      " 9.26528842e-17 6.34538189e-17 4.33615468e-21 1.25449459e-17\n",
      " 4.80369828e-28 6.69080588e-21 7.94277198e-28 1.56532933e-16\n",
      " 1.31329009e-25 3.17191157e-23 1.12898122e-28 2.29136668e-27\n",
      " 1.50563014e-19 8.12436045e-23 5.02948464e-12 1.56176143e-25\n",
      " 3.94694939e-31 1.93552347e-21 1.86215080e-19 4.26028083e-18\n",
      " 6.38584062e-31 2.88814589e-12 6.23711017e-14 3.52666758e-21\n",
      " 4.55863073e-27 8.56595579e-16 2.37866059e-17 3.79232274e-19\n",
      " 2.15085668e-20 2.93263135e-16 2.28632864e-27 2.88353436e-15\n",
      " 1.33685028e-13 2.38318556e-23 7.56206771e-20 1.04193900e-16\n",
      " 5.03632228e-22 8.89200265e-25 3.08202497e-23 1.05314744e-13\n",
      " 8.00013354e-18 7.03948602e-20 4.16606027e-23 3.00780609e-23\n",
      " 1.14370425e-24 3.01757302e-24 5.23574411e-16 6.79982600e-14\n",
      " 7.79842423e-20 2.19970115e-16 7.08654056e-13 8.32836702e-21\n",
      " 8.99494867e-10 3.69155665e-24 5.66804850e-13 2.34750840e-16]\n"
     ]
    },
    {
     "data": {
      "image/png": "[encoded data removed]",
      "text/plain": [
       "<Figure size 432x288 with 3 Axes>"
      ]
     },
     "metadata": {},
     "output_type": "display_data"
    }
   ],
   "source": [
    "idx = 1\n",
    "import seaborn as sns\n",
    "plt.subplot(1,3,1)\n",
    "plt.imshow(img_list[idx][0,:,:,:])\n",
    "plt.subplot(1,3,2)\n",
    "plt.imshow(-delta_vec_list[idx]['x'][0,:,:,:]*epsilon)\n",
    "plt.subplot(1,3,3)\n",
    "plt.imshow(img_list[idx][0,:,:,:] - delta_vec_list[idx]['x'][0,:,:,:]*epsilon)\n",
    "\n",
    "print('orig pred: {}'.format(orig_prob_list[idx][0]))\n",
    "print('adv pred: {}'.format(adv_prob_list[idx][0]))"
   ]
  },
  {
   "cell_type": "code",
   "execution_count": 21,
   "metadata": {
    "scrolled": false
   },
   "outputs": [
    {
     "name": "stderr",
     "output_type": "stream",
     "text": [
      "/home/doi6/anaconda2/lib/python2.7/site-packages/matplotlib/axes/_axes.py:6462: UserWarning: The 'normed' kwarg is deprecated, and has been replaced by the 'density' kwarg.\n",
      "  warnings.warn(\"The 'normed' kwarg is deprecated, and has been \"\n",
      "/home/doi6/anaconda2/lib/python2.7/site-packages/matplotlib/axes/_axes.py:6462: UserWarning: The 'normed' kwarg is deprecated, and has been replaced by the 'density' kwarg.\n",
      "  warnings.warn(\"The 'normed' kwarg is deprecated, and has been \"\n"
     ]
    },
    {
     "data": {
      "text/plain": [
       "<matplotlib.axes._subplots.AxesSubplot at 0x7f4647429090>"
      ]
     },
     "execution_count": 21,
     "metadata": {},
     "output_type": "execute_result"
    },
    {
     "data": {
      "image/png": "[encoded data removed]",
      "text/plain": [
       "<Figure size 432x288 with 1 Axes>"
      ]
     },
     "metadata": {},
     "output_type": "display_data"
    }
   ],
   "source": [
    "sns.distplot(epsilon*delta_vec_list[idx]['x'][0,:,:,:].flatten())\n",
    "sns.distplot(img_list[idx][0,:,:,:].flatten())"
   ]
  },
  {
   "cell_type": "markdown",
   "metadata": {},
   "source": [
    "# tracking FGM trajectories"
   ]
  },
  {
   "cell_type": "code",
   "execution_count": 22,
   "metadata": {
    "scrolled": true
   },
   "outputs": [],
   "source": [
    "tracking_feat = []\n",
    "tracking_pred = []\n",
    "\n",
    "steps = 100\n",
    "largest_epsilon = 0.05\n",
    "for e_i in range(steps):\n",
    "    adv_img_i = tracking_img - largest_epsilon*e_i/steps * tracking_grad\n",
    "    [feat_i, pred_i] = sess.run([features, tf.nn.softmax(logits)], feed_dict={input_images: adv_img_i})\n",
    "    tracking_feat += [np.expand_dims(feat_i, 0)]\n",
    "    tracking_pred += [np.expand_dims(pred_i, 0)]\n",
    "tracking_feat = np.concatenate(tracking_feat,0).transpose(1,0,2) # (batch_size, steps, feature_dim)\n",
    "tracking_pred = np.argmax( np.concatenate(tracking_pred,0), -1).transpose(1,0) # (batch_size, steps)\n",
    "# save adversarial images\n",
    "np.save('tracking_pred', tracking_pred)\n",
    "np.save('tracking_feat', tracking_feat)"
   ]
  },
  {
   "cell_type": "code",
   "execution_count": 23,
   "metadata": {},
   "outputs": [
    {
     "name": "stdout",
     "output_type": "stream",
     "text": [
      "mean delta: 1.83771484375\n",
      "median delta: 1.1475\n"
     ]
    },
    {
     "data": {
      "image/png": "[encoded data removed]",
      "text/plain": [
       "<Figure size 432x288 with 1 Axes>"
      ]
     },
     "metadata": {},
     "output_type": "display_data"
    }
   ],
   "source": [
    "import matplotlib.pyplot as plt\n",
    "\n",
    "# # original testing data feature distribution\n",
    "# labels_val = train_labels[:train_feat.shape[0]]\n",
    "\n",
    "# f = plt.figure(figsize=(16,9))\n",
    "# c = ['#ff0000', '#00ff00', '#990000', '#00ffff', '#0000ff', \n",
    "#      '#ff00ff', '#ffff00', '#999900', '#009900', '#009999']\n",
    "# for i in range(2):\n",
    "#     plt.plot(train_feat[labels_val==i,0].flatten(), train_feat[labels_val==i,1].flatten(), '.', c=c[i])\n",
    "# plt.legend(['0', '1', '2', '3', '4', '5', '6', '7', '8', '9'])\n",
    "# miss_class = labels_val!=train_pred\n",
    "# for i, f_i in enumerate(miss_class):\n",
    "#     if f_i:\n",
    "#         plt.scatter(train_feat[i,0].flatten(), train_feat[i,1].flatten(), s=200, facecolors='none', edgecolors=c[train_pred[i]])\n",
    "\n",
    "\n",
    "# adversarial data feature trajectory\n",
    "N = batch_size\n",
    "# for i in range(N):\n",
    "#     if tracking_pred[i,-1] != tracking_pred[i,0]:\n",
    "#         plt.plot(tracking_feat[i, :, 0], tracking_feat[i, :, 1], 'k-')\n",
    "mean_delta = np.zeros(N)\n",
    "for i in range(N):\n",
    "    if tracking_pred[i,-1] == tracking_pred[i,0]:\n",
    "        mean_delta[i] += [largest_epsilon]\n",
    "    else:\n",
    "#         for j in range(steps):\n",
    "#             plt.plot(tracking_feat[i, j, 0], tracking_feat[i, j, 1], '*-', MarkerSize=13, color=c[tracking_pred[i,j]])\n",
    "        for j in range(steps):\n",
    "            if tracking_pred[i,j] != tracking_pred[i,0]:\n",
    "                mean_delta[i] += [largest_epsilon*j/steps*255.]\n",
    "                break\n",
    "print('mean delta: {}'.format(np.mean(mean_delta)))\n",
    "print('median delta: {}'.format(np.median(mean_delta)))\n",
    "plt.grid()\n",
    "plt.show()\n"
   ]
  },
  {
   "cell_type": "code",
   "execution_count": 24,
   "metadata": {},
   "outputs": [
    {
     "name": "stderr",
     "output_type": "stream",
     "text": [
      "/home/doi6/anaconda2/lib/python2.7/site-packages/matplotlib/axes/_axes.py:6462: UserWarning: The 'normed' kwarg is deprecated, and has been replaced by the 'density' kwarg.\n",
      "  warnings.warn(\"The 'normed' kwarg is deprecated, and has been \"\n"
     ]
    },
    {
     "data": {
      "text/plain": [
       "<matplotlib.axes._subplots.AxesSubplot at 0x7f464741de90>"
      ]
     },
     "execution_count": 24,
     "metadata": {},
     "output_type": "execute_result"
    },
    {
     "data": {
      "image/png": "[encoded data removed]",
      "text/plain": [
       "<Figure size 432x288 with 1 Axes>"
      ]
     },
     "metadata": {},
     "output_type": "display_data"
    }
   ],
   "source": [
    "sns.distplot(mean_delta)"
   ]
  }
 ],
 "metadata": {
  "anaconda-cloud": {},
  "kernelspec": {
   "display_name": "Python 2",
   "language": "python",
   "name": "python2"
  },
  "language_info": {
   "codemirror_mode": {
    "name": "ipython",
    "version": 2
   },
   "file_extension": ".py",
   "mimetype": "text/x-python",
   "name": "python",
   "nbconvert_exporter": "python",
   "pygments_lexer": "ipython2",
   "version": "2.7.15"
  }
 },
 "nbformat": 4,
 "nbformat_minor": 1
}
