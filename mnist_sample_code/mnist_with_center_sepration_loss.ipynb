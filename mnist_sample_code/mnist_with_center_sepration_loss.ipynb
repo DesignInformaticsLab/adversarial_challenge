{
 "cells": [
  {
   "cell_type": "markdown",
   "metadata": {
    "deletable": true,
    "editable": true
   },
   "source": [
    "## Parameters"
   ]
  },
  {
   "cell_type": "code",
   "execution_count": 1,
   "metadata": {
    "ExecuteTime": {
     "end_time": "2017-04-23T12:58:05.100181",
     "start_time": "2017-04-23T12:58:05.098147"
    },
    "collapsed": true,
    "deletable": true,
    "editable": true
   },
   "outputs": [],
   "source": [
    "LAMBDA = 0.5\n",
    "CENTER_LOSS_ALPHA = 0.5\n",
    "NUM_CLASSES = 2\n",
    "batch_size = 128\n"
   ]
  },
  {
   "cell_type": "markdown",
   "metadata": {
    "deletable": true,
    "editable": true
   },
   "source": [
    "## Import modules"
   ]
  },
  {
   "cell_type": "code",
   "execution_count": 2,
   "metadata": {
    "ExecuteTime": {
     "end_time": "2017-04-23T12:58:06.723861",
     "start_time": "2017-04-23T12:58:05.101724"
    },
    "collapsed": false,
    "deletable": true,
    "editable": true
   },
   "outputs": [
    {
     "name": "stderr",
     "output_type": "stream",
     "text": [
      "/home/hope-yao/anaconda2/lib/python2.7/site-packages/h5py/__init__.py:36: FutureWarning: Conversion of the second argument of issubdtype from `float` to `np.floating` is deprecated. In future, it will be treated as `np.float64 == np.dtype(float).type`.\n",
      "  from ._conv import register_converters as _register_converters\n"
     ]
    }
   ],
   "source": [
    "import os\n",
    "import numpy as np\n",
    "import tensorflow as tf\n",
    "import tflearn\n",
    "from tensorflow.examples.tutorials.mnist import input_data\n",
    "\n",
    "slim = tf.contrib.slim\n",
    "os.environ['CUDA_VISIBLE_DEVICES'] = '0'"
   ]
  },
  {
   "cell_type": "markdown",
   "metadata": {
    "deletable": true,
    "editable": true
   },
   "source": [
    "## Construct network"
   ]
  },
  {
   "cell_type": "code",
   "execution_count": 3,
   "metadata": {
    "ExecuteTime": {
     "end_time": "2017-04-23T12:58:06.729925",
     "start_time": "2017-04-23T12:58:06.724981"
    },
    "collapsed": false,
    "deletable": true,
    "editable": true
   },
   "outputs": [],
   "source": [
    "with tf.name_scope('input'):\n",
    "    input_images = tf.placeholder(tf.float32, shape=(batch_size,28,28,1), name='input_images')\n",
    "    labels = tf.placeholder(tf.int64, shape=(batch_size), name='labels')\n",
    "    \n",
    "global_step = tf.Variable(0, trainable=False, name='global_step')"
   ]
  },
  {
   "cell_type": "code",
   "execution_count": 4,
   "metadata": {
    "ExecuteTime": {
     "end_time": "2017-04-23T12:58:06.803814",
     "start_time": "2017-04-23T12:58:06.730853"
    },
    "code_folding": [],
    "collapsed": true,
    "deletable": true,
    "editable": true
   },
   "outputs": [],
   "source": [
    "def get_center_loss(features, labels, alpha, num_classes):\n",
    "    \"\"\"获取center loss及center的更新op\n",
    "    \n",
    "    Arguments:\n",
    "        features: Tensor,表征样本特征,一般使用某个fc层的输出,shape应该为[batch_size, feature_length].\n",
    "        labels: Tensor,表征样本label,非one-hot编码,shape应为[batch_size].\n",
    "        alpha: 0-1之间的数字,控制样本类别中心的学习率,细节参考原文.\n",
    "        num_classes: 整数,表明总共有多少个类别,网络分类输出有多少个神经元这里就取多少.\n",
    "    \n",
    "    Return：\n",
    "        loss: Tensor,可与softmax loss相加作为总的loss进行优化.\n",
    "        centers: Tensor,存储样本中心值的Tensor，仅查看样本中心存储的具体数值时有用.\n",
    "        centers_update_op: op,用于更新样本中心的op，在训练时需要同时运行该op，否则样本中心不会更新\n",
    "    \"\"\"\n",
    "    # 获取特征的维数，例如256维\n",
    "    len_features = features.get_shape()[1]\n",
    "    # 建立一个Variable,shape为[num_classes, len_features]，用于存储整个网络的样本中心，\n",
    "    # 设置trainable=False是因为样本中心不是由梯度进行更新的\n",
    "    centers = tf.get_variable('centers', [num_classes, len_features], dtype=tf.float32,\n",
    "        initializer=tf.constant_initializer(0), trainable=False)\n",
    "    # 将label展开为一维的，输入如果已经是一维的，则该动作其实无必要\n",
    "    labels = tf.reshape(labels, [-1])\n",
    "    \n",
    "    # 根据样本label,获取mini-batch中每一个样本对应的中心值\n",
    "    centers_batch = tf.gather(centers, labels)\n",
    "    # 计算loss\n",
    "    loss = tf.nn.l2_loss(features - centers_batch)\n",
    "    \n",
    "    # 当前mini-batch的特征值与它们对应的中心值之间的差\n",
    "    diff = centers_batch - features\n",
    "    \n",
    "    # 获取mini-batch中同一类别样本出现的次数,了解原理请参考原文公式(4)\n",
    "    unique_label, unique_idx, unique_count = tf.unique_with_counts(labels)\n",
    "    appear_times = tf.gather(unique_count, unique_idx)\n",
    "    appear_times = tf.reshape(appear_times, [-1, 1])\n",
    "    \n",
    "    diff = diff / tf.cast((1 + appear_times), tf.float32)\n",
    "    diff = alpha * diff\n",
    "    \n",
    "    centers_update_op = tf.scatter_sub(centers, labels, diff)\n",
    "    \n",
    "    return loss, centers, centers_update_op"
   ]
  },
  {
   "cell_type": "code",
   "execution_count": 5,
   "metadata": {
    "collapsed": false
   },
   "outputs": [],
   "source": [
    "def separation_loss(centers):\n",
    "    expanded_centers_0 = tf.expand_dims(centers,0)\n",
    "    expanded_centers_1 = tf.expand_dims(centers,1)\n",
    "    dist_matrix = tf.norm(expanded_centers_0 - expanded_centers_1, ord=2, axis=-1) # possiblly change to angular difference for high dimensional feature\n",
    "    mat_size = dist_matrix.get_shape().as_list()\n",
    "    mean_dist = tf.reduce_sum(dist_matrix) / mat_size[0] / (mat_size[1]-1)\n",
    "    loss = 1 / (mean_dist + 1e-3)\n",
    "    return loss"
   ]
  },
  {
   "cell_type": "code",
   "execution_count": 6,
   "metadata": {
    "ExecuteTime": {
     "end_time": "2017-04-23T12:58:06.909774",
     "start_time": "2017-04-23T12:58:06.804749"
    },
    "code_folding": [],
    "collapsed": false,
    "deletable": true,
    "editable": true
   },
   "outputs": [],
   "source": [
    "\n",
    "def inference(input_images, num_class=10, reuse=False):\n",
    "    with slim.arg_scope([slim.conv2d], kernel_size=3, padding='SAME'):\n",
    "        with slim.arg_scope([slim.max_pool2d], kernel_size=2):\n",
    "\n",
    "            x = slim.conv2d(input_images, num_outputs=32, scope='conv1_1')\n",
    "            x = slim.conv2d(x, num_outputs=32, scope='conv1_2')\n",
    "            x = slim.max_pool2d(x, scope='pool1')\n",
    "\n",
    "            x = slim.conv2d(x, num_outputs=64, scope='conv2_1')\n",
    "            x = slim.conv2d(x, num_outputs=64, scope='conv2_2')\n",
    "            x = slim.max_pool2d(x, scope='pool2')\n",
    "\n",
    "            x = slim.conv2d(x, num_outputs=128, scope='conv3_1')\n",
    "            x = slim.conv2d(x, num_outputs=128, scope='conv3_2')\n",
    "            x = slim.max_pool2d(x, scope='pool3')\n",
    "\n",
    "            x = slim.flatten(x, scope='flatten')\n",
    "\n",
    "            feature2 = x = slim.fully_connected(x, num_outputs=32, activation_fn=None, scope='fc1')\n",
    "\n",
    "            feature1 = x =slim.fully_connected(x, num_outputs=2, activation_fn=None, scope='fc2')\n",
    "\n",
    "            x = tflearn.prelu(x)\n",
    "\n",
    "            x = slim.fully_connected(x, num_outputs=num_class, activation_fn=None, scope='fc3')\n",
    "\n",
    "    feature_list = [feature1, feature2]\n",
    "    return x, feature_list"
   ]
  },
  {
   "cell_type": "code",
   "execution_count": 7,
   "metadata": {
    "ExecuteTime": {
     "end_time": "2017-04-23T12:58:07.002232",
     "start_time": "2017-04-23T12:58:06.911010"
    },
    "code_folding": [],
    "collapsed": true,
    "deletable": true,
    "editable": true
   },
   "outputs": [],
   "source": [
    "def build_network(input_images, labels, ratio=0.5, reuse=False):\n",
    "    logits, feature_list = inference(input_images, num_class=2)\n",
    "    \n",
    "    with tf.name_scope('loss'):\n",
    "        with tf.variable_scope('center_loss1'):\n",
    "            center_loss1, centers1, centers_update_op1 = get_center_loss(feature_list[0], labels, CENTER_LOSS_ALPHA, NUM_CLASSES)\n",
    "            separation_loss1 = separation_loss(centers1)\n",
    "        with tf.variable_scope('center_loss2'):\n",
    "            center_loss2, centers2, centers_update_op2 = get_center_loss(feature_list[1], labels, CENTER_LOSS_ALPHA, NUM_CLASSES)\n",
    "            separation_loss2 = separation_loss(centers2)\n",
    "        with tf.name_scope('softmax_loss'):\n",
    "            softmax_loss = tf.reduce_mean(tf.nn.sparse_softmax_cross_entropy_with_logits(labels=labels, logits=logits))\n",
    "        with tf.name_scope('total_loss'):\n",
    "            total_loss = softmax_loss + ratio * (center_loss1+100*separation_loss1)#(center_loss1*0.8 + center_loss2*0.2) * 4\n",
    "    \n",
    "    with tf.name_scope('acc'):\n",
    "        accuracy = tf.reduce_mean(tf.cast(tf.equal(tf.arg_max(logits, 1), labels), tf.float32))\n",
    "    \n",
    "    with tf.name_scope('loss/'):\n",
    "        tf.summary.scalar('CenterLoss1', center_loss1)\n",
    "        tf.summary.scalar('CenterLoss2', center_loss2)\n",
    "        tf.summary.scalar('SoftmaxLoss', softmax_loss)\n",
    "        tf.summary.scalar('TotalLoss', total_loss)\n",
    "        \n",
    "    centers_update_op_list = [centers_update_op1, centers_update_op2]\n",
    "    return logits, feature_list, total_loss, accuracy, centers_update_op_list"
   ]
  },
  {
   "cell_type": "code",
   "execution_count": 8,
   "metadata": {
    "ExecuteTime": {
     "end_time": "2017-04-23T12:58:07.300662",
     "start_time": "2017-04-23T12:58:07.004232"
    },
    "collapsed": false,
    "deletable": true,
    "editable": true
   },
   "outputs": [],
   "source": [
    "with tf.variable_scope(\"build_network\", reuse=False):\n",
    "    logits, feature_list, total_loss, accuracy, centers_update_op_list = build_network(input_images, labels, ratio=LAMBDA)\n",
    "features = feature_list[0]\n",
    "centers_update_op1 = centers_update_op_list[0]\n",
    "centers_update_op2 = centers_update_op_list[1]\n"
   ]
  },
  {
   "cell_type": "markdown",
   "metadata": {
    "deletable": true,
    "editable": true
   },
   "source": [
    "## Prepare data"
   ]
  },
  {
   "cell_type": "code",
   "execution_count": 9,
   "metadata": {
    "ExecuteTime": {
     "end_time": "2017-04-23T12:58:07.630486",
     "start_time": "2017-04-23T12:58:07.301877"
    },
    "collapsed": false,
    "deletable": true,
    "editable": true
   },
   "outputs": [
    {
     "name": "stdout",
     "output_type": "stream",
     "text": [
      "Extracting /tmp/mnist/train-images-idx3-ubyte.gz\n",
      "Extracting /tmp/mnist/train-labels-idx1-ubyte.gz\n",
      "Extracting /tmp/mnist/t10k-images-idx3-ubyte.gz\n",
      "Extracting /tmp/mnist/t10k-labels-idx1-ubyte.gz\n"
     ]
    }
   ],
   "source": [
    "mnist = input_data.read_data_sets('/tmp/mnist', reshape=False)"
   ]
  },
  {
   "cell_type": "code",
   "execution_count": 10,
   "metadata": {
    "collapsed": false,
    "scrolled": true
   },
   "outputs": [],
   "source": [
    "\n",
    "from tensorflow.contrib.data import Dataset, Iterator\n",
    "train_image_5 = mnist.train.images[mnist.train.labels==5]\n",
    "train_image_7 = mnist.train.images[mnist.train.labels==7]\n",
    "train_images = np.concatenate([train_image_5, train_image_7],0)\n",
    "train_labels = np.asarray( [0]*len(train_image_5) + [1]*len(train_image_7) )\n",
    "train_dataset = Dataset.from_tensor_slices((train_images, train_labels))\n",
    "train_dataset = train_dataset.shuffle(len(train_images))\n",
    "train_dataset = train_dataset.batch(batch_size)\n",
    "train_iterator = Iterator.from_structure(train_dataset.output_types,\n",
    "                                           train_dataset.output_shapes)\n",
    "#next_element = train_iterator.get_next()\n",
    "#sess.run(train_iterator.make_initializer(train_dataset))\n",
    "#print(sess.run(next_element)[1])"
   ]
  },
  {
   "cell_type": "code",
   "execution_count": 11,
   "metadata": {
    "collapsed": false,
    "scrolled": true
   },
   "outputs": [],
   "source": [
    "\n",
    "from tensorflow.contrib.data import Dataset, Iterator\n",
    "test_image_5 = mnist.test.images[mnist.test.labels==5]\n",
    "test_image_7 = mnist.test.images[mnist.test.labels==7]\n",
    "test_images = np.concatenate([test_image_5, test_image_7],0)\n",
    "test_labels = np.asarray( [0]*len(test_image_5) + [1]*len(test_image_7) )\n",
    "test_dataset = Dataset.from_tensor_slices((test_images, test_labels))\n",
    "test_dataset = test_dataset.shuffle(len(test_images))\n",
    "test_dataset = test_dataset.batch(batch_size)\n",
    "test_iterator = Iterator.from_structure(test_dataset.output_types,\n",
    "                                        test_dataset.output_shapes)\n",
    "\n",
    "#next_element = test_iterator.get_next()\n",
    "#sess.run(test_iterator.make_initializer(test_dataset))\n",
    "#print(sess.run(next_element)[1])"
   ]
  },
  {
   "cell_type": "code",
   "execution_count": 12,
   "metadata": {
    "collapsed": true
   },
   "outputs": [],
   "source": [
    "train_image_5 = mnist.train.images[mnist.train.labels==5]\n",
    "train_image_7 = mnist.train.images[mnist.train.labels==7]\n",
    "train_images = np.concatenate([train_image_5, train_image_7],0)\n",
    "train_labels = np.asarray( [0]*len(train_image_5) + [1]*len(train_image_7) )\n",
    "from random import shuffle\n",
    "idx = range(len(train_images))\n",
    "shuffle(idx)\n",
    "train_images = train_images[idx]\n",
    "train_labels = train_labels[idx]\n",
    "\n",
    "test_image_5 = mnist.test.images[mnist.test.labels==5]\n",
    "test_image_7 = mnist.test.images[mnist.test.labels==7]\n",
    "test_images = np.concatenate([test_image_5, test_image_7],0)\n",
    "test_labels = np.asarray( [0]*len(test_image_5) + [1]*len(test_image_7) )\n",
    "from random import shuffle\n",
    "idx = range(len(test_images))\n",
    "shuffle(idx)\n",
    "test_images = test_images[idx]\n",
    "test_labels = test_labels[idx]\n"
   ]
  },
  {
   "cell_type": "markdown",
   "metadata": {
    "deletable": true,
    "editable": true
   },
   "source": [
    "## Optimizer"
   ]
  },
  {
   "cell_type": "code",
   "execution_count": 13,
   "metadata": {
    "ExecuteTime": {
     "end_time": "2017-04-23T12:58:07.633505",
     "start_time": "2017-04-23T12:58:07.631587"
    },
    "collapsed": true,
    "deletable": true,
    "editable": true
   },
   "outputs": [],
   "source": [
    "optimizer = tf.train.AdamOptimizer(0.001)"
   ]
  },
  {
   "cell_type": "code",
   "execution_count": 14,
   "metadata": {
    "ExecuteTime": {
     "end_time": "2017-04-23T12:58:07.926784",
     "start_time": "2017-04-23T12:58:07.634493"
    },
    "collapsed": false,
    "deletable": true,
    "editable": true
   },
   "outputs": [],
   "source": [
    "with tf.control_dependencies([centers_update_op1, centers_update_op2]):\n",
    "    train_op = optimizer.minimize(total_loss, global_step=global_step)"
   ]
  },
  {
   "cell_type": "markdown",
   "metadata": {
    "deletable": true,
    "editable": true
   },
   "source": [
    "## Session and Summary"
   ]
  },
  {
   "cell_type": "code",
   "execution_count": 15,
   "metadata": {
    "ExecuteTime": {
     "end_time": "2017-04-23T12:58:07.929944",
     "start_time": "2017-04-23T12:58:07.927740"
    },
    "collapsed": false,
    "deletable": true,
    "editable": true
   },
   "outputs": [],
   "source": [
    "summary_op = tf.summary.merge_all()"
   ]
  },
  {
   "cell_type": "code",
   "execution_count": 16,
   "metadata": {
    "ExecuteTime": {
     "end_time": "2017-04-23T12:58:10.050499",
     "start_time": "2017-04-23T12:58:07.930866"
    },
    "collapsed": false,
    "deletable": true,
    "editable": true
   },
   "outputs": [],
   "source": [
    "sess = tf.Session()\n",
    "sess.run(tf.global_variables_initializer())\n",
    "sess.run(test_iterator.make_initializer(test_dataset))\n",
    "sess.run(train_iterator.make_initializer(train_dataset))\n",
    "writer = tf.summary.FileWriter('/tmp/mnist_log', sess.graph)"
   ]
  },
  {
   "cell_type": "markdown",
   "metadata": {
    "deletable": true,
    "editable": true
   },
   "source": [
    "## Train"
   ]
  },
  {
   "cell_type": "code",
   "execution_count": 17,
   "metadata": {
    "ExecuteTime": {
     "end_time": "2017-04-23T12:58:10.071755",
     "start_time": "2017-04-23T12:58:10.051998"
    },
    "collapsed": true,
    "deletable": true,
    "editable": true
   },
   "outputs": [],
   "source": [
    "mean_data = 0#np.mean(mnist.train.images, axis=0)"
   ]
  },
  {
   "cell_type": "code",
   "execution_count": 18,
   "metadata": {
    "ExecuteTime": {
     "end_time": "2017-04-23T12:59:49.036352",
     "start_time": "2017-04-23T12:58:10.073172"
    },
    "collapsed": false,
    "deletable": true,
    "editable": true,
    "scrolled": true
   },
   "outputs": [
    {
     "name": "stdout",
     "output_type": "stream",
     "text": [
      "epoch: 0, train_acc:0.5337, vali_acc:0.5354\n",
      "epoch: 1, train_acc:0.8920, vali_acc:0.9984\n",
      "epoch: 2, train_acc:0.9968, vali_acc:0.9995\n",
      "epoch: 3, train_acc:0.9993, vali_acc:1.0000\n",
      "epoch: 4, train_acc:0.9997, vali_acc:1.0000\n",
      "epoch: 5, train_acc:0.9999, vali_acc:1.0000\n",
      "epoch: 6, train_acc:1.0000, vali_acc:1.0000\n",
      "epoch: 7, train_acc:1.0000, vali_acc:0.9995\n",
      "epoch: 8, train_acc:1.0000, vali_acc:1.0000\n",
      "epoch: 9, train_acc:1.0000, vali_acc:1.0000\n"
     ]
    }
   ],
   "source": [
    "step = sess.run(global_step)\n",
    "for ep_i in range(10):\n",
    "    train_acc = []\n",
    "    for jj in range(train_images.shape[0]/batch_size):\n",
    "        _, summary_str, train_acc_i = sess.run(\n",
    "            [train_op, summary_op, accuracy],\n",
    "            feed_dict={\n",
    "                input_images: train_images[jj*batch_size:(1+jj)*batch_size],\n",
    "                labels: train_labels[jj*batch_size:(1+jj)*batch_size]\n",
    "            })\n",
    "        train_acc += [train_acc_i]\n",
    "\n",
    "    # writer.add_summary(summary_str, global_step=step)\n",
    "    test_acc = []\n",
    "    for jj in range(test_images.shape[0]/batch_size):\n",
    "        test_acc_i = sess.run(\n",
    "            accuracy,\n",
    "            feed_dict={\n",
    "                input_images: test_images[jj*batch_size:(1+jj)*batch_size],\n",
    "                labels: test_labels[jj*batch_size:(1+jj)*batch_size]\n",
    "            })\n",
    "        test_acc += [test_acc_i]\n",
    "    print((\"epoch: {}, train_acc:{:.4f}, vali_acc:{:.4f}\".\n",
    "          format(ep_i, np.mean(train_acc), np.mean(test_acc))))"
   ]
  },
  {
   "cell_type": "markdown",
   "metadata": {
    "deletable": true,
    "editable": true
   },
   "source": [
    "### Visualize train_data"
   ]
  },
  {
   "cell_type": "code",
   "execution_count": 19,
   "metadata": {
    "ExecuteTime": {
     "end_time": "2017-04-23T12:59:50.504392",
     "start_time": "2017-04-23T12:59:49.038455"
    },
    "collapsed": false,
    "deletable": true,
    "editable": true,
    "scrolled": false
   },
   "outputs": [
    {
     "data": {
      "image/png": "[encoded data removed]",
      "text/plain": [
       "<matplotlib.figure.Figure at 0x7f313b2e4a10>"
      ]
     },
     "metadata": {},
     "output_type": "display_data"
    }
   ],
   "source": [
    "train_feat = []\n",
    "train_pred = []\n",
    "for jj in range(train_images.shape[0]/batch_size):\n",
    "    [feat_i, pred_i] = sess.run([features, tf.nn.softmax(logits)], feed_dict={input_images:train_images[jj*batch_size:(1+jj)*batch_size]})\n",
    "    train_feat += [feat_i]\n",
    "    train_pred += [pred_i]\n",
    "train_feat = np.concatenate(train_feat,0)\n",
    "train_pred= np.argmax(np.concatenate(train_pred,0), 1)\n",
    "\n",
    "%matplotlib inline\n",
    "import matplotlib.pyplot as plt\n",
    "\n",
    "labels_val = train_labels[:train_feat.shape[0]]\n",
    "\n",
    "f = plt.figure(figsize=(16,9))\n",
    "c = ['#ff0000', '#00ff00', '#990000', '#00ffff', '#0000ff', \n",
    "     '#ff00ff', '#ffff00', '#999900', '#009900', '#009999']\n",
    "for i in range(2):\n",
    "    plt.plot(train_feat[labels_val==i,0].flatten(), train_feat[labels_val==i,1].flatten(), '.', c=c[i])\n",
    "plt.legend(['0', '1', '2', '3', '4', '5', '6', '7', '8', '9'])\n",
    "\n",
    "miss_class = labels_val!=train_pred\n",
    "for i, f_i in enumerate(miss_class):\n",
    "    if f_i:\n",
    "        plt.scatter(train_feat[i,0].flatten(), train_feat[i,1].flatten(), s=200, facecolors='none', edgecolors=c[train_pred[i]])\n",
    "\n",
    "plt.grid()\n",
    "plt.show()"
   ]
  },
  {
   "cell_type": "markdown",
   "metadata": {
    "deletable": true,
    "editable": true
   },
   "source": [
    "### Visualize test_data"
   ]
  },
  {
   "cell_type": "code",
   "execution_count": 20,
   "metadata": {
    "ExecuteTime": {
     "end_time": "2017-04-23T12:59:51.172781",
     "start_time": "2017-04-23T12:59:50.505331"
    },
    "collapsed": false,
    "deletable": true,
    "editable": true,
    "scrolled": false
   },
   "outputs": [
    {
     "data": {
      "image/png": "[encoded data removed]",
      "text/plain": [
       "<matplotlib.figure.Figure at 0x7f3139171d50>"
      ]
     },
     "metadata": {},
     "output_type": "display_data"
    }
   ],
   "source": [
    "testing_feat = []\n",
    "testing_pred = []\n",
    "for jj in range(test_images.shape[0]/batch_size):\n",
    "    [feat_i, pred_i] = sess.run([features, tf.nn.softmax(logits)], feed_dict={input_images: test_images[jj*batch_size:(1+jj)*batch_size]})\n",
    "    testing_feat += [feat_i]\n",
    "    testing_pred += [pred_i]\n",
    "testing_feat = np.concatenate(testing_feat,0)\n",
    "testing_pred = np.argmax( np.concatenate(testing_pred,0), 1) \n",
    "\n",
    "%matplotlib inline\n",
    "import matplotlib.pyplot as plt\n",
    "\n",
    "labels_val = test_labels[:testing_feat.shape[0]]\n",
    "\n",
    "f = plt.figure(figsize=(16,9))\n",
    "c = ['#ff0000', '#00ff00', '#990000', '#00ffff', '#0000ff', \n",
    "     '#ff00ff', '#ffff00', '#999900', '#009900', '#009999']\n",
    "for i in range(2):\n",
    "    plt.plot(testing_feat[labels_val==i,0].flatten(), testing_feat[labels_val==i,1].flatten(), '.', c=c[i])\n",
    "plt.legend(['0', '1', '2', '3', '4', '5', '6', '7', '8', '9'])\n",
    "\n",
    "miss_class = labels_val!=testing_pred\n",
    "for i, f_i in enumerate(miss_class):\n",
    "    if f_i:\n",
    "        plt.scatter(testing_feat[i,0].flatten(), testing_feat[i,1].flatten(), s=200, facecolors='none', edgecolors=c[testing_pred[i]])\n",
    "\n",
    "plt.grid()\n",
    "plt.show()"
   ]
  },
  {
   "cell_type": "markdown",
   "metadata": {},
   "source": [
    "# FGM attack"
   ]
  },
  {
   "cell_type": "code",
   "execution_count": 30,
   "metadata": {
    "collapsed": false,
    "scrolled": true
   },
   "outputs": [],
   "source": [
    "\n",
    "def get_attack_directions_lenet(input_pl_var, logits_var, label_pl, batch_xs, batch_ys, sess, epsilon=0.1):\n",
    "    '''\n",
    "    input_pl_var: variable of the starting placeholder of the graph, (bs, 28, 28, 1)\n",
    "    output: end point of the graph, after softmax and argmax, (bs, 1)\n",
    "    label_pl: placeholder of the ground truth label, used for untargeted attack, (bs, 1)\n",
    "    img_val: a particular image to be attacked, (1, 28, 28, 1)\n",
    "    label_val: the label associated with img_val, (1, 1)\n",
    "    '''\n",
    "    imsize = 28\n",
    "    \n",
    "#     temp = set(tf.all_variables())\n",
    "    # set target\n",
    "    adv_label = tf.ones_like(label_pl) - label_pl \n",
    "    # set loss\n",
    "    adversarial_loss = tf.nn.sparse_softmax_cross_entropy_with_logits(labels=adv_label, logits=logits_var) \n",
    "    # gradient direction\n",
    "    gradient_direction = tf.gradients(adversarial_loss, input_pl_var)[0]\n",
    "#     # apply gradients, for iterative methods\n",
    "#     optimizer = tf.train.AdamOptimizer(0.01)\n",
    "#     grads = optimizer.compute_gradients(adversarial_loss, var_list=input_pl_var)\n",
    "#     apply_gradient_op = optimizer.apply_gradients(grads)\n",
    "\n",
    "#     init_op = tf.initialize_variables(set(tf.all_variables()) - temp)\n",
    "\n",
    "    orth_transform = np.asarray([[(-1) ** j] * imsize for j in range(imsize)])\n",
    "    orth_transform = np.expand_dims(np.expand_dims(orth_transform, 0), -1)\n",
    "#     sess.run(init_op, feed_dict)\n",
    "\n",
    "    feed_dict = {\n",
    "                    input_pl_var: np.tile(batch_xs,(batch_size,1,1,1)),\n",
    "                    label_pl: np.tile(batch_ys,(batch_size))\n",
    "               }\n",
    "    gradient_direction_var = sess.run(gradient_direction, feed_dict)\n",
    "#     l2_norm = gradient_direction_var.reshape(batch_size,-1)\n",
    "#     l2_norm = np.linalg.norm( l2_norm, ord=2, axis=1)\n",
    "#     l2_norm = np.transpose(np.tile(l2_norm,(1, 1, 1, 1)),(3,0,1,2))\n",
    "#     delta = gradient_direction_var / l2_norm\n",
    "    delta = np.sign(gradient_direction_var)\n",
    "    delta_vec = {\n",
    "                    'x': delta,\n",
    "                    'y': delta[:, ::-1, ::-1, :] * orth_transform\n",
    "                 }\n",
    "\n",
    "    feed_dict = {\n",
    "                    input_pl_var: np.tile(batch_xs,(batch_size,1,1,1)),\n",
    "                    label_pl: np.tile(batch_ys,(batch_size))\n",
    "               }\n",
    "    orig_prob = sess.run(tf.nn.softmax(logits_var), feed_dict)\n",
    "\n",
    "    feed_dict = {\n",
    "                    input_pl_var: np.tile(batch_xs,(batch_size,1,1,1))-delta_vec['x']*epsilon,\n",
    "                    label_pl: np.tile(batch_ys,(batch_size))\n",
    "               }\n",
    "    adv_prob = sess.run(tf.nn.softmax(logits_var), feed_dict)\n",
    "    \n",
    "    return delta_vec, orig_prob, adv_prob\n",
    "\n",
    "#     attack_history = {}\n",
    "#     attack_history['x_hist'] = []\n",
    "#     attack_history['y_hist'] = []\n",
    "#     for i in range(50):\n",
    "#         _, adversarial_img, adversarial_pred = sess.run([apply_gradient_op, input_pl_var, output_var], feed_dict)\n",
    "#         attack_history['x_hist'] += [adversarial_img]\n",
    "#         attack_history['y_hist'] += [adversarial_pred]\n",
    "\n",
    "#     pred = {}\n",
    "#     pred['ground_truth'] = batch_ys[0]\n",
    "#     feed_dict_orig = {input_pl_var: batch_xs.reshape(1, imsize, imsize, 1)}\n",
    "#     pred['original'] = sess.run(output_var, feed_dict_orig)[0]\n",
    "#     feed_dict_attack = {input_pl_var: attack_history['x_hist'][-1].reshape(1, imsize, imsize, 1)}\n",
    "#     pred['attacked'] = sess.run(output_var, feed_dict_attack)[0]\n",
    "#     feed_dict_step = {input_pl_var: (delta_vec['x'] + batch_xs).reshape(1, imsize, imsize, 1)}\n",
    "#     pred['one_large_step'] = sess.run(output_var, feed_dict_step)[0]\n",
    "\n",
    "#     # output only when the attack is successful,\n",
    "#     if np.argmax(pred['attacked']) != np.argmax(pred['original']):\n",
    "#         # output only directions\n",
    "#         return batch_xs, batch_ys, delta_vec, attack_history\n",
    "\n",
    "input_pl_var = tf.Variable(input_images, name='input_pl_var')\n",
    "with tf.variable_scope(\"build_network\", reuse=True):\n",
    "    logits_var, feature_list, total_loss, accuracy, centers_update_op_list = build_network(input_pl_var, labels, ratio=LAMBDA, reuse=True)\n"
   ]
  },
  {
   "cell_type": "code",
   "execution_count": 31,
   "metadata": {
    "collapsed": false,
    "scrolled": true
   },
   "outputs": [
    {
     "name": "stdout",
     "output_type": "stream",
     "text": [
      "success index: 9\n"
     ]
    }
   ],
   "source": [
    "delta_vec_list = []\n",
    "img_list = []\n",
    "orig_prob_list = []\n",
    "adv_prob_list = []\n",
    "epsilon = 0.1\n",
    "N = batch_size\n",
    "attack_success_flag = []\n",
    "for i in range(N):\n",
    "    img_val = test_images[1000+i:1000+i+1]\n",
    "    label_val = test_labels[1000+i:1000+i+1]\n",
    "    delta_vec, orig_prob, adv_prob = get_attack_directions_lenet(input_pl_var, logits_var, labels, img_val, label_val, sess, epsilon=epsilon)\n",
    "\n",
    "    delta_vec_list += [delta_vec]\n",
    "    img_list += [img_val]\n",
    "    orig_prob_list += [orig_prob]\n",
    "    adv_prob_list += [adv_prob]\n",
    "    \n",
    "    if np.argmax(orig_prob[0]) != np.argmax(adv_prob[0]):\n",
    "        attack_success_flag += [1]\n",
    "        print('success index: {}'.format(i))\n",
    "    else:\n",
    "        attack_success_flag += [0]\n",
    "        \n",
    "tracking_img = np.concatenate(img_list,0)\n",
    "tracking_grad = np.concatenate([delta_vec_list[i]['x'][0:1] for i in range(batch_size)],0)"
   ]
  },
  {
   "cell_type": "code",
   "execution_count": 32,
   "metadata": {
    "collapsed": false
   },
   "outputs": [
    {
     "name": "stdout",
     "output_type": "stream",
     "text": [
      "label: [0]\n",
      "orig pred: [0.02070129 0.9792987 ]\n",
      "adv pred: [0.08143779 0.91856223]\n"
     ]
    },
    {
     "data": {
      "image/png": "[encoded data removed]",
      "text/plain": [
       "<matplotlib.figure.Figure at 0x7f2fe859dc90>"
      ]
     },
     "metadata": {},
     "output_type": "display_data"
    }
   ],
   "source": [
    "idx = 0\n",
    "import seaborn as sns\n",
    "plt.subplot(1,3,1)\n",
    "plt.imshow(img_list[idx][0,:,:,0])\n",
    "plt.subplot(1,3,2)\n",
    "plt.imshow(-delta_vec_list[idx]['x'][0,:,:,0]*epsilon)\n",
    "plt.subplot(1,3,3)\n",
    "plt.imshow(img_list[idx][0,:,:,0] - delta_vec_list[idx]['x'][0,:,:,0]*epsilon)\n",
    "\n",
    "print('label: {}'.format(label_val))\n",
    "print('orig pred: {}'.format(orig_prob_list[idx][0]))\n",
    "print('adv pred: {}'.format(adv_prob_list[idx][0]))"
   ]
  },
  {
   "cell_type": "code",
   "execution_count": 33,
   "metadata": {
    "collapsed": false,
    "scrolled": false
   },
   "outputs": [
    {
     "data": {
      "text/plain": [
       "<matplotlib.axes._subplots.AxesSubplot at 0x7f2fee243c10>"
      ]
     },
     "execution_count": 33,
     "metadata": {},
     "output_type": "execute_result"
    },
    {
     "data": {
      "image/png": "[encoded data removed]",
      "text/plain": [
       "<matplotlib.figure.Figure at 0x7f2fe8586c10>"
      ]
     },
     "metadata": {},
     "output_type": "display_data"
    }
   ],
   "source": [
    "sns.distplot(epsilon*delta_vec_list[idx]['x'][0,:,:,0].flatten())\n",
    "sns.distplot(img_list[idx][0,:,:,0].flatten())"
   ]
  },
  {
   "cell_type": "markdown",
   "metadata": {},
   "source": [
    "# tracking FGM trajectories"
   ]
  },
  {
   "cell_type": "code",
   "execution_count": 34,
   "metadata": {
    "collapsed": false
   },
   "outputs": [],
   "source": [
    "tracking_feat = []\n",
    "tracking_pred = []\n",
    "\n",
    "steps = 100\n",
    "largest_epsilon = 1.0\n",
    "for e_i in range(steps):\n",
    "    adv_img_i = tracking_img - largest_epsilon*e_i/steps * tracking_grad\n",
    "    [feat_i, pred_i] = sess.run([features, tf.nn.softmax(logits)], feed_dict={input_images: adv_img_i})\n",
    "    tracking_feat += [np.expand_dims(feat_i, 0)]\n",
    "    tracking_pred += [np.expand_dims(pred_i, 0)]\n",
    "tracking_feat = np.concatenate(tracking_feat,0).transpose(1,0,2) # (batch_size, steps, feature_dim)\n",
    "tracking_pred = np.argmax( np.concatenate(tracking_pred,0), -1).transpose(1,0) # (batch_size, steps)\n",
    "# save adversarial images\n",
    "np.save('tracking_pred', tracking_pred)\n",
    "np.save('tracking_feat', tracking_feat)"
   ]
  },
  {
   "cell_type": "code",
   "execution_count": 35,
   "metadata": {
    "collapsed": false
   },
   "outputs": [
    {
     "name": "stdout",
     "output_type": "stream",
     "text": [
      "mean delta: 0.67578125\n",
      "median delta: 0.745\n"
     ]
    },
    {
     "data": {
      "image/png": "[encoded data removed]",
      "text/plain": [
       "<matplotlib.figure.Figure at 0x7f2fe2356090>"
      ]
     },
     "metadata": {},
     "output_type": "display_data"
    }
   ],
   "source": [
    "import matplotlib.pyplot as plt\n",
    "\n",
    "# original testing data feature distribution\n",
    "labels_val = test_labels[:testing_feat.shape[0]]\n",
    "f = plt.figure(figsize=(16,9))\n",
    "c = ['#ff0000', '#00ff00', '#990000', '#00ffff', '#0000ff', \n",
    "     '#ff00ff', '#ffff00', '#999900', '#009900', '#009999']\n",
    "for i in range(2):\n",
    "    plt.plot(testing_feat[labels_val==i,0].flatten(), testing_feat[labels_val==i,1].flatten(), '.', c=c[i])\n",
    "plt.legend(['0', '1', '2', '3', '4', '5', '6', '7', '8', '9'])\n",
    "miss_class = labels_val!=testing_pred\n",
    "for i, f_i in enumerate(miss_class):\n",
    "    if f_i:\n",
    "        plt.scatter(testing_feat[i,0].flatten(), testing_feat[i,1].flatten(), s=200, facecolors='none', edgecolors=c[testing_pred[i]])\n",
    "\n",
    "\n",
    "# adversarial data feature trajectory\n",
    "N = batch_size\n",
    "for i in range(N):\n",
    "    if tracking_pred[i,-1] != tracking_pred[i,0]:\n",
    "        plt.plot(tracking_feat[i, :, 0], tracking_feat[i, :, 1], 'k-')\n",
    "mean_delta = np.zeros(N)\n",
    "for i in range(N):\n",
    "    if tracking_pred[i,-1] == tracking_pred[i,0]:\n",
    "        mean_delta[i] += [largest_epsilon]\n",
    "    else:\n",
    "        for j in range(steps):\n",
    "            plt.plot(tracking_feat[i, j, 0], tracking_feat[i, j, 1], '*-', MarkerSize=13, color=c[tracking_pred[i,j]])\n",
    "        for j in range(steps):\n",
    "            if tracking_pred[i,j] != tracking_pred[i,0]:\n",
    "                mean_delta[i] += [largest_epsilon*j/steps]\n",
    "                break\n",
    "print('mean delta: {}'.format(np.mean(mean_delta)))\n",
    "print('median delta: {}'.format(np.median(mean_delta)))\n",
    "plt.grid()\n",
    "plt.show()\n"
   ]
  },
  {
   "cell_type": "code",
   "execution_count": 36,
   "metadata": {
    "collapsed": false
   },
   "outputs": [
    {
     "data": {
      "text/plain": [
       "<matplotlib.axes._subplots.AxesSubplot at 0x7f2fe2508150>"
      ]
     },
     "execution_count": 36,
     "metadata": {},
     "output_type": "execute_result"
    },
    {
     "data": {
      "image/png": "[encoded data removed]",
      "text/plain": [
       "<matplotlib.figure.Figure at 0x7f2fe882d310>"
      ]
     },
     "metadata": {},
     "output_type": "display_data"
    }
   ],
   "source": [
    "sns.distplot(mean_delta)"
   ]
  },
  {
   "cell_type": "markdown",
   "metadata": {},
   "source": [
    "# on previous FGSM data"
   ]
  },
  {
   "cell_type": "code",
   "execution_count": 37,
   "metadata": {
    "ExecuteTime": {
     "end_time": "2017-04-23T12:59:51.177977",
     "start_time": "2017-04-23T12:59:51.174860"
    },
    "collapsed": false,
    "deletable": true,
    "editable": true,
    "scrolled": true
   },
   "outputs": [
    {
     "ename": "FailedPreconditionError",
     "evalue": "Attempting to use uninitialized value input_pl_var_1\n\t [[Node: input_pl_var_1/read = Identity[T=DT_FLOAT, _class=[\"loc:@input_pl_var_1\"], _device=\"/job:localhost/replica:0/task:0/gpu:0\"](input_pl_var_1)]]\n\t [[Node: build_network/fc2/BiasAdd/_9779 = _Recv[client_terminated=false, recv_device=\"/job:localhost/replica:0/task:0/cpu:0\", send_device=\"/job:localhost/replica:0/task:0/gpu:0\", send_device_incarnation=1, tensor_name=\"edge_198_build_network/fc2/BiasAdd\", tensor_type=DT_FLOAT, _device=\"/job:localhost/replica:0/task:0/cpu:0\"]()]]\n\nCaused by op u'input_pl_var_1/read', defined at:\n  File \"/home/hope-yao/anaconda2/lib/python2.7/runpy.py\", line 174, in _run_module_as_main\n    \"__main__\", fname, loader, pkg_name)\n  File \"/home/hope-yao/anaconda2/lib/python2.7/runpy.py\", line 72, in _run_code\n    exec code in run_globals\n  File \"/home/hope-yao/anaconda2/lib/python2.7/site-packages/ipykernel/__main__.py\", line 3, in <module>\n    app.launch_new_instance()\n  File \"/home/hope-yao/anaconda2/lib/python2.7/site-packages/traitlets/config/application.py\", line 596, in launch_instance\n    app.start()\n  File \"/home/hope-yao/anaconda2/lib/python2.7/site-packages/ipykernel/kernelapp.py\", line 442, in start\n    ioloop.IOLoop.instance().start()\n  File \"/home/hope-yao/anaconda2/lib/python2.7/site-packages/zmq/eventloop/ioloop.py\", line 162, in start\n    super(ZMQIOLoop, self).start()\n  File \"/home/hope-yao/anaconda2/lib/python2.7/site-packages/tornado/ioloop.py\", line 883, in start\n    handler_func(fd_obj, events)\n  File \"/home/hope-yao/anaconda2/lib/python2.7/site-packages/tornado/stack_context.py\", line 275, in null_wrapper\n    return fn(*args, **kwargs)\n  File \"/home/hope-yao/anaconda2/lib/python2.7/site-packages/zmq/eventloop/zmqstream.py\", line 440, in _handle_events\n    self._handle_recv()\n  File \"/home/hope-yao/anaconda2/lib/python2.7/site-packages/zmq/eventloop/zmqstream.py\", line 472, in _handle_recv\n    self._run_callback(callback, msg)\n  File \"/home/hope-yao/anaconda2/lib/python2.7/site-packages/zmq/eventloop/zmqstream.py\", line 414, in _run_callback\n    callback(*args, **kwargs)\n  File \"/home/hope-yao/anaconda2/lib/python2.7/site-packages/tornado/stack_context.py\", line 275, in null_wrapper\n    return fn(*args, **kwargs)\n  File \"/home/hope-yao/anaconda2/lib/python2.7/site-packages/ipykernel/kernelbase.py\", line 276, in dispatcher\n    return self.dispatch_shell(stream, msg)\n  File \"/home/hope-yao/anaconda2/lib/python2.7/site-packages/ipykernel/kernelbase.py\", line 228, in dispatch_shell\n    handler(stream, idents, msg)\n  File \"/home/hope-yao/anaconda2/lib/python2.7/site-packages/ipykernel/kernelbase.py\", line 391, in execute_request\n    user_expressions, allow_stdin)\n  File \"/home/hope-yao/anaconda2/lib/python2.7/site-packages/ipykernel/ipkernel.py\", line 199, in do_execute\n    shell.run_cell(code, store_history=store_history, silent=silent)\n  File \"/home/hope-yao/anaconda2/lib/python2.7/site-packages/IPython/core/interactiveshell.py\", line 2723, in run_cell\n    interactivity=interactivity, compiler=compiler, result=result)\n  File \"/home/hope-yao/anaconda2/lib/python2.7/site-packages/IPython/core/interactiveshell.py\", line 2825, in run_ast_nodes\n    if self.run_code(code, result):\n  File \"/home/hope-yao/anaconda2/lib/python2.7/site-packages/IPython/core/interactiveshell.py\", line 2885, in run_code\n    exec(code_obj, self.user_global_ns, self.user_ns)\n  File \"<ipython-input-30-1daac3991a99>\", line 81, in <module>\n    input_pl_var = tf.Variable(input_images, name='input_pl_var')\n  File \"/home/hope-yao/anaconda2/lib/python2.7/site-packages/tensorflow/python/ops/variables.py\", line 200, in __init__\n    expected_shape=expected_shape)\n  File \"/home/hope-yao/anaconda2/lib/python2.7/site-packages/tensorflow/python/ops/variables.py\", line 319, in _init_from_args\n    self._snapshot = array_ops.identity(self._variable, name=\"read\")\n  File \"/home/hope-yao/anaconda2/lib/python2.7/site-packages/tensorflow/python/ops/gen_array_ops.py\", line 1303, in identity\n    result = _op_def_lib.apply_op(\"Identity\", input=input, name=name)\n  File \"/home/hope-yao/anaconda2/lib/python2.7/site-packages/tensorflow/python/framework/op_def_library.py\", line 767, in apply_op\n    op_def=op_def)\n  File \"/home/hope-yao/anaconda2/lib/python2.7/site-packages/tensorflow/python/framework/ops.py\", line 2506, in create_op\n    original_op=self._default_original_op, op_def=op_def)\n  File \"/home/hope-yao/anaconda2/lib/python2.7/site-packages/tensorflow/python/framework/ops.py\", line 1269, in __init__\n    self._traceback = _extract_stack()\n\nFailedPreconditionError (see above for traceback): Attempting to use uninitialized value input_pl_var_1\n\t [[Node: input_pl_var_1/read = Identity[T=DT_FLOAT, _class=[\"loc:@input_pl_var_1\"], _device=\"/job:localhost/replica:0/task:0/gpu:0\"](input_pl_var_1)]]\n\t [[Node: build_network/fc2/BiasAdd/_9779 = _Recv[client_terminated=false, recv_device=\"/job:localhost/replica:0/task:0/cpu:0\", send_device=\"/job:localhost/replica:0/task:0/gpu:0\", send_device_incarnation=1, tensor_name=\"edge_198_build_network/fc2/BiasAdd\", tensor_type=DT_FLOAT, _device=\"/job:localhost/replica:0/task:0/cpu:0\"]()]]\n",
     "output_type": "error",
     "traceback": [
      "\u001b[1;31m---------------------------------------------------------------------------\u001b[0m",
      "\u001b[1;31mFailedPreconditionError\u001b[0m                   Traceback (most recent call last)",
      "\u001b[1;32m<ipython-input-37-7d6c919cf8b7>\u001b[0m in \u001b[0;36m<module>\u001b[1;34m()\u001b[0m\n\u001b[0;32m     24\u001b[0m \u001b[1;32mfor\u001b[0m \u001b[0mjj\u001b[0m \u001b[1;32min\u001b[0m \u001b[0mrange\u001b[0m\u001b[1;33m(\u001b[0m\u001b[0madv_img\u001b[0m\u001b[1;33m.\u001b[0m\u001b[0mshape\u001b[0m\u001b[1;33m[\u001b[0m\u001b[1;36m0\u001b[0m\u001b[1;33m]\u001b[0m\u001b[1;33m/\u001b[0m\u001b[0mbatch_size\u001b[0m\u001b[1;33m)\u001b[0m\u001b[1;33m:\u001b[0m\u001b[1;33m\u001b[0m\u001b[0m\n\u001b[0;32m     25\u001b[0m     acc_i, feat_i = sess.run([accuracy, features], feed_dict={input_images: adv_img[jj*batch_size:(1+jj)*batch_size]-mean_data,\n\u001b[1;32m---> 26\u001b[1;33m                                                               labels: adv_label[jj*batch_size:(1+jj)*batch_size]})\n\u001b[0m\u001b[0;32m     27\u001b[0m     \u001b[0mfeat\u001b[0m \u001b[1;33m+=\u001b[0m \u001b[1;33m[\u001b[0m\u001b[0mfeat_i\u001b[0m\u001b[1;33m]\u001b[0m\u001b[1;33m\u001b[0m\u001b[0m\n\u001b[0;32m     28\u001b[0m     \u001b[0macc\u001b[0m \u001b[1;33m+=\u001b[0m \u001b[1;33m[\u001b[0m\u001b[0macc_i\u001b[0m\u001b[1;33m]\u001b[0m\u001b[1;33m\u001b[0m\u001b[0m\n",
      "\u001b[1;32m/home/hope-yao/anaconda2/lib/python2.7/site-packages/tensorflow/python/client/session.pyc\u001b[0m in \u001b[0;36mrun\u001b[1;34m(self, fetches, feed_dict, options, run_metadata)\u001b[0m\n\u001b[0;32m    787\u001b[0m     \u001b[1;32mtry\u001b[0m\u001b[1;33m:\u001b[0m\u001b[1;33m\u001b[0m\u001b[0m\n\u001b[0;32m    788\u001b[0m       result = self._run(None, fetches, feed_dict, options_ptr,\n\u001b[1;32m--> 789\u001b[1;33m                          run_metadata_ptr)\n\u001b[0m\u001b[0;32m    790\u001b[0m       \u001b[1;32mif\u001b[0m \u001b[0mrun_metadata\u001b[0m\u001b[1;33m:\u001b[0m\u001b[1;33m\u001b[0m\u001b[0m\n\u001b[0;32m    791\u001b[0m         \u001b[0mproto_data\u001b[0m \u001b[1;33m=\u001b[0m \u001b[0mtf_session\u001b[0m\u001b[1;33m.\u001b[0m\u001b[0mTF_GetBuffer\u001b[0m\u001b[1;33m(\u001b[0m\u001b[0mrun_metadata_ptr\u001b[0m\u001b[1;33m)\u001b[0m\u001b[1;33m\u001b[0m\u001b[0m\n",
      "\u001b[1;32m/home/hope-yao/anaconda2/lib/python2.7/site-packages/tensorflow/python/client/session.pyc\u001b[0m in \u001b[0;36m_run\u001b[1;34m(self, handle, fetches, feed_dict, options, run_metadata)\u001b[0m\n\u001b[0;32m    995\u001b[0m     \u001b[1;32mif\u001b[0m \u001b[0mfinal_fetches\u001b[0m \u001b[1;32mor\u001b[0m \u001b[0mfinal_targets\u001b[0m\u001b[1;33m:\u001b[0m\u001b[1;33m\u001b[0m\u001b[0m\n\u001b[0;32m    996\u001b[0m       results = self._do_run(handle, final_targets, final_fetches,\n\u001b[1;32m--> 997\u001b[1;33m                              feed_dict_string, options, run_metadata)\n\u001b[0m\u001b[0;32m    998\u001b[0m     \u001b[1;32melse\u001b[0m\u001b[1;33m:\u001b[0m\u001b[1;33m\u001b[0m\u001b[0m\n\u001b[0;32m    999\u001b[0m       \u001b[0mresults\u001b[0m \u001b[1;33m=\u001b[0m \u001b[1;33m[\u001b[0m\u001b[1;33m]\u001b[0m\u001b[1;33m\u001b[0m\u001b[0m\n",
      "\u001b[1;32m/home/hope-yao/anaconda2/lib/python2.7/site-packages/tensorflow/python/client/session.pyc\u001b[0m in \u001b[0;36m_do_run\u001b[1;34m(self, handle, target_list, fetch_list, feed_dict, options, run_metadata)\u001b[0m\n\u001b[0;32m   1130\u001b[0m     \u001b[1;32mif\u001b[0m \u001b[0mhandle\u001b[0m \u001b[1;32mis\u001b[0m \u001b[0mNone\u001b[0m\u001b[1;33m:\u001b[0m\u001b[1;33m\u001b[0m\u001b[0m\n\u001b[0;32m   1131\u001b[0m       return self._do_call(_run_fn, self._session, feed_dict, fetch_list,\n\u001b[1;32m-> 1132\u001b[1;33m                            target_list, options, run_metadata)\n\u001b[0m\u001b[0;32m   1133\u001b[0m     \u001b[1;32melse\u001b[0m\u001b[1;33m:\u001b[0m\u001b[1;33m\u001b[0m\u001b[0m\n\u001b[0;32m   1134\u001b[0m       return self._do_call(_prun_fn, self._session, handle, feed_dict,\n",
      "\u001b[1;32m/home/hope-yao/anaconda2/lib/python2.7/site-packages/tensorflow/python/client/session.pyc\u001b[0m in \u001b[0;36m_do_call\u001b[1;34m(self, fn, *args)\u001b[0m\n\u001b[0;32m   1150\u001b[0m         \u001b[1;32mexcept\u001b[0m \u001b[0mKeyError\u001b[0m\u001b[1;33m:\u001b[0m\u001b[1;33m\u001b[0m\u001b[0m\n\u001b[0;32m   1151\u001b[0m           \u001b[1;32mpass\u001b[0m\u001b[1;33m\u001b[0m\u001b[0m\n\u001b[1;32m-> 1152\u001b[1;33m       \u001b[1;32mraise\u001b[0m \u001b[0mtype\u001b[0m\u001b[1;33m(\u001b[0m\u001b[0me\u001b[0m\u001b[1;33m)\u001b[0m\u001b[1;33m(\u001b[0m\u001b[0mnode_def\u001b[0m\u001b[1;33m,\u001b[0m \u001b[0mop\u001b[0m\u001b[1;33m,\u001b[0m \u001b[0mmessage\u001b[0m\u001b[1;33m)\u001b[0m\u001b[1;33m\u001b[0m\u001b[0m\n\u001b[0m\u001b[0;32m   1153\u001b[0m \u001b[1;33m\u001b[0m\u001b[0m\n\u001b[0;32m   1154\u001b[0m   \u001b[1;32mdef\u001b[0m \u001b[0m_extend_graph\u001b[0m\u001b[1;33m(\u001b[0m\u001b[0mself\u001b[0m\u001b[1;33m)\u001b[0m\u001b[1;33m:\u001b[0m\u001b[1;33m\u001b[0m\u001b[0m\n",
      "\u001b[1;31mFailedPreconditionError\u001b[0m: Attempting to use uninitialized value input_pl_var_1\n\t [[Node: input_pl_var_1/read = Identity[T=DT_FLOAT, _class=[\"loc:@input_pl_var_1\"], _device=\"/job:localhost/replica:0/task:0/gpu:0\"](input_pl_var_1)]]\n\t [[Node: build_network/fc2/BiasAdd/_9779 = _Recv[client_terminated=false, recv_device=\"/job:localhost/replica:0/task:0/cpu:0\", send_device=\"/job:localhost/replica:0/task:0/gpu:0\", send_device_incarnation=1, tensor_name=\"edge_198_build_network/fc2/BiasAdd\", tensor_type=DT_FLOAT, _device=\"/job:localhost/replica:0/task:0/cpu:0\"]()]]\n\nCaused by op u'input_pl_var_1/read', defined at:\n  File \"/home/hope-yao/anaconda2/lib/python2.7/runpy.py\", line 174, in _run_module_as_main\n    \"__main__\", fname, loader, pkg_name)\n  File \"/home/hope-yao/anaconda2/lib/python2.7/runpy.py\", line 72, in _run_code\n    exec code in run_globals\n  File \"/home/hope-yao/anaconda2/lib/python2.7/site-packages/ipykernel/__main__.py\", line 3, in <module>\n    app.launch_new_instance()\n  File \"/home/hope-yao/anaconda2/lib/python2.7/site-packages/traitlets/config/application.py\", line 596, in launch_instance\n    app.start()\n  File \"/home/hope-yao/anaconda2/lib/python2.7/site-packages/ipykernel/kernelapp.py\", line 442, in start\n    ioloop.IOLoop.instance().start()\n  File \"/home/hope-yao/anaconda2/lib/python2.7/site-packages/zmq/eventloop/ioloop.py\", line 162, in start\n    super(ZMQIOLoop, self).start()\n  File \"/home/hope-yao/anaconda2/lib/python2.7/site-packages/tornado/ioloop.py\", line 883, in start\n    handler_func(fd_obj, events)\n  File \"/home/hope-yao/anaconda2/lib/python2.7/site-packages/tornado/stack_context.py\", line 275, in null_wrapper\n    return fn(*args, **kwargs)\n  File \"/home/hope-yao/anaconda2/lib/python2.7/site-packages/zmq/eventloop/zmqstream.py\", line 440, in _handle_events\n    self._handle_recv()\n  File \"/home/hope-yao/anaconda2/lib/python2.7/site-packages/zmq/eventloop/zmqstream.py\", line 472, in _handle_recv\n    self._run_callback(callback, msg)\n  File \"/home/hope-yao/anaconda2/lib/python2.7/site-packages/zmq/eventloop/zmqstream.py\", line 414, in _run_callback\n    callback(*args, **kwargs)\n  File \"/home/hope-yao/anaconda2/lib/python2.7/site-packages/tornado/stack_context.py\", line 275, in null_wrapper\n    return fn(*args, **kwargs)\n  File \"/home/hope-yao/anaconda2/lib/python2.7/site-packages/ipykernel/kernelbase.py\", line 276, in dispatcher\n    return self.dispatch_shell(stream, msg)\n  File \"/home/hope-yao/anaconda2/lib/python2.7/site-packages/ipykernel/kernelbase.py\", line 228, in dispatch_shell\n    handler(stream, idents, msg)\n  File \"/home/hope-yao/anaconda2/lib/python2.7/site-packages/ipykernel/kernelbase.py\", line 391, in execute_request\n    user_expressions, allow_stdin)\n  File \"/home/hope-yao/anaconda2/lib/python2.7/site-packages/ipykernel/ipkernel.py\", line 199, in do_execute\n    shell.run_cell(code, store_history=store_history, silent=silent)\n  File \"/home/hope-yao/anaconda2/lib/python2.7/site-packages/IPython/core/interactiveshell.py\", line 2723, in run_cell\n    interactivity=interactivity, compiler=compiler, result=result)\n  File \"/home/hope-yao/anaconda2/lib/python2.7/site-packages/IPython/core/interactiveshell.py\", line 2825, in run_ast_nodes\n    if self.run_code(code, result):\n  File \"/home/hope-yao/anaconda2/lib/python2.7/site-packages/IPython/core/interactiveshell.py\", line 2885, in run_code\n    exec(code_obj, self.user_global_ns, self.user_ns)\n  File \"<ipython-input-30-1daac3991a99>\", line 81, in <module>\n    input_pl_var = tf.Variable(input_images, name='input_pl_var')\n  File \"/home/hope-yao/anaconda2/lib/python2.7/site-packages/tensorflow/python/ops/variables.py\", line 200, in __init__\n    expected_shape=expected_shape)\n  File \"/home/hope-yao/anaconda2/lib/python2.7/site-packages/tensorflow/python/ops/variables.py\", line 319, in _init_from_args\n    self._snapshot = array_ops.identity(self._variable, name=\"read\")\n  File \"/home/hope-yao/anaconda2/lib/python2.7/site-packages/tensorflow/python/ops/gen_array_ops.py\", line 1303, in identity\n    result = _op_def_lib.apply_op(\"Identity\", input=input, name=name)\n  File \"/home/hope-yao/anaconda2/lib/python2.7/site-packages/tensorflow/python/framework/op_def_library.py\", line 767, in apply_op\n    op_def=op_def)\n  File \"/home/hope-yao/anaconda2/lib/python2.7/site-packages/tensorflow/python/framework/ops.py\", line 2506, in create_op\n    original_op=self._default_original_op, op_def=op_def)\n  File \"/home/hope-yao/anaconda2/lib/python2.7/site-packages/tensorflow/python/framework/ops.py\", line 1269, in __init__\n    self._traceback = _extract_stack()\n\nFailedPreconditionError (see above for traceback): Attempting to use uninitialized value input_pl_var_1\n\t [[Node: input_pl_var_1/read = Identity[T=DT_FLOAT, _class=[\"loc:@input_pl_var_1\"], _device=\"/job:localhost/replica:0/task:0/gpu:0\"](input_pl_var_1)]]\n\t [[Node: build_network/fc2/BiasAdd/_9779 = _Recv[client_terminated=false, recv_device=\"/job:localhost/replica:0/task:0/cpu:0\", send_device=\"/job:localhost/replica:0/task:0/gpu:0\", send_device_incarnation=1, tensor_name=\"edge_198_build_network/fc2/BiasAdd\", tensor_type=DT_FLOAT, _device=\"/job:localhost/replica:0/task:0/cpu:0\"]()]]\n"
     ]
    }
   ],
   "source": [
    "adv_img = np.load('/home/hope-yao/Documents/TensorFlow_Center_Loss/MNIST_FGSMeps0.2_and_binarized_examples.npz_FILES/FGSM_features.npy')\n",
    "adv_img = np.expand_dims(adv_img, -1)\n",
    "\n",
    "# shuffled_adv_img = []\n",
    "# for img in adv_img:\n",
    "#     for i in range(12):\n",
    "#         for j in range(12):\n",
    "#             if random.random()<0.3:\n",
    "#                 patch = img[2*i:2*(i+1), 2*j:2*(j+1)] \n",
    "#                 idx = [0,1,2,3]\n",
    "#                 random.shuffle(idx) \n",
    "#                 patch = patch.flatten()\n",
    "#                 patch = patch[idx]\n",
    "#                 patch = patch.reshape((2,2,1))\n",
    "#                 img[2*i:2*(i+1), 2*j:2*(j+1)] = patch\n",
    "#     shuffled_adv_img += [img]\n",
    "# adv_img = np.asarray(shuffled_adv_img)\n",
    "\n",
    "adv_label = np.load('/home/hope-yao/Documents/TensorFlow_Center_Loss/MNIST_FGSMeps0.2_and_binarized_examples.npz_FILES/orig_target.npy')\n",
    "adv_label = np.argmax(adv_label,1)\n",
    "\n",
    "feat = []\n",
    "acc = []\n",
    "for jj in range(adv_img.shape[0]/batch_size):\n",
    "    acc_i, feat_i = sess.run([accuracy, features], feed_dict={input_images: adv_img[jj*batch_size:(1+jj)*batch_size]-mean_data,\n",
    "                                                              labels: adv_label[jj*batch_size:(1+jj)*batch_size]})\n",
    "    feat += [feat_i]\n",
    "    acc += [acc_i]\n",
    "feat = np.concatenate(feat,0)\n",
    "print('adv acc: {}'.format(np.mean(acc)))\n",
    "\n",
    "%matplotlib inline\n",
    "import matplotlib.pyplot as plt\n",
    "labels_val = adv_label[:feat.shape[0]]\n",
    "\n",
    "f = plt.figure(figsize=(16,9))\n",
    "c = ['#ff0000', '#ffff00', '#00ff00', '#00ffff', '#0000ff', \n",
    "     '#ff00ff', '#990000', '#999900', '#009900', '#009999']\n",
    "for i in range(10):\n",
    "    plt.plot(feat[labels_val==i,0].flatten(), feat[labels_val==i,1].flatten(), '.', c=c[i])\n",
    "plt.legend(['0', '1', '2', '3', '4', '5', '6', '7', '8', '9'])\n",
    "plt.grid()\n",
    "plt.show()"
   ]
  },
  {
   "cell_type": "code",
   "execution_count": null,
   "metadata": {
    "collapsed": false
   },
   "outputs": [],
   "source": [
    "% matplotlib inline\n",
    "import seaborn as sns\n",
    "import random\n",
    "img = adv_img[10,:,:,0]\n",
    "plt.subplot(1,2,1)\n",
    "plt.imshow(img)\n",
    "for i in range(12):\n",
    "    for j in range(12):\n",
    "        patch = img[2*i:2*(i+1), 2*j:2*(j+1)] \n",
    "        idx = [0,1,2,3]\n",
    "        random.shuffle(idx) \n",
    "        patch = patch.flatten()\n",
    "        patch = patch[idx]\n",
    "        patch = patch.reshape((2,2))\n",
    "        img[2*i:2*(i+1), 2*j:2*(j+1)] = patch\n",
    "plt.subplot(1,2,2)\n",
    "plt.imshow(img)"
   ]
  }
 ],
 "metadata": {
  "anaconda-cloud": {},
  "kernelspec": {
   "display_name": "Python [anaconda2]",
   "language": "python",
   "name": "Python [anaconda2]"
  },
  "language_info": {
   "codemirror_mode": {
    "name": "ipython",
    "version": 2
   },
   "file_extension": ".py",
   "mimetype": "text/x-python",
   "name": "python",
   "nbconvert_exporter": "python",
   "pygments_lexer": "ipython2",
   "version": "2.7.14"
  }
 },
 "nbformat": 4,
 "nbformat_minor": 1
}
